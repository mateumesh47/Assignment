{
 "cells": [
  {
   "cell_type": "code",
   "execution_count": 1,
   "id": "801e7fd1-6e55-4786-8c89-2b0aafe0630c",
   "metadata": {},
   "outputs": [
    {
     "name": "stdin",
     "output_type": "stream",
     "text": [
      "Enter a number: 5\n"
     ]
    },
    {
     "name": "stdout",
     "output_type": "stream",
     "text": [
      "The floating point value is: 5.0\n"
     ]
    }
   ],
   "source": [
    "#1\n",
    "inum=input(\"Enter a number:\")\n",
    "fnum=float(inum)\n",
    "print(\"The floating point value is:\",fnum)"
   ]
  },
  {
   "cell_type": "code",
   "execution_count": 6,
   "id": "5c210551-1d72-4ef8-b9a8-d0e65ebe683a",
   "metadata": {},
   "outputs": [
    {
     "name": "stdin",
     "output_type": "stream",
     "text": [
      "Enter a number: 2.5\n"
     ]
    },
    {
     "name": "stdout",
     "output_type": "stream",
     "text": [
      "Integer is: 2\n"
     ]
    }
   ],
   "source": [
    "#2\n",
    "fnum=float(input(\"Enter a number:\"))\n",
    "inum=int(fnum)\n",
    "print(\"Integer is:\",inum)"
   ]
  },
  {
   "cell_type": "code",
   "execution_count": 7,
   "id": "cf08b7bb-bfbf-4d30-905a-08c36b9e8b42",
   "metadata": {},
   "outputs": [
    {
     "name": "stdin",
     "output_type": "stream",
     "text": [
      "Enter a number: 412\n"
     ]
    },
    {
     "name": "stdout",
     "output_type": "stream",
     "text": [
      "String is: 412\n"
     ]
    }
   ],
   "source": [
    "#3\n",
    "inum=input(\"Enter a number:\")\n",
    "string=str(inum)\n",
    "print(\"String is:\",string)"
   ]
  },
  {
   "cell_type": "code",
   "execution_count": 11,
   "id": "dfb8c09d-cf8d-4eee-aee4-5dd892822b62",
   "metadata": {},
   "outputs": [
    {
     "name": "stdin",
     "output_type": "stream",
     "text": [
      "Enter size of list: 5\n",
      " 1\n",
      " 2\n",
      " 3\n",
      " 4\n",
      " 5\n"
     ]
    },
    {
     "name": "stdout",
     "output_type": "stream",
     "text": [
      "List: [1, 2, 3, 4, 5]\n",
      "Tuple: (1, 2, 3, 4, 5)\n"
     ]
    }
   ],
   "source": [
    "#4\n",
    "lst=[]\n",
    "n=int(input(\"Enter size of list:\"))\n",
    "for i in range(0,n):\n",
    "    ele=int(input())\n",
    "    lst.append(ele)\n",
    "\n",
    "print(\"List:\",lst)\n",
    "print(\"Tuple:\",tuple(lst))"
   ]
  },
  {
   "cell_type": "code",
   "execution_count": 14,
   "id": "6956438a-0e6a-42df-abff-3137316c0359",
   "metadata": {},
   "outputs": [
    {
     "name": "stdin",
     "output_type": "stream",
     "text": [
      "Enter tuple element: 4 5 3 2 1\n"
     ]
    },
    {
     "name": "stdout",
     "output_type": "stream",
     "text": [
      "Tuple: ('4', ' ', '5', ' ', '3', ' ', '2', ' ', '1')\n",
      "List: ['4', ' ', '5', ' ', '3', ' ', '2', ' ', '1']\n"
     ]
    }
   ],
   "source": [
    "#5\n",
    "tup=tuple(input(\"Enter tuple element:\"))\n",
    "\n",
    "print(\"Tuple:\",tup)\n",
    "print(\"List:\",list(tup))"
   ]
  },
  {
   "cell_type": "code",
   "execution_count": 18,
   "id": "5a9e52cd-d2cf-4454-9e5a-f60cafe22b43",
   "metadata": {},
   "outputs": [
    {
     "name": "stdin",
     "output_type": "stream",
     "text": [
      "Enter a number: 5\n"
     ]
    },
    {
     "name": "stdout",
     "output_type": "stream",
     "text": [
      "Binary number 101\n"
     ]
    }
   ],
   "source": [
    "#6\n",
    "num=int(input(\"Enter a number:\"))\n",
    "print(\"Binary number\",(bin(num)[2:]))    "
   ]
  },
  {
   "cell_type": "code",
   "execution_count": 21,
   "id": "1f01e418-6a98-4e34-8b14-842499bf139d",
   "metadata": {},
   "outputs": [
    {
     "name": "stdin",
     "output_type": "stream",
     "text": [
      "Enter a number: 0\n"
     ]
    },
    {
     "name": "stdout",
     "output_type": "stream",
     "text": [
      "The boolean value is: False\n"
     ]
    }
   ],
   "source": [
    "#7\n",
    "num=int(input(\"Enter a number:\"))\n",
    "print(\"The boolean value is:\",bool(num))"
   ]
  },
  {
   "cell_type": "code",
   "execution_count": null,
   "id": "2635e260-1c4c-4c5d-b369-7bd558fbf960",
   "metadata": {},
   "outputs": [],
   "source": []
  }
 ],
 "metadata": {
  "kernelspec": {
   "display_name": "Python 3 (ipykernel)",
   "language": "python",
   "name": "python3"
  },
  "language_info": {
   "codemirror_mode": {
    "name": "ipython",
    "version": 3
   },
   "file_extension": ".py",
   "mimetype": "text/x-python",
   "name": "python",
   "nbconvert_exporter": "python",
   "pygments_lexer": "ipython3",
   "version": "3.11.5"
  }
 },
 "nbformat": 4,
 "nbformat_minor": 5
}
