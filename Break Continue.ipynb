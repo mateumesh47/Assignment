{
 "cells": [
  {
   "cell_type": "code",
   "execution_count": 1,
   "id": "d30b85de-c2fb-45e0-bddb-ca708ced853e",
   "metadata": {},
   "outputs": [
    {
     "name": "stdout",
     "output_type": "stream",
     "text": [
      "1\n",
      "2\n",
      "3\n",
      "4\n"
     ]
    }
   ],
   "source": [
    "#1\n",
    "for i in range(1,11):\n",
    "    if(i==5):\n",
    "        break\n",
    "    print(i)"
   ]
  },
  {
   "cell_type": "code",
   "execution_count": 2,
   "id": "7f51074a-e374-4e4f-addd-03637422fa7e",
   "metadata": {},
   "outputs": [
    {
     "name": "stdout",
     "output_type": "stream",
     "text": [
      "1\n",
      "2\n",
      "3\n",
      "4\n",
      "5\n",
      "6\n",
      "stoping element will occure\n"
     ]
    }
   ],
   "source": [
    "#2\n",
    "lst=[1,2,3,4,5,6,7,8,9]\n",
    "stop=7\n",
    "for i in lst:\n",
    "    if(i==7):\n",
    "        print(\"stoping element will occure\")\n",
    "        break\n",
    "    print(i)\n",
    "    "
   ]
  },
  {
   "cell_type": "code",
   "execution_count": 4,
   "id": "9926d5d3-fdc6-4a66-8f0d-a172ae96fc7f",
   "metadata": {},
   "outputs": [
    {
     "name": "stdout",
     "output_type": "stream",
     "text": [
      "1\n",
      "Even number is skipped\n",
      "3\n",
      "Even number is skipped\n",
      "5\n",
      "Even number is skipped\n",
      "7\n",
      "Even number is skipped\n",
      "9\n",
      "Even number is skipped\n"
     ]
    }
   ],
   "source": [
    "#3\n",
    "for i in range(1,11):\n",
    "    if(i%2==0):\n",
    "        print(\"Even number is skipped\")\n",
    "        continue\n",
    "    print(i)"
   ]
  },
  {
   "cell_type": "code",
   "execution_count": 5,
   "id": "1e24fa30-73ba-4b53-ace0-47f12d634090",
   "metadata": {},
   "outputs": [
    {
     "name": "stdout",
     "output_type": "stream",
     "text": [
      "0\n",
      "1\n",
      "2\n",
      "3\n",
      "4\n",
      "5\n",
      "6\n",
      "7\n",
      "8\n",
      "9\n"
     ]
    }
   ],
   "source": [
    "#4\n",
    "for i in range(0,10):\n",
    "    print(i)"
   ]
  },
  {
   "cell_type": "code",
   "execution_count": 7,
   "id": "d97607e3-5beb-4910-96cf-e13b75cbc007",
   "metadata": {},
   "outputs": [
    {
     "name": "stdout",
     "output_type": "stream",
     "text": [
      "1 x 1 = 1\n",
      "1 x 2 = 2\n",
      "1 x 3 = 3\n",
      "1 x 4 = 4\n",
      "1 x 5 = 5\n",
      "1 x 6 = 6\n",
      "1 x 7 = 7\n",
      "1 x 8 = 8\n",
      "1 x 9 = 9\n",
      "1 x 10 = 10\n"
     ]
    }
   ],
   "source": [
    "#5\n",
    "for num in range(1,6):\n",
    "    for i in range(1,11):\n",
    "        print(num,\"x\",i,\"=\",num*i)\n",
    "    break"
   ]
  },
  {
   "cell_type": "code",
   "execution_count": 9,
   "id": "ac97bca0-14c2-44e2-baf4-76db6babda2c",
   "metadata": {},
   "outputs": [
    {
     "name": "stdin",
     "output_type": "stream",
     "text": [
      "Enter number: 10\n"
     ]
    }
   ],
   "source": [
    "#6\n",
    "num=int(input(\"Enter number:\"))\n",
    "i=0\n",
    "while i<=num:\n",
    "    if(i%2!=0):\n",
    "        print(i)\n",
    "    i+=1"
   ]
  },
  {
   "cell_type": "code",
   "execution_count": null,
   "id": "8dac4ca0-dbb1-4c43-973d-5fdb3a91471b",
   "metadata": {},
   "outputs": [],
   "source": []
  }
 ],
 "metadata": {
  "kernelspec": {
   "display_name": "Python 3 (ipykernel)",
   "language": "python",
   "name": "python3"
  },
  "language_info": {
   "codemirror_mode": {
    "name": "ipython",
    "version": 3
   },
   "file_extension": ".py",
   "mimetype": "text/x-python",
   "name": "python",
   "nbconvert_exporter": "python",
   "pygments_lexer": "ipython3",
   "version": "3.11.5"
  }
 },
 "nbformat": 4,
 "nbformat_minor": 5
}
