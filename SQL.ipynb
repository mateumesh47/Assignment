{
  "nbformat": 4,
  "nbformat_minor": 0,
  "metadata": {
    "colab": {
      "provenance": [],
      "authorship_tag": "ABX9TyM6EkrOLNt3k7mct34Jw2Y3"
    },
    "kernelspec": {
      "name": "python3",
      "display_name": "Python 3"
    },
    "language_info": {
      "name": "python"
    }
  },
  "cells": [
    {
      "cell_type": "code",
      "execution_count": null,
      "metadata": {
        "id": "kDs8Iy2TmPPd"
      },
      "outputs": [],
      "source": [
        "#1\n",
        "create table employees(\n",
        "    emp_id int not null primary key,\n",
        "    emp_name char(20) not null,\n",
        "    age int not null check (age>=18),\n",
        "    email varchar(20) unique,\n",
        "    salary decimal(10,2) default 30000);"
      ]
    },
    {
      "cell_type": "code",
      "source": [
        "#2\n",
        "Purpose of Constraints in a Database:\n",
        "Constraints are rules that are applied to columns in a database table. They help ensure the accuracy and reliability of the data.\n",
        "By enforcing certain conditions, constraints prevent invalid data from being entered into the table, helping to maintain data integrity.\n",
        "\n",
        "1.not null\n",
        "emp_name varchar(255) not null\n",
        "\n",
        "2.primary key\n",
        "emp_id int primary key\n",
        "\n",
        "3.check\n",
        "age int check (age>=18)\n",
        "\n",
        "4.unique\n",
        "email varchar(20) unique\n",
        "\n",
        "5.default\n",
        "salary int default 30000"
      ],
      "metadata": {
        "id": "O2NamsVmmRj3"
      },
      "execution_count": null,
      "outputs": []
    },
    {
      "cell_type": "code",
      "source": [
        "#3\n",
        "\n",
        "1. Why Apply the NOT NULL Constraint to a Column?\n",
        "   The NOT NULL constraint ensures that a column must always have a value. It prevents missing or undefined values in that column.\n",
        "\n",
        "2. Can a Primary Key Contain NULL Values?\n",
        "   No, a primary key cannot contain NULL values.\n",
        "\n",
        "   Justification:\n",
        "   A primary key uniquely identifies each row in a table, and NULL represents the absence of a value or an unknown value.\n",
        "   If a primary key had NULL values, it would mean that some rows have no identifier or that rows with NULL could not be distinguished from one another.\n",
        "\n"
      ],
      "metadata": {
        "id": "auyBQknKmUj-"
      },
      "execution_count": null,
      "outputs": []
    },
    {
      "cell_type": "code",
      "source": [
        "#4\n",
        "create table employees(\n",
        "    emp_id int,\n",
        "    emp_name char(20),\n",
        "    age int,\n",
        "    email varchar(20),\n",
        "    salary int);\n",
        "\n",
        "  Adding constrain\n",
        "alter table employees add constrain unique_email unique(email);\n",
        "alter table employees add constrain check_age check(age>=18);\n",
        "\n",
        "  removing constrain\n",
        "alter table employees drop constrain unique_email;"
      ],
      "metadata": {
        "id": "3Z3fU0bnma36"
      },
      "execution_count": null,
      "outputs": []
    },
    {
      "cell_type": "code",
      "source": [
        "#5\n",
        "Insert Operation:\n",
        "If you try to insert a record that violates a constraint, the database will reject the entire operation, and no data will be added.\n",
        "\n",
        "Update Operation:\n",
        "If an update causes the data to violate a constraint (e.g., updating a foreign key to a non-existent value), the operation will be stopped, and the update will not be applied.\n",
        "\n",
        "CREATE TABLE employees(\n",
        "    emp_id INT PRIMARY KEY,\n",
        "    name VARCHAR(50));\n",
        "\n",
        "Error Message:\n",
        "Violation of PRIMARY KEY constraint 'PK__employees'. Cannot insert duplicate key in object 'dbo.employees'."
      ],
      "metadata": {
        "id": "K05hns4XmcKI"
      },
      "execution_count": null,
      "outputs": []
    },
    {
      "cell_type": "code",
      "source": [
        "#6\n",
        "mysql> alter table products add primary key(product_id);\n",
        "       Query OK, 0 rows affected (0.05 sec)\n",
        "       Records: 0  Duplicates: 0  Warnings: 0\n",
        "\n",
        "mysql> alter table products modify column price decimal(10,2) default 50.00;\n",
        "       Query OK, 0 rows affected (0.01 sec)\n",
        "       Records: 0  Duplicates: 0  Warnings: 0"
      ],
      "metadata": {
        "id": "esIDzcFanbN-"
      },
      "execution_count": null,
      "outputs": []
    },
    {
      "cell_type": "code",
      "source": [
        "#7\n",
        "mysql> select students.student_name,classes.class_name from students inner join classes on students.classe_id=classes.class_id;"
      ],
      "metadata": {
        "id": "TVTmr7MerBJg"
      },
      "execution_count": null,
      "outputs": []
    },
    {
      "cell_type": "code",
      "source": [
        "#8\n",
        "SELECT\n",
        "    o.order_id,\n",
        "    c.customer_name,\n",
        "    p.product_name\n",
        "FROM\n",
        "    Customers c\n",
        "INNER JOIN Orders o ON c.customer_id = o.customer_id\n",
        "LEFT JOIN Products p ON o.order_id = p.order_id;"
      ],
      "metadata": {
        "id": "8WmEOwQrrzAY"
      },
      "execution_count": null,
      "outputs": []
    },
    {
      "cell_type": "code",
      "source": [
        "#9\n",
        "SELECT\n",
        "    p.product_name,\n",
        "    SUM(s.amount) AS total_sales\n",
        "FROM\n",
        "    Products p\n",
        "INNER JOIN Sales s ON p.product_id = s.product_id\n",
        "GROUP BY\n",
        "    p.product_name;"
      ],
      "metadata": {
        "id": "-QLh6lYit3xr"
      },
      "execution_count": null,
      "outputs": []
    },
    {
      "cell_type": "code",
      "source": [
        "#10\n",
        "SELECT\n",
        "    o.order_id,\n",
        "    c.customer_name,\n",
        "    od.quantity\n",
        "FROM\n",
        "    Orders o\n",
        "INNER JOIN Customers c ON o.customer_id = c.customer_id\n",
        "INNER JOIN Order_Details od ON o.order_id = od.order_id;"
      ],
      "metadata": {
        "id": "A0z2SZE1uhge"
      },
      "execution_count": null,
      "outputs": []
    },
    {
      "cell_type": "code",
      "source": [],
      "metadata": {
        "id": "xQwt4i7awlgw"
      },
      "execution_count": null,
      "outputs": []
    },
    {
      "cell_type": "code",
      "source": [
        "#SQL command\n",
        "#1\n",
        "SELECT\n",
        "    TABLE_NAME,\n",
        "    COLUMN_NAME\n",
        "FROM\n",
        "    information_schema.KEY_COLUMN_USAGE\n",
        "WHERE\n",
        "    TABLE_SCHEMA = 'mavenmovies'\n",
        "    AND CONSTRAINT_NAME = 'PRIMARY'\n",
        "ORDER BY\n",
        "    TABLE_NAME, ORDINAL_POSITION;"
      ],
      "metadata": {
        "id": "rzuqu4JXu1NC"
      },
      "execution_count": null,
      "outputs": []
    },
    {
      "cell_type": "code",
      "source": [
        "#2\n",
        "select * from actor;\n",
        "desc actor;"
      ],
      "metadata": {
        "id": "w7TreYkC3hJk"
      },
      "execution_count": null,
      "outputs": []
    },
    {
      "cell_type": "code",
      "source": [
        "#3\n",
        "select * from customer;\n",
        "desc customer;"
      ],
      "metadata": {
        "id": "7zhUt5BW4GLg"
      },
      "execution_count": null,
      "outputs": []
    },
    {
      "cell_type": "code",
      "source": [
        "#4\n",
        "select country from country;"
      ],
      "metadata": {
        "id": "zPR6O2p64ZSN"
      },
      "execution_count": null,
      "outputs": []
    },
    {
      "cell_type": "code",
      "source": [
        "#5\n",
        "select customer_id,first_name from customer where active=1;"
      ],
      "metadata": {
        "id": "AvLXmKBv4p3B"
      },
      "execution_count": null,
      "outputs": []
    },
    {
      "cell_type": "code",
      "source": [
        "#6\n",
        "select rental_id from rental where staff_id=1;"
      ],
      "metadata": {
        "id": "QZn0ELir5LPM"
      },
      "execution_count": null,
      "outputs": []
    },
    {
      "cell_type": "code",
      "source": [
        "#7\n",
        "select title from film where rental_duration>5;"
      ],
      "metadata": {
        "id": "6boN3qwU5xpf"
      },
      "execution_count": null,
      "outputs": []
    },
    {
      "cell_type": "code",
      "source": [
        "#8\n",
        "select title from film where replacement_cost>15 and replacement_cost<20;"
      ],
      "metadata": {
        "id": "YLKenHjD6dJF"
      },
      "execution_count": null,
      "outputs": []
    },
    {
      "cell_type": "code",
      "source": [
        "#9\n",
        "select count(distinct(first_name)) from actor;"
      ],
      "metadata": {
        "id": "pUx5FBou7F5l"
      },
      "execution_count": null,
      "outputs": []
    },
    {
      "cell_type": "code",
      "source": [
        "#10\n",
        "select * from customer limit 10;"
      ],
      "metadata": {
        "id": "TKredWXv7tQ2"
      },
      "execution_count": null,
      "outputs": []
    },
    {
      "cell_type": "code",
      "source": [
        "#11\n",
        "SELECT * from customer where first_name like 'b%' limit 3;"
      ],
      "metadata": {
        "id": "VtqKwzTJ8ON4"
      },
      "execution_count": null,
      "outputs": []
    },
    {
      "cell_type": "code",
      "source": [
        "#12\n",
        "select title from film where rating='G' limit 5;"
      ],
      "metadata": {
        "id": "_N7daLX_8naD"
      },
      "execution_count": null,
      "outputs": []
    },
    {
      "cell_type": "code",
      "source": [
        "#13\n",
        "select * from customer where first_name like 'a%';"
      ],
      "metadata": {
        "id": "jF7VZYqM87yG"
      },
      "execution_count": null,
      "outputs": []
    },
    {
      "cell_type": "code",
      "source": [
        "#14\n",
        "select * from customer where first_name like '%a';"
      ],
      "metadata": {
        "id": "X_7HLDFd9YVA"
      },
      "execution_count": null,
      "outputs": []
    },
    {
      "cell_type": "code",
      "source": [
        "#15\n",
        "select city_id,city from city where city like ('a%' and '%a') limit 4;"
      ],
      "metadata": {
        "id": "MrL17Nhtq1xX"
      },
      "execution_count": null,
      "outputs": []
    },
    {
      "cell_type": "code",
      "source": [
        "#16\n",
        "select customer_id,first_name from customer where first_name like '%ni%';"
      ],
      "metadata": {
        "id": "a96gh0Dmrldk"
      },
      "execution_count": null,
      "outputs": []
    },
    {
      "cell_type": "code",
      "source": [
        "#17\n",
        "select * from customer where first_name like '_r%';"
      ],
      "metadata": {
        "id": "ygb9IVIDsFwV"
      },
      "execution_count": null,
      "outputs": []
    },
    {
      "cell_type": "code",
      "source": [
        "#18\n",
        "select * from customer where first_name like 'a%' and char_length(first_name)>=5;"
      ],
      "metadata": {
        "id": "--Cq-uBQsq1j"
      },
      "execution_count": null,
      "outputs": []
    },
    {
      "cell_type": "code",
      "source": [
        "#19\n",
        "select * from customer where first_name like 'a%' and '%o';"
      ],
      "metadata": {
        "id": "2tt0VEyutRVc"
      },
      "execution_count": null,
      "outputs": []
    },
    {
      "cell_type": "code",
      "source": [
        "#20\n",
        "select * from film where rating in('PG','PG-13');"
      ],
      "metadata": {
        "id": "SgoKa6hgtm-7"
      },
      "execution_count": null,
      "outputs": []
    },
    {
      "cell_type": "code",
      "source": [
        "#21\n",
        "select * from film where length between 50 and 100;"
      ],
      "metadata": {
        "id": "vFO2NAOeuI2Q"
      },
      "execution_count": null,
      "outputs": []
    },
    {
      "cell_type": "code",
      "source": [
        "#22\n",
        "select * from actor limit 50;"
      ],
      "metadata": {
        "id": "SwDxZ0mZuf_r"
      },
      "execution_count": null,
      "outputs": []
    },
    {
      "cell_type": "code",
      "source": [
        "#23\n",
        "select distinct film_id from inventory;"
      ],
      "metadata": {
        "id": "Q9PrHd01uwHQ"
      },
      "execution_count": null,
      "outputs": []
    },
    {
      "cell_type": "code",
      "source": [],
      "metadata": {
        "id": "8LzFUaBFwhvB"
      },
      "execution_count": null,
      "outputs": []
    },
    {
      "cell_type": "code",
      "source": [
        "#function\n",
        "#1\n",
        "select count(rental_id) from rental;"
      ],
      "metadata": {
        "id": "RPpx8UkGvKce"
      },
      "execution_count": null,
      "outputs": []
    },
    {
      "cell_type": "code",
      "source": [
        "#2\n",
        "select avg(datediff(return_date,rental_date)) as avg_rental_duration from rental;"
      ],
      "metadata": {
        "id": "oruEba7Rwi1U"
      },
      "execution_count": null,
      "outputs": []
    },
    {
      "cell_type": "code",
      "source": [
        "#3\n",
        "select upper(first_name) as first_name,upper(last_name) as last_name from customer;"
      ],
      "metadata": {
        "id": "fgU3rO0zxXcN"
      },
      "execution_count": null,
      "outputs": []
    },
    {
      "cell_type": "code",
      "source": [
        "#4\n",
        "select rental_id,month(rental_date) as rental_month from rental;"
      ],
      "metadata": {
        "id": "zScj7WYcxtTJ"
      },
      "execution_count": null,
      "outputs": []
    },
    {
      "cell_type": "code",
      "source": [
        "#5\n",
        "select customer_id,count(*) from rental group by customer_id;"
      ],
      "metadata": {
        "id": "EQNm5sxDyI36"
      },
      "execution_count": null,
      "outputs": []
    },
    {
      "cell_type": "code",
      "source": [
        "#6\n",
        "select i.store_id,sum(p.amount) as total_revenue\n",
        "from payment p\n",
        "join rental r on p.rental_id = r.rental_id\n",
        "join inventory i on r.inventory_id = i.inventory_id\n",
        "group by i.store_id;"
      ],
      "metadata": {
        "id": "Z_cPe0h5zHOh"
      },
      "execution_count": null,
      "outputs": []
    },
    {
      "cell_type": "code",
      "source": [
        "#7\n",
        "select category_id,count(rental.rental_id)\n",
        "from film_category\n",
        "join film on film_category.film_id=film.film_id\n",
        "join inventory on film.film_id=inventory.film_id\n",
        "join rental on inventory.inventory_id=rental.inventory_id\n",
        "group by film_category.category_id;"
      ],
      "metadata": {
        "id": "aPuLNwDX1Wik"
      },
      "execution_count": null,
      "outputs": []
    },
    {
      "cell_type": "code",
      "source": [
        "#8\n",
        "select language.name,avg(film.rental_rate)\n",
        "from language\n",
        "join film on film.language_id=language.language_id\n",
        "group by language.name"
      ],
      "metadata": {
        "id": "CkXVdpqA5EJb"
      },
      "execution_count": null,
      "outputs": []
    },
    {
      "cell_type": "code",
      "source": [
        "#joins\n",
        "#9\n",
        "select film.title,customer.first_name,customer.last_name\n",
        "from film\n",
        "join inventory on inventory.film_id=film.film_id\n",
        "join rental on rental.inventory_id=inventory.inventory_id\n",
        "join customer on rental.customer_id=customer.customer_id;"
      ],
      "metadata": {
        "id": "pw_voUEu6fT8"
      },
      "execution_count": null,
      "outputs": []
    },
    {
      "cell_type": "code",
      "source": [
        "#10\n",
        "select actor.first_name,actor.last_name\n",
        "from actor\n",
        "join film_actor on actor.actor_id=film_actor.actor_id\n",
        "join film on film_actor.film_id=film.film_id\n",
        "where film.title='Gone with the Wind';"
      ],
      "metadata": {
        "id": "b7hMv4Hv8ppv"
      },
      "execution_count": null,
      "outputs": []
    },
    {
      "cell_type": "code",
      "source": [
        "#11\n",
        "select customer.first_name,customer.last_name,sum(payment.amount)\n",
        "from customer\n",
        "join payment on customer.customer_id=payment.customer_id\n",
        "join rental on payment.rental_id=rental.rental_id\n",
        "group by customer.first_name,customer.last_name;"
      ],
      "metadata": {
        "id": "E_-N5mAa-Pjl"
      },
      "execution_count": null,
      "outputs": []
    },
    {
      "cell_type": "code",
      "source": [
        "#12\n",
        "select customer.first_name,customer.last_name,film.title\n",
        "from customer\n",
        "join address on customer.address_id=address.address_id\n",
        "join city on address.city_id=city.city_id\n",
        "join rental on customer.customer_id=rental.customer_id\n",
        "join inventory on rental.inventory_id=inventory.inventory_id\n",
        "join film on inventory.film_id=film.film_id\n",
        "where city.city='London'\n",
        "group by customer.customer_id,customer.first_name,customer.last_name,film.title;"
      ],
      "metadata": {
        "id": "iSC8CClE_Zys"
      },
      "execution_count": null,
      "outputs": []
    },
    {
      "cell_type": "code",
      "source": [
        "#13\n",
        "select f.title,COUNT(r.rental_id) as rental_count\n",
        "from film f\n",
        "join inventory i on f.film_id = i.film_id\n",
        "join rental r on i.inventory_id = r.inventory_id\n",
        "group by f.title\n",
        "order by rental_count desc\n",
        "limit 5;"
      ],
      "metadata": {
        "id": "CtSnhbK5BXbJ"
      },
      "execution_count": null,
      "outputs": []
    },
    {
      "cell_type": "code",
      "source": [
        "#14\n",
        "select c.customer_id,c.first_name,c.last_name\n",
        "from customer c\n",
        "join rental r on c.customer_id=r.customer_id\n",
        "join inventory i on r.inventory_id=i.inventory_id\n",
        "group by c.customer_id,c.first_name,c.last_name\n",
        "having count(distinct i.store_id)=2;"
      ],
      "metadata": {
        "id": "f2KG77lTCYLC"
      },
      "execution_count": null,
      "outputs": []
    },
    {
      "cell_type": "code",
      "source": [
        "#window function\n",
        "#1\n",
        "select\n",
        "    c.customer_id,\n",
        "    c.first_name,\n",
        "    c.last_name,\n",
        "    sum(p.amount) as total_spent,\n",
        "    rank() over (order by sum(p.amount) desc)\n",
        "function\n",
        "    customer c\n",
        "join rental r on c.customer_id=r.customer_id\n",
        "join payment p on r.rental_id=p.rental_id\n",
        "group by\n",
        "    c.customer_id,c.first_name,c.last_name;"
      ],
      "metadata": {
        "id": "enTngeZEC8hI"
      },
      "execution_count": null,
      "outputs": []
    },
    {
      "cell_type": "code",
      "source": [
        "#2\n",
        "SELECT\n",
        "    f.title,\n",
        "    r.rental_date,\n",
        "    p.amount,\n",
        "    SUM(p.amount) OVER (PARTITION BY f.title ORDER BY r.rental_date) AS cumulative_revenue\n",
        "FROM\n",
        "    film f\n",
        "JOIN inventory i ON f.film_id = i.film_id\n",
        "JOIN rental r ON i.inventory_id = r.inventory_id\n",
        "JOIN payment p ON r.rental_id = p.rental_id\n",
        "ORDER BY\n",
        "    f.title, r.rental_date;"
      ],
      "metadata": {
        "id": "RBEGf_HCE9DP"
      },
      "execution_count": null,
      "outputs": []
    },
    {
      "cell_type": "code",
      "source": [
        "#3\n",
        "SELECT\n",
        "    f.title,\n",
        "    AVG(DATEDIFF(r.return_date, r.rental_date)) AS avg_rental_duration\n",
        "FROM\n",
        "    film f\n",
        "JOIN inventory i ON f.film_id = i.film_id\n",
        "JOIN rental r ON i.inventory_id = r.inventory_id\n",
        "GROUP BY\n",
        "    f.title;"
      ],
      "metadata": {
        "id": "rTAL60c4FLOr"
      },
      "execution_count": null,
      "outputs": []
    },
    {
      "cell_type": "code",
      "source": [
        "#4\n",
        "SELECT\n",
        "    c.name AS category_name,\n",
        "    f.title,\n",
        "    COUNT(r.rental_id) AS rental_count,\n",
        "    RANK() OVER (PARTITION BY c.name ORDER BY COUNT(r.rental_id) DESC) AS film_rank\n",
        "FROM\n",
        "    category c\n",
        "JOIN film_category fc ON c.category_id = fc.category_id\n",
        "JOIN film f ON fc.film_id = f.film_id\n",
        "JOIN inventory i ON f.film_id = i.film_id\n",
        "JOIN rental r ON i.inventory_id = r.inventory_id\n",
        "GROUP BY\n",
        "    c.name, f.title\n",
        "HAVING film_rank <= 3;"
      ],
      "metadata": {
        "id": "GJDz97L2FaF_"
      },
      "execution_count": null,
      "outputs": []
    },
    {
      "cell_type": "code",
      "source": [
        "#5\n",
        "WITH CustomerRentals AS (\n",
        "    SELECT\n",
        "        c.customer_id,\n",
        "        COUNT(r.rental_id) AS total_rentals,\n",
        "        AVG(COUNT(r.rental_id)) OVER () AS avg_rentals\n",
        "    FROM\n",
        "        customer c\n",
        "    JOIN rental r ON c.customer_id = r.customer_id\n",
        "    GROUP BY\n",
        "        c.customer_id\n",
        ")\n",
        "SELECT\n",
        "    customer_id,\n",
        "    total_rentals,\n",
        "    avg_rentals,\n",
        "    total_rentals - avg_rentals AS rental_difference\n",
        "FROM\n",
        "    CustomerRentals;"
      ],
      "metadata": {
        "id": "a1MgQl7OFdND"
      },
      "execution_count": null,
      "outputs": []
    },
    {
      "cell_type": "code",
      "source": [
        "#6\n",
        "SELECT\n",
        "    YEAR(r.rental_date) AS rental_year,\n",
        "    MONTH(r.rental_date) AS rental_month,\n",
        "    SUM(p.amount) AS monthly_revenue\n",
        "FROM\n",
        "    rental r\n",
        "JOIN payment p ON r.rental_id = p.rental_id\n",
        "GROUP BY\n",
        "    rental_year, rental_month\n",
        "ORDER BY\n",
        "    rental_year, rental_month;"
      ],
      "metadata": {
        "id": "4plLRizDFeyP"
      },
      "execution_count": null,
      "outputs": []
    },
    {
      "cell_type": "code",
      "source": [
        "#7\n",
        "WITH CustomerSpending AS (\n",
        "    SELECT\n",
        "        c.customer_id,\n",
        "        c.first_name,\n",
        "        c.last_name,\n",
        "        SUM(p.amount) AS total_spent,\n",
        "        PERCENT_RANK() OVER (ORDER BY SUM(p.amount) DESC) AS percentile_rank\n",
        "    FROM\n",
        "        customer c\n",
        "    JOIN rental r ON c.customer_id = r.customer_id\n",
        "    JOIN payment p ON r.rental_id = p.rental_id\n",
        "    GROUP BY\n",
        "        c.customer_id, c.first_name, c.last_name\n",
        ")\n",
        "SELECT *\n",
        "FROM CustomerSpending\n",
        "WHERE percentile_rank >= 0.8;"
      ],
      "metadata": {
        "id": "RncZJ6rXFi8A"
      },
      "execution_count": null,
      "outputs": []
    },
    {
      "cell_type": "code",
      "source": [
        "#8\n",
        "SELECT\n",
        "    c.name AS category_name,\n",
        "    COUNT(r.rental_id) AS rental_count,\n",
        "    SUM(COUNT(r.rental_id)) OVER (ORDER BY COUNT(r.rental_id) DESC) AS running_total_rentals\n",
        "FROM\n",
        "    category c\n",
        "JOIN film_category fc ON c.category_id = fc.category_id\n",
        "JOIN film f ON fc.film_id = f.film_id\n",
        "JOIN inventory i ON f.film_id = i.film_id\n",
        "JOIN rental r ON i.inventory_id = r.inventory_id\n",
        "GROUP BY\n",
        "    c.name\n",
        "ORDER BY\n",
        "    rental_count DESC;"
      ],
      "metadata": {
        "id": "wD2lzxoKFiz_"
      },
      "execution_count": null,
      "outputs": []
    },
    {
      "cell_type": "code",
      "source": [
        "#9\n",
        "WITH CategoryAvgRentals AS (\n",
        "    SELECT\n",
        "        fc.category_id,\n",
        "        AVG(COUNT(r.rental_id)) OVER (PARTITION BY fc.category_id) AS avg_category_rentals\n",
        "    FROM\n",
        "        film_category fc\n",
        "    JOIN film f ON fc.film_id = f.film_id\n",
        "    JOIN inventory i ON f.film_id = i.film_id\n",
        "    JOIN rental r ON i.inventory_id = r.inventory_id\n",
        "    GROUP BY\n",
        "        fc.category_id\n",
        ")\n",
        "SELECT\n",
        "    f.title,\n",
        "    COUNT(r.rental_id) AS rental_count,\n",
        "    ca.avg_category_rentals\n",
        "FROM\n",
        "    film f\n",
        "JOIN film_category fc ON f.film_id = fc.film_id\n",
        "JOIN inventory i ON f.film_id = i.film_id\n",
        "JOIN rental r ON i.inventory_id = r.inventory_id\n",
        "JOIN CategoryAvgRentals ca ON fc.category_id = ca.category_id\n",
        "GROUP BY\n",
        "    f.title, ca.avg_category_rentals\n",
        "HAVING"
      ],
      "metadata": {
        "id": "rh-mYgcHFin4"
      },
      "execution_count": null,
      "outputs": []
    },
    {
      "cell_type": "code",
      "source": [
        "#10\n",
        "WITH MonthlyRevenue AS (\n",
        "    SELECT\n",
        "        YEAR(r.rental_date) AS rental_year,\n",
        "        MONTH(r.rental_date) AS rental_month,\n",
        "        SUM(p.amount) AS monthly_revenue,\n",
        "        RANK() OVER (ORDER BY SUM(p.amount) DESC) AS revenue_rank\n",
        "    FROM\n",
        "        rental r\n",
        "    JOIN payment p ON r.rental_id = p.rental_id\n",
        "    GROUP BY\n",
        "        rental_year, rental_month\n",
        ")\n",
        "SELECT\n",
        "    rental_year,\n",
        "    rental_month,\n",
        "    monthly_revenue\n",
        "FROM\n",
        "    MonthlyRevenue\n",
        "WHERE\n",
        "    revenue_rank <= 5;"
      ],
      "metadata": {
        "id": "RZAZbElRFiSR"
      },
      "execution_count": null,
      "outputs": []
    },
    {
      "cell_type": "code",
      "source": [
        "#Normalisation & CTE\n",
        "#1\n",
        "while the Sakila database is generally well-normalized\n",
        "To normalize a table to 1NF, we need to ensure that each cell contains a single, atomic value. This means that each cell should hold only one piece of data, and that data should be indivisible."
      ],
      "metadata": {
        "id": "pn9hbaN0GXn4"
      },
      "execution_count": null,
      "outputs": []
    },
    {
      "cell_type": "code",
      "source": [
        "#2\n",
        "2NF Requirements\n",
        "A table is in 2NF if:\n",
        "\n",
        "1)It is in First Normal Form (1NF):\n",
        "    No repeating groups or arrays.\n",
        "    Each column contains atomic values.\n",
        "2)It has no partial dependency:\n",
        "    No non-prime attribute (a column not part of the primary key) depends only on a part of the composite primary key.\n",
        "    If the Table Violates 2NF\n",
        "\n",
        "\n",
        "In this case:\n",
        "\n",
        "Steps to Normalize:\n",
        "step1 Split the table into two:\n",
        "   Table 1: film_actor\n",
        "            actor_id, film_id, last_update\n",
        "   Table 2: actor\n",
        "            actor_id, actor_name\n",
        "step2 Establish a relationship:\n",
        "      actor_id in film_actor becomes a foreign key referencing the actor table."
      ],
      "metadata": {
        "id": "1fNrJH4DWv_D"
      },
      "execution_count": null,
      "outputs": []
    },
    {
      "cell_type": "code",
      "source": [
        "#3\n",
        "Third Normal Form (3NF) is the address\n",
        "Primary key: address_id.\n",
        "Non-prime attributes: All other columns.\n",
        "\n",
        "In this case:\n",
        "city_id is a foreign key referencing the city table.\n",
        "Transitive dependency: district and postal_code indirectly depend on address_id via city_id. That is:\n",
        "address_id → city_id\n",
        "city_id → district, postal_code\n",
        "\n",
        "To remove transitive dependencies, follow these steps:\n",
        "\n",
        "1)Create a new city table (if not already defined):\n",
        "\n",
        "2)Columns: city_id, city_name, district, postal_code, last_update\n",
        "   Remove transitive attributes (district, postal_code) from address:\n",
        "   Keep only address_id, address, address2, city_id, phone, last_update.\n",
        "3)Establish relationships:\n",
        "  Use city_id as a foreign key in address to reference the new city table.\n",
        "  Now, attributes like district and postal_code are stored in city, and no transitive dependency exists in address."
      ],
      "metadata": {
        "id": "sn73SuDfX5V_"
      },
      "execution_count": null,
      "outputs": []
    },
    {
      "cell_type": "code",
      "source": [
        "#4\n",
        "Normalizing a Table in Sakila: rental Table\n",
        "Step 1: Initial Unnormalized Form\n",
        "Step 2: First Normal Form (1NF)\n",
        "tep 3: Second Normal Form (2NF)"
      ],
      "metadata": {
        "id": "MdVIZYR-YloU"
      },
      "execution_count": null,
      "outputs": []
    },
    {
      "cell_type": "code",
      "source": [
        "#5\n",
        "WITH ActorFilmCount AS (\n",
        "    SELECT\n",
        "        a.actor_id,\n",
        "        CONCAT(a.first_name, ' ', a.last_name) AS actor_name,\n",
        "        COUNT(fa.film_id) AS film_count\n",
        "    FROM\n",
        "        actor a\n",
        "    INNER JOIN\n",
        "        film_actor fa ON a.actor_id = fa.actor_id\n",
        "    GROUP BY\n",
        "        a.actor_id, a.first_name, a.last_name\n",
        ")\n",
        "SELECT\n",
        "    actor_name,\n",
        "    film_count\n",
        "FROM\n",
        "    ActorFilmCount\n",
        "ORDER BY\n",
        "    film_count DESC, actor_name;"
      ],
      "metadata": {
        "id": "LohMaVWcZGDw"
      },
      "execution_count": null,
      "outputs": []
    },
    {
      "cell_type": "code",
      "source": [
        "#6\n",
        "WITH FilmLanguageInfo AS (\n",
        "    SELECT\n",
        "        f.title AS film_title,\n",
        "        l.name AS language_name,\n",
        "        f.rental_rate\n",
        "    FROM\n",
        "        film f\n",
        "    INNER JOIN\n",
        "        language l ON f.language_id = l.language_id\n",
        ")\n",
        "SELECT\n",
        "    film_title,\n",
        "    language_name,\n",
        "    rental_rate\n",
        "FROM\n",
        "    FilmLanguageInfo\n",
        "ORDER BY\n",
        "    film_title;"
      ],
      "metadata": {
        "id": "3tY6nomSZIVs"
      },
      "execution_count": null,
      "outputs": []
    },
    {
      "cell_type": "code",
      "source": [
        "#7\n",
        "WITH CustomerRevenue AS (\n",
        "  SELECT\n",
        "    c.customer_id,\n",
        "    c.first_name,\n",
        "    c.last_name,\n",
        "    SUM(p.amount) AS total_revenue\n",
        "  FROM\n",
        "    customer c\n",
        "  JOIN\n",
        "    payment p ON c.customer_id = p.customer_id\n",
        "  GROUP BY\n",
        "    c.customer_id, c.first_name, c.last_name\n",
        ")\n",
        "\n",
        "SELECT\n",
        "  customer_id,\n",
        "  first_name,\n",
        "  last_name,\n",
        "  total_revenue\n",
        "FROM\n",
        "  CustomerRevenue\n",
        "ORDER BY\n",
        "  total_revenue DESC;"
      ],
      "metadata": {
        "id": "00G_1wRkZTAJ"
      },
      "execution_count": null,
      "outputs": []
    },
    {
      "cell_type": "code",
      "source": [
        "#8\n",
        "WITH FilmRentalDuration AS (\n",
        "  SELECT\n",
        "    film_id,\n",
        "    title,\n",
        "    rental_duration,\n",
        "    RANK() OVER (ORDER BY rental_duration DESC) AS rental_rank\n",
        "  FROM\n",
        "    film\n",
        ")\n",
        "\n",
        "SELECT\n",
        "  film_id,\n",
        "  title,\n",
        "  rental_duration,\n",
        "  rental_rank\n",
        "FROM\n",
        "  FilmRentalDuration\n",
        "ORDER BY\n",
        "  rental_rank;"
      ],
      "metadata": {
        "id": "IG-08hItZm_1"
      },
      "execution_count": null,
      "outputs": []
    },
    {
      "cell_type": "code",
      "source": [
        "#9\n",
        "WITH FrequentRenters AS (\n",
        "  SELECT\n",
        "    customer_id,\n",
        "    COUNT(*) AS rental_count\n",
        "  FROM\n",
        "    rental\n",
        "  GROUP BY\n",
        "    customer_id\n",
        "  HAVING\n",
        "    COUNT(*) > 2\n",
        ")\n",
        "\n",
        "SELECT\n",
        "  c.customer_id,\n",
        "  c.first_name,\n",
        "  c.last_name,\n",
        "  fr.rental_count\n",
        "FROM\n",
        "  customer c\n",
        "INNER JOIN\n",
        "  FrequentRenters fr ON c.customer_id = fr.customer_id;"
      ],
      "metadata": {
        "id": "uQ9ptfIeZZeV"
      },
      "execution_count": null,
      "outputs": []
    },
    {
      "cell_type": "code",
      "source": [
        "#10\n",
        "WITH MonthlyRentals AS (\n",
        "  SELECT\n",
        "    DATE_TRUNC('month', rental_date) AS rental_month,\n",
        "    COUNT(*) AS total_rentals\n",
        "  FROM\n",
        "    rental\n",
        "  GROUP BY\n",
        "    DATE_TRUNC('month', rental_date)\n",
        ")\n",
        "\n",
        "SELECT\n",
        "  rental_month,\n",
        "  total_rentals\n",
        "FROM\n",
        "  MonthlyRentals\n",
        "ORDER BY\n",
        "  rental_month;"
      ],
      "metadata": {
        "id": "nAkIIBjrZgkR"
      },
      "execution_count": null,
      "outputs": []
    },
    {
      "cell_type": "code",
      "source": [
        "#11\n",
        "WITH ActorPairs AS (\n",
        "  SELECT\n",
        "    fa1.actor_id AS actor_id_1,\n",
        "    fa2.actor_id AS actor_id_2,\n",
        "    f.title\n",
        "  FROM\n",
        "    film_actor fa1\n",
        "  JOIN\n",
        "    film_actor fa2 ON fa1.film_id = fa2.film_id AND fa1.actor_id < fa2.actor_id\n",
        "  JOIN\n",
        "    film f ON fa1.film_id = f.film_id\n",
        ")\n",
        "\n",
        "SELECT\n",
        "  a1.first_name || ' ' || a1.last_name AS actor_1,\n",
        "  a2.first_name || ' ' || a2.last_name AS actor_2,\n",
        "  ap.title\n",
        "FROM\n",
        "  ActorPairs ap\n",
        "JOIN\n",
        "  actor a1 ON ap.actor_id_1 = a1.actor_id\n",
        "JOIN\n",
        "  actor a2 ON ap.actor_id_2 = a2.actor_id;"
      ],
      "metadata": {
        "id": "oZiYVCHeZqt9"
      },
      "execution_count": null,
      "outputs": []
    },
    {
      "cell_type": "code",
      "source": [
        "#12\n",
        "WITH RECURSIVE EmployeeHierarchy AS (\n",
        "  SELECT\n",
        "    staff_id,\n",
        "    first_name,\n",
        "    last_name,\n",
        "    reports_to\n",
        "  FROM\n",
        "    staff\n",
        "  WHERE\n",
        "    reports_to = [Manager's Staff ID]  -- Replace with the desired manager's ID\n",
        "\n",
        "  UNION ALL\n",
        "\n",
        "  SELECT\n",
        "    s.staff_id,\n",
        "    s.first_name,\n",
        "    s.last_name,\n",
        "    s.reports_to\n",
        "  FROM\n",
        "    staff s\n",
        "  JOIN\n",
        "    EmployeeHierarchy eh ON s.reports_to = eh.staff_id\n",
        ")\n",
        "\n",
        "SELECT\n",
        "  *\n",
        "FROM\n",
        "  EmployeeHierarchy;"
      ],
      "metadata": {
        "id": "JMqhBp2oZqn-"
      },
      "execution_count": null,
      "outputs": []
    }
  ]
}