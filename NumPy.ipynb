{
  "nbformat": 4,
  "nbformat_minor": 0,
  "metadata": {
    "colab": {
      "provenance": [],
      "authorship_tag": "ABX9TyMSg+FdrAuO3ZoX7tFe7ncr",
      "include_colab_link": true
    },
    "kernelspec": {
      "name": "python3",
      "display_name": "Python 3"
    },
    "language_info": {
      "name": "python"
    }
  },
  "cells": [
    {
      "cell_type": "markdown",
      "metadata": {
        "id": "view-in-github",
        "colab_type": "text"
      },
      "source": [
        "<a href=\"https://colab.research.google.com/github/mateumesh47/Assignment/blob/main/NumPy.ipynb\" target=\"_parent\"><img src=\"https://colab.research.google.com/assets/colab-badge.svg\" alt=\"Open In Colab\"/></a>"
      ]
    },
    {
      "cell_type": "code",
      "execution_count": null,
      "metadata": {
        "colab": {
          "base_uri": "https://localhost:8080/"
        },
        "id": "lttoHbXwUwif",
        "outputId": "c0f6b5ac-5b1d-4511-8f03-22b30b27c0fe"
      },
      "outputs": [
        {
          "output_type": "stream",
          "name": "stdout",
          "text": [
            "0 is datatype is: <class 'numpy.int64'>\n",
            "1 is datatype is: <class 'numpy.int64'>\n",
            "2 is datatype is: <class 'numpy.int64'>\n",
            "3 is datatype is: <class 'numpy.int64'>\n",
            "4 is datatype is: <class 'numpy.int64'>\n",
            "5 is datatype is: <class 'numpy.int64'>\n"
          ]
        }
      ],
      "source": [
        "#1\n",
        "import numpy as np\n",
        "arr=np.array([0,1,2,3,4,5])\n",
        "for i in arr:\n",
        "  print(i,\"is datatype is:\",type(i))"
      ]
    },
    {
      "cell_type": "code",
      "source": [
        "#2\n",
        "arr = np.array([1.5, 2.6, 3.7])\n",
        "if arr.dtype==np.float64:\n",
        "  print(\"The data type of the array is float64.\")\n",
        "else:\n",
        "  print(\"The data type of the array is not float64.\")"
      ],
      "metadata": {
        "colab": {
          "base_uri": "https://localhost:8080/"
        },
        "id": "JF4vWdNuVmUK",
        "outputId": "5a65894c-8c61-46f6-99fe-736521b1afb3"
      },
      "execution_count": null,
      "outputs": [
        {
          "output_type": "stream",
          "name": "stdout",
          "text": [
            "The data type of the array is float64.\n"
          ]
        }
      ]
    },
    {
      "cell_type": "code",
      "source": [
        "#3\n",
        "arr=np.array([1+2j,3j,5+4j],dtype=np.complex128)\n",
        "print(arr)"
      ],
      "metadata": {
        "colab": {
          "base_uri": "https://localhost:8080/"
        },
        "id": "QmNPFCOfWYfE",
        "outputId": "8b098a73-a665-4f42-ce6f-a5590a568052"
      },
      "execution_count": null,
      "outputs": [
        {
          "output_type": "stream",
          "name": "stdout",
          "text": [
            "[1.+2.j 0.+3.j 5.+4.j]\n"
          ]
        }
      ]
    },
    {
      "cell_type": "code",
      "source": [
        "#4\n",
        "arr=np.array([1,2,3,4,5])\n",
        "arr1=arr.astype(np.float128)\n",
        "print(arr1)"
      ],
      "metadata": {
        "colab": {
          "base_uri": "https://localhost:8080/"
        },
        "id": "r2C_O-rvXpBp",
        "outputId": "92545da3-1926-44cf-9250-2736e35410d7"
      },
      "execution_count": null,
      "outputs": [
        {
          "output_type": "stream",
          "name": "stdout",
          "text": [
            "[1. 2. 3. 4. 5.]\n"
          ]
        }
      ]
    },
    {
      "cell_type": "code",
      "source": [
        "#5\n",
        "arr=np.array([1.33333,3.5555,4.125],dtype=np.float128)\n",
        "arr1=arr.astype(np.float32)\n",
        "print(arr1)"
      ],
      "metadata": {
        "colab": {
          "base_uri": "https://localhost:8080/"
        },
        "id": "CND_md0MYnn0",
        "outputId": "fdc29bc7-bc50-4852-f129-b30f7c383db0"
      },
      "execution_count": null,
      "outputs": [
        {
          "output_type": "stream",
          "name": "stdout",
          "text": [
            "[1.33333 3.5555  4.125  ]\n"
          ]
        }
      ]
    },
    {
      "cell_type": "code",
      "source": [
        "#6\n",
        "def array_attribut(arr):\n",
        "  shape=arr.shape\n",
        "  size=arr.size\n",
        "  datatype=arr.dtype\n",
        "  return shape,size,datatype\n",
        "\n",
        "arr=np.array([[1,2,3],[4,5,6]],dtype=np.int32)\n",
        "shape,size,datatype=array_attribut(arr)\n",
        "print(\"Shape:\",shape)\n",
        "print(\"Size:\",size)\n",
        "print(\"Data Type:\",datatype)"
      ],
      "metadata": {
        "colab": {
          "base_uri": "https://localhost:8080/"
        },
        "id": "Aw4UZZ86ZLqP",
        "outputId": "890e4c55-7483-4f23-e3aa-69c9f1fa4ab1"
      },
      "execution_count": null,
      "outputs": [
        {
          "output_type": "stream",
          "name": "stdout",
          "text": [
            "Shape: (2, 3)\n",
            "Size: 6\n",
            "Data Type: int32\n"
          ]
        }
      ]
    },
    {
      "cell_type": "code",
      "source": [
        "#7\n",
        "def array_dimension(arr):\n",
        "  dim=arr.ndim\n",
        "  return dim\n",
        "\n",
        "arr=np.array([[1,2,3],[4,5,6]],dtype=np.int32)\n",
        "dim=array_dimension(arr)\n",
        "print(\"dimensionality:\",dim)"
      ],
      "metadata": {
        "colab": {
          "base_uri": "https://localhost:8080/"
        },
        "id": "3GhriTlja2Hk",
        "outputId": "946896dd-d278-4e03-cb2a-73c32a2ea10b"
      },
      "execution_count": null,
      "outputs": [
        {
          "output_type": "stream",
          "name": "stdout",
          "text": [
            "dimensionality: 2\n"
          ]
        }
      ]
    },
    {
      "cell_type": "code",
      "source": [
        "#8\n",
        "def  item_size_info(arr):\n",
        "  itemsize=arr.itemsize\n",
        "  totalsize=arr.nbytes\n",
        "  return itemsize,totalsize\n",
        "\n",
        "arr=np.array([[1,2,3],[4,5,6]],dtype=np.int32)\n",
        "itemsize,totalsize=item_size_info(arr)\n",
        "print(\"item size:\",itemsize)\n",
        "print(\"total size:\",totalsize)"
      ],
      "metadata": {
        "colab": {
          "base_uri": "https://localhost:8080/"
        },
        "id": "UKXjDy7DbhoL",
        "outputId": "4ae4ce14-10e7-479c-f05b-3152d0cbd231"
      },
      "execution_count": null,
      "outputs": [
        {
          "output_type": "stream",
          "name": "stdout",
          "text": [
            "item size: 4\n",
            "total size: 24\n"
          ]
        }
      ]
    },
    {
      "cell_type": "code",
      "source": [
        "#9\n",
        "def  array_strides(arr):\n",
        "  strides=arr.strides\n",
        "  return strides\n",
        "\n",
        "arr=np.array([[1,2,3],[4,5,6]],dtype=np.int32)\n",
        "print(\"Strides:\",array_strides(arr))"
      ],
      "metadata": {
        "colab": {
          "base_uri": "https://localhost:8080/"
        },
        "id": "W15nYotUc4vB",
        "outputId": "758fb366-3421-4de2-a5cf-a4400584272a"
      },
      "execution_count": null,
      "outputs": [
        {
          "output_type": "stream",
          "name": "stdout",
          "text": [
            "Strides: (12, 4)\n"
          ]
        }
      ]
    },
    {
      "cell_type": "code",
      "source": [
        "#10\n",
        "def shape_stride_relationship(arr):\n",
        "  shape=arr.shape\n",
        "  strides=arr.strides\n",
        "  return shape,strides\n",
        "\n",
        "arr=np.array([[1,2,3],[4,5,6]],dtype=np.int32)\n",
        "shape,strides=shape_stride_relationship(arr)\n",
        "print(\"Shape:\",shape)\n",
        "print(\"Strides:\",strides)"
      ],
      "metadata": {
        "colab": {
          "base_uri": "https://localhost:8080/"
        },
        "id": "C_HYWbmWdc90",
        "outputId": "4321eefc-fa2c-492b-b2ea-7cb46473952b"
      },
      "execution_count": null,
      "outputs": [
        {
          "output_type": "stream",
          "name": "stdout",
          "text": [
            "Shape: (2, 3)\n",
            "Strides: (12, 4)\n"
          ]
        }
      ]
    },
    {
      "cell_type": "code",
      "source": [
        "#11\n",
        "def create_zeros_array(n):\n",
        "  return np.zeros(n);\n",
        "\n",
        "num=int(input(\"Enter a number:\"))\n",
        "arr=create_zeros_array(num)\n",
        "print(arr)"
      ],
      "metadata": {
        "colab": {
          "base_uri": "https://localhost:8080/"
        },
        "id": "wQXrUtELeKWg",
        "outputId": "09131f11-4431-4e26-bc78-55c15027c3c7"
      },
      "execution_count": null,
      "outputs": [
        {
          "output_type": "stream",
          "name": "stdout",
          "text": [
            "Enter a number:5\n",
            "[0. 0. 0. 0. 0.]\n"
          ]
        }
      ]
    },
    {
      "cell_type": "code",
      "source": [
        "#12\n",
        "def create_ones_matrix(rows, cols):\n",
        "    matrix = np.ones((rows, cols))\n",
        "    return matrix\n",
        "\n",
        "rows=int(input(\"Emter number of rows:\"))\n",
        "cols=int(input(\"Enter number of columns:\"))\n",
        "ones_matrix = create_ones_matrix(rows, cols)\n",
        "print(ones_matrix)\n"
      ],
      "metadata": {
        "colab": {
          "base_uri": "https://localhost:8080/"
        },
        "id": "lbARoq-Rff3k",
        "outputId": "5ae74239-b62c-47b4-f0c9-8a094720989b"
      },
      "execution_count": null,
      "outputs": [
        {
          "output_type": "stream",
          "name": "stdout",
          "text": [
            "Emter number of rows:4\n",
            "Enter number of columns:4\n",
            "[[1. 1. 1. 1.]\n",
            " [1. 1. 1. 1.]\n",
            " [1. 1. 1. 1.]\n",
            " [1. 1. 1. 1.]]\n"
          ]
        }
      ]
    },
    {
      "cell_type": "code",
      "source": [
        "#13\n",
        "def generate_range_array(start,stop,step):\n",
        "    return np.arange(start,stop,step)\n",
        "\n",
        "print(\"Range Array:\",generate_range_array(1,10,2))\n"
      ],
      "metadata": {
        "colab": {
          "base_uri": "https://localhost:8080/"
        },
        "id": "QTpJaxGmhLUO",
        "outputId": "6316f07b-0325-4502-a250-94bc32892a2a"
      },
      "execution_count": null,
      "outputs": [
        {
          "output_type": "stream",
          "name": "stdout",
          "text": [
            "Range Array: [1 3 5 7 9]\n"
          ]
        }
      ]
    },
    {
      "cell_type": "code",
      "source": [
        "#14\n",
        "def generate_linear_space(start,stop,num):\n",
        "    return np.linspace(start,stop,num)\n",
        "\n",
        "print(\"Linear Space Array:\",generate_linear_space(0,1,5))\n"
      ],
      "metadata": {
        "colab": {
          "base_uri": "https://localhost:8080/"
        },
        "id": "dXibqzZAhyXu",
        "outputId": "3d886a3f-6a47-4645-c9c5-21d2575cde11"
      },
      "execution_count": null,
      "outputs": [
        {
          "output_type": "stream",
          "name": "stdout",
          "text": [
            "Linear Space Array: [0.   0.25 0.5  0.75 1.  ]\n"
          ]
        }
      ]
    },
    {
      "cell_type": "code",
      "source": [
        "#15\n",
        "def create_identity_matrix(n):\n",
        "    return np.eye(n)\n",
        "\n",
        "print(\"Identity Matrix:\\n\", create_identity_matrix(4))\n"
      ],
      "metadata": {
        "colab": {
          "base_uri": "https://localhost:8080/"
        },
        "id": "PTNwz67HiL5e",
        "outputId": "50ec7278-ac10-4db9-9b1b-dcfdfbd3662b"
      },
      "execution_count": null,
      "outputs": [
        {
          "output_type": "stream",
          "name": "stdout",
          "text": [
            "Identity Matrix:\n",
            " [[1. 0. 0. 0.]\n",
            " [0. 1. 0. 0.]\n",
            " [0. 0. 1. 0.]\n",
            " [0. 0. 0. 1.]]\n"
          ]
        }
      ]
    },
    {
      "cell_type": "code",
      "source": [
        "#16\n",
        "def list_to_array(py_list):\n",
        "    return np.array(py_list)\n",
        "\n",
        "print(\"NumPy Array:\",list_to_array([1,2,3,4,5]))\n"
      ],
      "metadata": {
        "colab": {
          "base_uri": "https://localhost:8080/"
        },
        "id": "i-opQOlxiWGc",
        "outputId": "cb49e590-d1f3-4086-a444-c8c08181f531"
      },
      "execution_count": null,
      "outputs": [
        {
          "output_type": "stream",
          "name": "stdout",
          "text": [
            "NumPy Array: [1 2 3 4 5]\n"
          ]
        }
      ]
    },
    {
      "cell_type": "code",
      "source": [
        "#17\n",
        "original_array=np.array([1, 2, 3, 4, 5],dtype=np.int32)\n",
        "view_array=original_array.view()\n",
        "view_array[0]=99\n",
        "\n",
        "print(\"Original Array:\",original_array)\n",
        "print(\"View Array:\",view_array)\n"
      ],
      "metadata": {
        "colab": {
          "base_uri": "https://localhost:8080/"
        },
        "id": "F-Ee2kQbiiS6",
        "outputId": "fc37cf0a-3b53-4057-a136-8a0bd3b9bee4"
      },
      "execution_count": null,
      "outputs": [
        {
          "output_type": "stream",
          "name": "stdout",
          "text": [
            "Original Array: [99  2  3  4  5]\n",
            "View Array: [99  2  3  4  5]\n"
          ]
        }
      ]
    },
    {
      "cell_type": "code",
      "source": [
        "#18\n",
        "def concatenate_arrays(arr1,arr2):\n",
        "    return np.concatenate((arr1,arr2))\n",
        "\n",
        "arr1=np.array([[1,2],[3,4]])\n",
        "arr2=np.array([[5,6]])\n",
        "concatenated=concatenate_arrays(arr1,arr2)\n",
        "print(\"Concatenated Array:\\n\",concatenated)\n"
      ],
      "metadata": {
        "colab": {
          "base_uri": "https://localhost:8080/"
        },
        "id": "sVF9Kezgi1pL",
        "outputId": "a0dbebb8-7e42-492e-d85e-6ecc20a93407"
      },
      "execution_count": null,
      "outputs": [
        {
          "output_type": "stream",
          "name": "stdout",
          "text": [
            "Concatenated Array:\n",
            " [[1 2]\n",
            " [3 4]\n",
            " [5 6]]\n"
          ]
        }
      ]
    },
    {
      "cell_type": "code",
      "source": [
        "#19\n",
        "arr1=np.array([[1,2,3],[4,5,6]])\n",
        "arr2=np.array([[7,8,9],[10,11,12]])\n",
        "ch=np.concatenate((arr1,arr2),axis=1)\n",
        "print(\"Horizontally Concatenated Array:\\n\",ch)"
      ],
      "metadata": {
        "colab": {
          "base_uri": "https://localhost:8080/"
        },
        "id": "tomhfUG2jpUQ",
        "outputId": "e7e36da8-0945-4432-a53d-ba0cbf1f875f"
      },
      "execution_count": null,
      "outputs": [
        {
          "output_type": "stream",
          "name": "stdout",
          "text": [
            "Horizontally Concatenated Array:\n",
            " [[ 1  2  3  7  8  9]\n",
            " [ 4  5  6 10 11 12]]\n"
          ]
        }
      ]
    },
    {
      "cell_type": "code",
      "source": [
        "#20\n",
        "def vertical_stack(arrays):\n",
        "    return np.vstack(arrays)\n",
        "\n",
        "arr1=np.array([1,2,3])\n",
        "arr2=np.array([4,5,6])\n",
        "arr3=np.array([7,8,9])\n",
        "stacked=vertical_stack([arr1,arr2,arr3])\n",
        "print(\"Vertically Stacked Array:\\n\",stacked)"
      ],
      "metadata": {
        "colab": {
          "base_uri": "https://localhost:8080/"
        },
        "id": "gcO1h-quj9jL",
        "outputId": "c18b22ce-43b1-4757-d2fd-0ae1c1d07f86"
      },
      "execution_count": null,
      "outputs": [
        {
          "output_type": "stream",
          "name": "stdout",
          "text": [
            "Vertically Stacked Array:\n",
            " [[1 2 3]\n",
            " [4 5 6]\n",
            " [7 8 9]]\n"
          ]
        }
      ]
    },
    {
      "cell_type": "code",
      "source": [
        "#21\n",
        "def create_range_array(start,stop,step):\n",
        "    return np.arange(start,stop+1,step)\n",
        "\n",
        "range_array=create_range_array(1,10,2)\n",
        "print(\"Range Array:\",range_array)"
      ],
      "metadata": {
        "colab": {
          "base_uri": "https://localhost:8080/"
        },
        "id": "qWCBXA0DkL6I",
        "outputId": "f6e29b3a-30d7-49e8-ab3c-b63a1246c6d2"
      },
      "execution_count": null,
      "outputs": [
        {
          "output_type": "stream",
          "name": "stdout",
          "text": [
            "Range Array: [1 3 5 7 9]\n"
          ]
        }
      ]
    },
    {
      "cell_type": "code",
      "source": [
        "#22\n",
        "def generate_equally_spaced_values(start,stop,num):\n",
        "    return np.linspace(start,stop,num)\n",
        "\n",
        "values=generate_equally_spaced_values(0,1,10)\n",
        "print(\"Equally Spaced Values:\",values)\n"
      ],
      "metadata": {
        "colab": {
          "base_uri": "https://localhost:8080/"
        },
        "id": "TN9xlWwTkStv",
        "outputId": "45f392b8-44c1-4a6d-92d4-122f12ac377f"
      },
      "execution_count": null,
      "outputs": [
        {
          "output_type": "stream",
          "name": "stdout",
          "text": [
            "Equally Spaced Values: [0.         0.11111111 0.22222222 0.33333333 0.44444444 0.55555556\n",
            " 0.66666667 0.77777778 0.88888889 1.        ]\n"
          ]
        }
      ]
    },
    {
      "cell_type": "code",
      "source": [
        "#23\n",
        "def create_log_space(start,stop,num):\n",
        "    return np.logspace(np.log10(start),np.log10(stop),num)\n",
        "\n",
        "la=create_log_space(1,1000,5)\n",
        "print(\"Logarithmically Spaced Values:\",la)\n"
      ],
      "metadata": {
        "colab": {
          "base_uri": "https://localhost:8080/"
        },
        "id": "jpUO1La6kczj",
        "outputId": "37599e51-e314-490a-80a5-6f83bbb2a057"
      },
      "execution_count": null,
      "outputs": [
        {
          "output_type": "stream",
          "name": "stdout",
          "text": [
            "Logarithmically Spaced Values: [   1.            5.62341325   31.6227766   177.827941   1000.        ]\n"
          ]
        }
      ]
    },
    {
      "cell_type": "code",
      "source": [
        "#24\n",
        "import pandas as pd\n",
        "\n",
        "data=np.random.randint(1,101,size=(5,3))\n",
        "df=pd.DataFrame(data,columns=['Column1','Column2','Column3'])\n",
        "print(\"Pandas DataFrame:\\n\",df)"
      ],
      "metadata": {
        "colab": {
          "base_uri": "https://localhost:8080/"
        },
        "id": "kv3Gt385kriH",
        "outputId": "341bd874-4a1b-4f7d-99d0-42511ef6dfe1"
      },
      "execution_count": null,
      "outputs": [
        {
          "output_type": "stream",
          "name": "stdout",
          "text": [
            "Pandas DataFrame:\n",
            "    Column1  Column2  Column3\n",
            "0       57        9       26\n",
            "1        3       15       63\n",
            "2       18       16       49\n",
            "3       63      100       32\n",
            "4       83       81       35\n"
          ]
        }
      ]
    },
    {
      "cell_type": "code",
      "source": [
        "#25\n",
        "def replace_negatives(df,column_name):\n",
        "    df[column_name]=np.where(df[column_name]<0,0,df[column_name])\n",
        "    return df\n",
        "\n",
        "data=np.random.randint(-10,10,size=(5,3))\n",
        "df=pd.DataFrame(data,columns=['A','B','C'])\n",
        "print(\"Original DataFrame:\\n\",df)\n",
        "\n",
        "df=replace_negatives(df,'A')\n",
        "print(\"DataFrame with Negative Values Replaced:\\n\",df)\n"
      ],
      "metadata": {
        "colab": {
          "base_uri": "https://localhost:8080/"
        },
        "id": "5tw-ftLzk4N8",
        "outputId": "4fc2a51b-79d7-4754-e282-9f9d9a59e9a0"
      },
      "execution_count": null,
      "outputs": [
        {
          "output_type": "stream",
          "name": "stdout",
          "text": [
            "Original DataFrame:\n",
            "    A  B   C\n",
            "0 -1  2 -10\n",
            "1  6  2   2\n",
            "2 -8 -2   5\n",
            "3 -9 -8  -5\n",
            "4  5  5  -6\n",
            "DataFrame with Negative Values Replaced:\n",
            "    A  B   C\n",
            "0  0  2 -10\n",
            "1  6  2   2\n",
            "2  0 -2   5\n",
            "3  0 -8  -5\n",
            "4  5  5  -6\n"
          ]
        }
      ]
    },
    {
      "cell_type": "code",
      "source": [
        "#26\n",
        "arr = np.array([10, 20, 30, 40, 50])\n",
        "print(\"Third element:\",arr[2])"
      ],
      "metadata": {
        "colab": {
          "base_uri": "https://localhost:8080/"
        },
        "id": "g6he7W4llMdY",
        "outputId": "4a88ee1e-f095-44f8-bfbd-88853065f989"
      },
      "execution_count": null,
      "outputs": [
        {
          "output_type": "stream",
          "name": "stdout",
          "text": [
            "Third element: 30\n"
          ]
        }
      ]
    },
    {
      "cell_type": "code",
      "source": [
        "#27\n",
        "arr= np.array([[1, 2, 3],\n",
        "                   [4, 5, 6],\n",
        "                   [7, 8, 9]])\n",
        "print(arr[1,2])"
      ],
      "metadata": {
        "colab": {
          "base_uri": "https://localhost:8080/"
        },
        "id": "XGQhnH1jnCbd",
        "outputId": "2d362a4f-72a1-47a3-e5f9-203941763c68"
      },
      "execution_count": null,
      "outputs": [
        {
          "output_type": "stream",
          "name": "stdout",
          "text": [
            "6\n"
          ]
        }
      ]
    },
    {
      "cell_type": "code",
      "source": [
        "#28\n",
        "arr = np.array([3, 8, 2, 10, 5, 7])\n",
        "mask=arr>5\n",
        "element=arr[mask]\n",
        "print(\"Elements greater than 5:\",element)"
      ],
      "metadata": {
        "colab": {
          "base_uri": "https://localhost:8080/"
        },
        "id": "5uAN_KFGlc4D",
        "outputId": "d522f2fb-fbcb-4d21-9602-de8d5feedbdb"
      },
      "execution_count": null,
      "outputs": [
        {
          "output_type": "stream",
          "name": "stdout",
          "text": [
            "Elements greater than 5: [ 8 10  7]\n"
          ]
        }
      ]
    },
    {
      "cell_type": "code",
      "source": [
        "#29\n",
        "arr = np.array([1, 2, 3, 4, 5, 6, 7, 8, 9])\n",
        "print(arr[2:5])"
      ],
      "metadata": {
        "colab": {
          "base_uri": "https://localhost:8080/"
        },
        "id": "-zIL1hWSmxp9",
        "outputId": "e03e0f20-59e7-4faa-9f6c-6e3674803afa"
      },
      "execution_count": null,
      "outputs": [
        {
          "output_type": "stream",
          "name": "stdout",
          "text": [
            "[3 4 5]\n"
          ]
        }
      ]
    },
    {
      "cell_type": "code",
      "source": [
        "#30\n",
        "arr_2d = np.array([[1, 2, 3],\n",
        "                   [4, 5, 6],\n",
        "                   [7, 8, 9]])\n",
        "print(arr_2d[0:2,1:3])"
      ],
      "metadata": {
        "colab": {
          "base_uri": "https://localhost:8080/"
        },
        "id": "c7wgOGLJoAlm",
        "outputId": "57313fb3-572d-45c3-c24b-55d53352b5f3"
      },
      "execution_count": null,
      "outputs": [
        {
          "output_type": "stream",
          "name": "stdout",
          "text": [
            "[[2 3]\n",
            " [5 6]]\n"
          ]
        }
      ]
    },
    {
      "cell_type": "code",
      "source": [
        "#31\n",
        "def extract_elements(arr,indices):\n",
        "    return arr[indices]\n",
        "\n",
        "arr=np.array([[1,2,3],\n",
        "              [4,5,6],\n",
        "              [7,8,9]])\n",
        "indices=[(0,1),(1,2)]\n",
        "extracted=extract_elements(arr,indices)\n",
        "print(\"Extracted Elements:\\n\",extracted)\n"
      ],
      "metadata": {
        "colab": {
          "base_uri": "https://localhost:8080/"
        },
        "id": "rRpGV1XDoRt_",
        "outputId": "bc758cad-a648-43fa-eebb-c16c1fe32bd8"
      },
      "execution_count": null,
      "outputs": [
        {
          "output_type": "stream",
          "name": "stdout",
          "text": [
            "Extracted Elements:\n",
            " [[[1 2 3]\n",
            "  [4 5 6]]\n",
            "\n",
            " [[4 5 6]\n",
            "  [7 8 9]]]\n"
          ]
        }
      ]
    },
    {
      "cell_type": "code",
      "source": [
        "#32\n",
        "def filter_elements(arr,threshold):\n",
        "    return arr[arr>threshold]\n",
        "\n",
        "arr=np.array([1,2,3,4,5,6,7,8,9])\n",
        "filtered=filter_elements(arr,5)\n",
        "print(\"Filtered Elements:\",filtered)\n"
      ],
      "metadata": {
        "colab": {
          "base_uri": "https://localhost:8080/"
        },
        "id": "YAk5jruppJS6",
        "outputId": "d4261749-9c17-457a-8630-5c594be8e1f4"
      },
      "execution_count": null,
      "outputs": [
        {
          "output_type": "stream",
          "name": "stdout",
          "text": [
            "Filtered Elements: [6 7 8 9]\n"
          ]
        }
      ]
    },
    {
      "cell_type": "code",
      "source": [
        "#33\n",
        "def extract_3d_elements(arr,row_indices,col_indices,depth_indices):\n",
        "    return arr[row_indices,col_indices,depth_indices]\n",
        "\n",
        "arr_3d=np.array([[[1,2,3],\n",
        "                  [4,5,6],\n",
        "                  [7,8,9]],\n",
        "                 [[10,11,12],\n",
        "                  [13,14,15],\n",
        "                  [16,17,18]],\n",
        "                 [[19,20,21],\n",
        "                  [22,23,24],\n",
        "                  [25,26,27]]])\n",
        "row_indices=[0,1,2]\n",
        "col_indices=[1,2,0]\n",
        "depth_indices=[2,0,1]\n",
        "extracted_3d=extract_3d_elements(arr_3d,row_indices,col_indices,depth_indices)\n",
        "print(\"Extracted 3D Elements:\",extracted_3d)\n"
      ],
      "metadata": {
        "colab": {
          "base_uri": "https://localhost:8080/"
        },
        "id": "1-Evi6nwpaxg",
        "outputId": "32e85ada-31cf-40a8-89c1-f7ce59ff3477"
      },
      "execution_count": null,
      "outputs": [
        {
          "output_type": "stream",
          "name": "stdout",
          "text": [
            "Extracted 3D Elements: [ 6 16 20]\n"
          ]
        }
      ]
    },
    {
      "cell_type": "code",
      "source": [
        "#34\n",
        "def elements_with_conditions(arr,condition1,condition2):\n",
        "    return arr[condition1 & condition2]\n",
        "\n",
        "arr=np.array([1,2,3,4,5,6,7,8,9])\n",
        "condition1=arr > 3\n",
        "condition2=arr < 8\n",
        "ele=elements_with_conditions(arr,condition1,condition2)\n",
        "print(\"Elements Satisfying Both Conditions:\",ele)\n"
      ],
      "metadata": {
        "colab": {
          "base_uri": "https://localhost:8080/"
        },
        "id": "MhjUkFyWpy3F",
        "outputId": "09026aa4-7849-4460-9d2e-98da2222be81"
      },
      "execution_count": null,
      "outputs": [
        {
          "output_type": "stream",
          "name": "stdout",
          "text": [
            "Elements Satisfying Both Conditions: [4 5 6 7]\n"
          ]
        }
      ]
    },
    {
      "cell_type": "code",
      "source": [
        "#35\n",
        "def extract_from_2d(arr,row,col):\n",
        "    return arr[row,col]\n",
        "\n",
        "arr_2d=np.array([[1,2,3],\n",
        "                 [4,5,6],\n",
        "                 [7,8,9]])\n",
        "row=[0,1,2]\n",
        "col=[1,2,0]\n",
        "ele=extract_from_2d(arr_2d,row,col)\n",
        "print(\"Extracted Elements from 2D Array:\",ele)\n"
      ],
      "metadata": {
        "colab": {
          "base_uri": "https://localhost:8080/"
        },
        "id": "mwHlithsqEEu",
        "outputId": "6f75c85b-5d88-47ec-eb73-fc7e6d6d6656"
      },
      "execution_count": null,
      "outputs": [
        {
          "output_type": "stream",
          "name": "stdout",
          "text": [
            "Extracted Elements from 2D Array: [2 6 7]\n"
          ]
        }
      ]
    },
    {
      "cell_type": "code",
      "source": [
        "#36\n",
        "def add_scalar(arr,scalar):\n",
        "    return arr+scalar\n",
        "\n",
        "arr=np.array([[1,2,3],\n",
        "              [4,5,6],\n",
        "              [7,8,9]])\n",
        "result=add_scalar(arr,5)\n",
        "print(\"Array after Adding Scalar:\\n\",result)\n"
      ],
      "metadata": {
        "colab": {
          "base_uri": "https://localhost:8080/"
        },
        "id": "n04fbzF6q04L",
        "outputId": "e98e03f9-8838-44ec-b8be-a0d65ef4d706"
      },
      "execution_count": null,
      "outputs": [
        {
          "output_type": "stream",
          "name": "stdout",
          "text": [
            "Array after Adding Scalar:\n",
            " [[ 6  7  8]\n",
            " [ 9 10 11]\n",
            " [12 13 14]]\n"
          ]
        }
      ]
    },
    {
      "cell_type": "code",
      "source": [
        "#37\n",
        "def multiply_rows(arr1,arr2):\n",
        "    return arr2*arr1\n",
        "\n",
        "arr1=np.array([[1,2,3]])\n",
        "arr2=np.array([[4,5,6],\n",
        "               [7,8,9],\n",
        "               [10,11,12]])\n",
        "result=multiply_rows(arr1, arr2)\n",
        "print(\"Result of Row-wise Multiplication:\\n\",result)\n"
      ],
      "metadata": {
        "colab": {
          "base_uri": "https://localhost:8080/"
        },
        "id": "xveBPkaKrEQv",
        "outputId": "0f3c632b-a127-4ab0-98fc-c4f237d3513d"
      },
      "execution_count": null,
      "outputs": [
        {
          "output_type": "stream",
          "name": "stdout",
          "text": [
            "Result of Row-wise Multiplication:\n",
            " [[ 4 10 18]\n",
            " [ 7 16 27]\n",
            " [10 22 36]]\n"
          ]
        }
      ]
    },
    {
      "cell_type": "code",
      "source": [
        "#38\n",
        "def add_row_to_each(arr1,arr2):\n",
        "    return arr2 + arr1\n",
        "\n",
        "arr1=np.array([[1,2,3]])\n",
        "arr2=np.array([[10,11,14],\n",
        "               [13,14,15],\n",
        "               [16,17,18],\n",
        "               [19,20,21]])\n",
        "result=add_row_to_each(arr1, arr2)\n",
        "print(\"Result of Adding Array to Rows:\\n\",result)\n"
      ],
      "metadata": {
        "colab": {
          "base_uri": "https://localhost:8080/"
        },
        "id": "4AmYCQzHrRcc",
        "outputId": "cd40df0a-7a83-4820-da12-1a5e6e043347"
      },
      "execution_count": null,
      "outputs": [
        {
          "output_type": "stream",
          "name": "stdout",
          "text": [
            "Result of Adding Array to Rows:\n",
            " [[11 13 17]\n",
            " [14 16 18]\n",
            " [17 19 21]\n",
            " [20 22 24]]\n"
          ]
        }
      ]
    },
    {
      "cell_type": "code",
      "source": [
        "#39\n",
        "import numpy as np\n",
        "def add_broadcast(arr1, arr2):\n",
        "    return arr1 + arr2\n",
        "\n",
        "arr1=np.array([[1],\n",
        "               [2],\n",
        "               [3]])\n",
        "arr2=np.array([[4,5,6]])\n",
        "result=add_broadcast(arr1, arr2)\n",
        "print(\"Result of Broadcasting Addition:\\n\",result)\n"
      ],
      "metadata": {
        "colab": {
          "base_uri": "https://localhost:8080/"
        },
        "id": "9el2frwlreK6",
        "outputId": "3fabe192-00a5-43b2-a376-617f78045448"
      },
      "execution_count": 2,
      "outputs": [
        {
          "output_type": "stream",
          "name": "stdout",
          "text": [
            "Result of Broadcasting Addition:\n",
            " [[5 6 7]\n",
            " [6 7 8]\n",
            " [7 8 9]]\n"
          ]
        }
      ]
    },
    {
      "cell_type": "code",
      "source": [
        "#40\n",
        "arr1 = np.array([[1, 2, 3],\n",
        "                 [4, 5, 6]])\n",
        "\n",
        "arr2 = np.array([[7, 8],\n",
        "                 [9, 10]])\n",
        "\n",
        "arr3=np.hstack((arr2,arr2[:,:1]))\n",
        "result=arr1*arr3\n",
        "print(\"Result:\\n\", result)"
      ],
      "metadata": {
        "colab": {
          "base_uri": "https://localhost:8080/"
        },
        "id": "9srimhuE-vpl",
        "outputId": "17f47385-fe86-4a79-e9bd-8d565fc009ba"
      },
      "execution_count": 4,
      "outputs": [
        {
          "output_type": "stream",
          "name": "stdout",
          "text": [
            "Result:\n",
            " [[ 7 16 21]\n",
            " [36 50 54]]\n"
          ]
        }
      ]
    },
    {
      "cell_type": "code",
      "source": [
        "#41\n",
        "arr = np.array([[1, 2, 3], [4, 5, 6]])\n",
        "print(np.mean(arr,axis=0))"
      ],
      "metadata": {
        "colab": {
          "base_uri": "https://localhost:8080/"
        },
        "id": "WRENMi-XsPEU",
        "outputId": "229eeb4d-28cc-4a92-8200-bbf4d5341084"
      },
      "execution_count": null,
      "outputs": [
        {
          "output_type": "stream",
          "name": "stdout",
          "text": [
            "[2.5 3.5 4.5]\n"
          ]
        }
      ]
    },
    {
      "cell_type": "code",
      "source": [
        "#42\n",
        "arr = np.array([[1, 2, 3], [4, 5, 6]])\n",
        "print(np.max(arr,axis=1))"
      ],
      "metadata": {
        "colab": {
          "base_uri": "https://localhost:8080/"
        },
        "id": "I0YJfvfBsbXS",
        "outputId": "69143661-1006-499f-b4f1-1100ed8c521c"
      },
      "execution_count": null,
      "outputs": [
        {
          "output_type": "stream",
          "name": "stdout",
          "text": [
            "[3 6]\n"
          ]
        }
      ]
    },
    {
      "cell_type": "code",
      "source": [
        "#43\n",
        "arr = np.array([[1, 2, 3], [4, 5, 6]])\n",
        "print(np.argmax(arr,axis=0))"
      ],
      "metadata": {
        "colab": {
          "base_uri": "https://localhost:8080/"
        },
        "id": "SsGk6bfxtmNN",
        "outputId": "9a7ee685-558d-44a4-96c5-8a28c1331d70"
      },
      "execution_count": null,
      "outputs": [
        {
          "output_type": "stream",
          "name": "stdout",
          "text": [
            "[1 1 1]\n"
          ]
        }
      ]
    },
    {
      "cell_type": "code",
      "source": [
        "#44\n",
        "def sum(arr):\n",
        "  result=np.cumsum(arr, axis=1)\n",
        "  return result\n",
        "\n",
        "arr = np.array([[1, 2, 3],\n",
        "                [4, 5, 6]])\n",
        "print(\"Result:\\n\",sum(arr))"
      ],
      "metadata": {
        "colab": {
          "base_uri": "https://localhost:8080/"
        },
        "id": "XdnQR_ND-7VL",
        "outputId": "3db1f487-8b9d-4789-af1f-668cb524fbac"
      },
      "execution_count": 6,
      "outputs": [
        {
          "output_type": "stream",
          "name": "stdout",
          "text": [
            "Result:\n",
            " [[ 1  3  6]\n",
            " [ 4  9 15]]\n"
          ]
        }
      ]
    },
    {
      "cell_type": "code",
      "source": [
        "#45\n",
        "import numpy as np\n",
        "\n",
        "def are_all_elements_even(arr):\n",
        "    is_even = (arr % 2 == 0)\n",
        "    return np.all(is_even, axis=0)\n",
        "\n",
        "arr = np.array([[2, 4, 6], [3, 5, 7]])\n",
        "result = are_all_elements_even(arr)\n",
        "print(\"Are all elements in each column even?\", result)\n"
      ],
      "metadata": {
        "colab": {
          "base_uri": "https://localhost:8080/"
        },
        "id": "h8jYe_CXuD0U",
        "outputId": "71045378-9758-4a3b-b7fc-85c5fee5ddb5"
      },
      "execution_count": null,
      "outputs": [
        {
          "output_type": "stream",
          "name": "stdout",
          "text": [
            "Are all elements in each column even? [False False False]\n"
          ]
        }
      ]
    },
    {
      "cell_type": "code",
      "source": [
        "#46\n",
        "original_array = np.array([1,2,3,4,5,6])\n",
        "m,n=2,3\n",
        "\n",
        "reshaped_array = original_array.reshape(m, n)\n",
        "print(\"Reshaped array:\\n\", reshaped_array)\n"
      ],
      "metadata": {
        "colab": {
          "base_uri": "https://localhost:8080/"
        },
        "id": "9vfRCjmQvUSU",
        "outputId": "59f930e7-b30f-422e-cc2b-dc6465493ff1"
      },
      "execution_count": null,
      "outputs": [
        {
          "output_type": "stream",
          "name": "stdout",
          "text": [
            "Reshaped array:\n",
            " [[1 2 3]\n",
            " [4 5 6]]\n"
          ]
        }
      ]
    },
    {
      "cell_type": "code",
      "source": [
        "#47\n",
        "import numpy as np\n",
        "\n",
        "def flatten_matrix(matrix):\n",
        "    return matrix.flatten()\n",
        "\n",
        "matrix = np.array([[1, 2, 3], [4, 5, 6]])\n",
        "\n",
        "flattened_array = flatten_matrix(matrix)\n",
        "print(\"Flattened array:\", flattened_array)\n"
      ],
      "metadata": {
        "colab": {
          "base_uri": "https://localhost:8080/"
        },
        "id": "pKBGcKEVwr6X",
        "outputId": "275fefa7-60d7-4572-d31d-6edcd8dca89c"
      },
      "execution_count": null,
      "outputs": [
        {
          "output_type": "stream",
          "name": "stdout",
          "text": [
            "Flattened array: [1 2 3 4 5 6]\n"
          ]
        }
      ]
    },
    {
      "cell_type": "code",
      "source": [
        "#48\n",
        "import numpy as np\n",
        "\n",
        "def concatenate_arrays(arr1,arr2,axis):\n",
        "    return np.concatenate((arr1,arr2),axis=axis)\n",
        "\n",
        "arr1=np.array([[1,2],[3,4]])\n",
        "arr2=np.array([[5,6],[7,8]])\n",
        "\n",
        "result_axis0 = concatenate_arrays(arr1,arr2,axis=0)\n",
        "print(\"Concatenated along axis 0:\\n\", result_axis0)\n",
        "\n",
        "result_axis1 = concatenate_arrays(arr1,arr2,axis=1)\n",
        "print(\"Concatenated along axis 1:\\n\",result_axis1)"
      ],
      "metadata": {
        "colab": {
          "base_uri": "https://localhost:8080/"
        },
        "id": "yPBRBoiRw-7u",
        "outputId": "4a96e674-ac4c-4339-b174-aa414f5c0e03"
      },
      "execution_count": null,
      "outputs": [
        {
          "output_type": "stream",
          "name": "stdout",
          "text": [
            "Concatenated along axis 0:\n",
            " [[1 2]\n",
            " [3 4]\n",
            " [5 6]\n",
            " [7 8]]\n",
            "Concatenated along axis 1:\n",
            " [[1 2 5 6]\n",
            " [3 4 7 8]]\n"
          ]
        }
      ]
    },
    {
      "cell_type": "code",
      "source": [
        "#49\n",
        "import numpy as np\n",
        "\n",
        "def split_array(arr,num_splits,axis):\n",
        "    return np.array_split(arr,num_splits,axis=axis)\n",
        "\n",
        "arr= np.array([[1, 2, 3], [4, 5, 6], [7, 8, 9]])\n",
        "\n",
        "sub_arrays_axis0 = split_array(arr,2,axis=0)\n",
        "print(\"Split along axis 0:\")\n",
        "for i, sub_array in enumerate(sub_arrays_axis0):\n",
        "    print(f\"Sub-array {i}:\\n{sub_array}\")\n",
        "\n",
        "sub_arrays_axis1 = split_array(arr,3,axis=1)\n",
        "print(\"\\nSplit along axis 1:\")\n",
        "for i, sub_array in enumerate(sub_arrays_axis1):\n",
        "    print(f\"Sub-array {i}:\\n{sub_array}\")\n"
      ],
      "metadata": {
        "colab": {
          "base_uri": "https://localhost:8080/"
        },
        "id": "2oiMKGEnxmT4",
        "outputId": "96c4d838-85c8-457f-93b0-5e8602e1bb34"
      },
      "execution_count": null,
      "outputs": [
        {
          "output_type": "stream",
          "name": "stdout",
          "text": [
            "Split along axis 0:\n",
            "Sub-array 0:\n",
            "[[1 2 3]\n",
            " [4 5 6]]\n",
            "Sub-array 1:\n",
            "[[7 8 9]]\n",
            "\n",
            "Split along axis 1:\n",
            "Sub-array 0:\n",
            "[[1]\n",
            " [4]\n",
            " [7]]\n",
            "Sub-array 1:\n",
            "[[2]\n",
            " [5]\n",
            " [8]]\n",
            "Sub-array 2:\n",
            "[[3]\n",
            " [6]\n",
            " [9]]\n"
          ]
        }
      ]
    },
    {
      "cell_type": "code",
      "source": [
        "#50\n",
        "import numpy as np\n",
        "\n",
        "def insert_and_delete(original_array, indices_to_insert, values_to_insert, indices_to_delete):\n",
        "  for index, value in zip(indices_to_insert, values_to_insert):\n",
        "    original_array = np.insert(original_array, index, value)\n",
        "\n",
        "  for index in indices_to_delete:\n",
        "    original_array = np.delete(original_array, index)\n",
        "\n",
        "  return original_array\n",
        "\n",
        "original_array = np.array([1, 2, 3, 4, 5])\n",
        "indices_to_insert = [2, 4]\n",
        "values_to_insert = [10, 11]\n",
        "indices_to_delete = [1, 3]\n",
        "\n",
        "modified_array = insert_and_delete(original_array, indices_to_insert, values_to_insert, indices_to_delete)\n",
        "\n",
        "print(modified_array)"
      ],
      "metadata": {
        "colab": {
          "base_uri": "https://localhost:8080/"
        },
        "id": "c1-lM4C4ybkZ",
        "outputId": "e6fee282-4cf6-4274-8d33-f68f9f56b1a5"
      },
      "execution_count": null,
      "outputs": [
        {
          "output_type": "stream",
          "name": "stdout",
          "text": [
            "[ 1 10  3  4  5]\n"
          ]
        }
      ]
    },
    {
      "cell_type": "code",
      "source": [
        "#51\n",
        "arr1=np.random.randint(0,20,size=10)\n",
        "arr2=np.arange(1,11)\n",
        "print(\"Sum:\",arr1+arr2)"
      ],
      "metadata": {
        "colab": {
          "base_uri": "https://localhost:8080/"
        },
        "id": "sL3XJo_IzAG_",
        "outputId": "448bb28b-46bd-4ed4-f90c-62b91b1801be"
      },
      "execution_count": 7,
      "outputs": [
        {
          "output_type": "stream",
          "name": "stdout",
          "text": [
            "Sum: [11 16 13 19 14  9 17 18 17 25]\n"
          ]
        }
      ]
    },
    {
      "cell_type": "code",
      "source": [
        "#52\n",
        "arr1=np.arange(10,0,-1)\n",
        "arr2=np.arange(1,11)\n",
        "result=arr1-arr2\n",
        "print(\"Subtraction(arr1-arr2):\",result)"
      ],
      "metadata": {
        "id": "W9fvZKz4zcoP",
        "colab": {
          "base_uri": "https://localhost:8080/"
        },
        "outputId": "4467acc5-48e5-4ecd-fb0f-94bdaa6d6953"
      },
      "execution_count": 10,
      "outputs": [
        {
          "output_type": "stream",
          "name": "stdout",
          "text": [
            "Subtraction(arr1-arr2): [ 9  7  5  3  1 -1 -3 -5 -7 -9]\n"
          ]
        }
      ]
    },
    {
      "cell_type": "code",
      "source": [
        "#53\n",
        "arr1=np.random.randint(0,10,size=5)\n",
        "arr2=np.arange(1,6)\n",
        "\n",
        "result=arr1*arr2\n",
        "\n",
        "print(\"Result (arr1*arr2):\",result)"
      ],
      "metadata": {
        "colab": {
          "base_uri": "https://localhost:8080/"
        },
        "id": "NTIuk3ahBsgw",
        "outputId": "8b549bc8-07ec-457e-dea7-42088440031e"
      },
      "execution_count": 11,
      "outputs": [
        {
          "output_type": "stream",
          "name": "stdout",
          "text": [
            "Result (arr1*arr2): [ 3  2 15 28 25]\n"
          ]
        }
      ]
    },
    {
      "cell_type": "code",
      "source": [
        "#54\n",
        "arr1=np.arange(2,11,2)\n",
        "arr2=np.arange(1,6)\n",
        "\n",
        "result=arr1/arr2\n",
        "\n",
        "print(\"Result(arr1/arr2):\", result)"
      ],
      "metadata": {
        "colab": {
          "base_uri": "https://localhost:8080/"
        },
        "id": "5Lg-x2ItC3Bs",
        "outputId": "515bcb03-a1b5-4d51-8b74-fca9f3eb08f1"
      },
      "execution_count": 12,
      "outputs": [
        {
          "output_type": "stream",
          "name": "stdout",
          "text": [
            "Result(arr1/arr2): [2. 2. 2. 2. 2.]\n"
          ]
        }
      ]
    },
    {
      "cell_type": "code",
      "source": [
        "#55\n",
        "arr1=np.arange(1,6)\n",
        "arr2=arr1[::-1]\n",
        "\n",
        "result=arr1**arr2\n",
        "\n",
        "print(\"Result (arr1**arr2):\", result)"
      ],
      "metadata": {
        "colab": {
          "base_uri": "https://localhost:8080/"
        },
        "id": "kE_iFF9jDYeX",
        "outputId": "eb05b496-4d34-436d-ade2-0466eed85dd1"
      },
      "execution_count": 13,
      "outputs": [
        {
          "output_type": "stream",
          "name": "stdout",
          "text": [
            "Result (arr1**arr2): [ 1 16 27 16  5]\n"
          ]
        }
      ]
    },
    {
      "cell_type": "code",
      "source": [
        "#56\n",
        "def count_substring_occurrences(arr,substring):\n",
        "  return np.char.count(arr,substring)\n",
        "\n",
        "arr = np.array(['hello', 'world', 'hello', 'numpy', 'hello'])\n",
        "substring=\"hello\"\n",
        "\n",
        "result = count_substring_occurrences(arr,substring)\n",
        "print(\"Occurrences of substring:\",result)"
      ],
      "metadata": {
        "colab": {
          "base_uri": "https://localhost:8080/"
        },
        "id": "DWzwzWh7Dq60",
        "outputId": "5dea6300-29d8-4e54-9635-7891044c2ba7"
      },
      "execution_count": 14,
      "outputs": [
        {
          "output_type": "stream",
          "name": "stdout",
          "text": [
            "Occurrences of substring: [1 0 1 0 1]\n"
          ]
        }
      ]
    },
    {
      "cell_type": "code",
      "source": [
        "#57\n",
        "def extract_uppercase(arr):\n",
        "  up=[]\n",
        "  for word in arr:\n",
        "    for letter in word:\n",
        "      if letter.isupper():\n",
        "        up.append(letter)\n",
        "  return up\n",
        "\n",
        "arr=np.array(['Hello', 'World', 'OpenAI', 'GPT'])\n",
        "result=extract_uppercase(arr)\n",
        "print(result)"
      ],
      "metadata": {
        "colab": {
          "base_uri": "https://localhost:8080/"
        },
        "id": "LF2AWbCqEqls",
        "outputId": "15525224-ceb4-4284-a784-142844ead417"
      },
      "execution_count": 16,
      "outputs": [
        {
          "output_type": "stream",
          "name": "stdout",
          "text": [
            "['H' 'W' 'O' 'A' 'I' 'G' 'P' 'T']\n"
          ]
        }
      ]
    },
    {
      "cell_type": "code",
      "source": [
        "#58\n",
        "def replace(arr,oldsubstring,newsubstring):\n",
        "    return np.char.replace(arr,oldsubstring,newsubstring)\n",
        "\n",
        "arr=np.array(['apple', 'banana', 'grape', 'pineapple'])\n",
        "\n",
        "result=replace(arr,'apple','fruit')\n",
        "print(\"Replaced array:\", result)"
      ],
      "metadata": {
        "colab": {
          "base_uri": "https://localhost:8080/"
        },
        "id": "ULhpPpsfFgid",
        "outputId": "4f2def9a-aa3a-47c3-e71b-857951eb25f1"
      },
      "execution_count": 18,
      "outputs": [
        {
          "output_type": "stream",
          "name": "stdout",
          "text": [
            "Replaced array: ['fruit' 'banana' 'grape' 'pinefruit']\n"
          ]
        }
      ]
    },
    {
      "cell_type": "code",
      "source": [
        "#59\n",
        "def concat(arr1, arr2):\n",
        "  concatt = []\n",
        "  for i in range(len(arr1)):\n",
        "    concatt.append(arr1[i] + arr2[i])\n",
        "  return np.array(concatt)\n",
        "\n",
        "arr1 = np.array(['Hello', 'World'])\n",
        "arr2 = np.array(['Open', 'AI'])\n",
        "result = concat(arr1, arr2)\n",
        "print(result)"
      ],
      "metadata": {
        "colab": {
          "base_uri": "https://localhost:8080/"
        },
        "id": "JG9D5rlbGiB2",
        "outputId": "e07d706e-bc85-4268-9bcb-b905938b3304"
      },
      "execution_count": 19,
      "outputs": [
        {
          "output_type": "stream",
          "name": "stdout",
          "text": [
            "['HelloOpen' 'WorldAI']\n"
          ]
        }
      ]
    },
    {
      "cell_type": "code",
      "source": [
        "#60\n",
        "def length(arr):\n",
        "    lengths=np.char.str_len(arr)\n",
        "    return np.max(lengths)\n",
        "\n",
        "arr = np.array(['apple', 'banana', 'grape', 'pineapple'])\n",
        "\n",
        "result = length(arr)\n",
        "print(\"Length of the longest string:\",result)\n"
      ],
      "metadata": {
        "colab": {
          "base_uri": "https://localhost:8080/"
        },
        "id": "0QTGjkn9HSTr",
        "outputId": "7c8247c0-3265-4c38-96d6-3af86998ce7b"
      },
      "execution_count": 21,
      "outputs": [
        {
          "output_type": "stream",
          "name": "stdout",
          "text": [
            "Length of the longest string: 9\n"
          ]
        }
      ]
    },
    {
      "cell_type": "code",
      "source": [
        "#61\n",
        "data=np.random.randint(1,1001,size=100)\n",
        "mean=np.mean(data)\n",
        "median=np.median(data)\n",
        "variance=np.var(data)\n",
        "standerddev=np.std(data)\n",
        "\n",
        "print(\"Mean:\",mean)\n",
        "print(\"Median:\",median)\n",
        "print(\"Variance:\",variance)\n",
        "print(\"Standard Deviation:\",standerddev)\n"
      ],
      "metadata": {
        "colab": {
          "base_uri": "https://localhost:8080/"
        },
        "id": "M9ris9PNHuT8",
        "outputId": "edfb10ae-5751-44d6-b863-f2234b67af9d"
      },
      "execution_count": 22,
      "outputs": [
        {
          "output_type": "stream",
          "name": "stdout",
          "text": [
            "Mean: 485.5\n",
            "Median: 457.0\n",
            "Variance: 89414.29\n",
            "Standard Deviation: 299.0222232543929\n"
          ]
        }
      ]
    },
    {
      "cell_type": "code",
      "source": [
        "#62\n",
        "data=np.random.randint(1,101,size=50)\n",
        "\n",
        "percentile25=np.percentile(data,25)\n",
        "percentile75=np.percentile(data,75)\n",
        "\n",
        "print(\"25th Percentile:\",percentile25)\n",
        "print(\"75th Percentile:\",percentile75)"
      ],
      "metadata": {
        "colab": {
          "base_uri": "https://localhost:8080/"
        },
        "id": "dRbDnmyDIaxf",
        "outputId": "a7408c83-ab6c-4a35-84e0-0b00d456d83f"
      },
      "execution_count": 23,
      "outputs": [
        {
          "output_type": "stream",
          "name": "stdout",
          "text": [
            "25th Percentile: 22.25\n",
            "75th Percentile: 69.0\n"
          ]
        }
      ]
    },
    {
      "cell_type": "code",
      "source": [
        "#63\n",
        "arr1=np.array([1,2,3,4,5])\n",
        "arr2=np.array([2,4,6,8,10])\n",
        "\n",
        "matrix=np.corrcoef(arr1,arr2)\n",
        "correlation_coefficient=matrix[0,1]\n",
        "\n",
        "print(\"Correlation Coefficient:\",correlation_coefficient)"
      ],
      "metadata": {
        "colab": {
          "base_uri": "https://localhost:8080/"
        },
        "id": "2xO6FD5mI23m",
        "outputId": "2a2bff74-c939-452b-e303-7598d71a9f93"
      },
      "execution_count": 24,
      "outputs": [
        {
          "output_type": "stream",
          "name": "stdout",
          "text": [
            "Correlation Coefficient: 0.9999999999999999\n"
          ]
        }
      ]
    },
    {
      "cell_type": "code",
      "source": [
        "#64\n",
        "matrix1=np.array([[1,2],[3,4]])\n",
        "matrix2=np.array([[5,6],[7,8]])\n",
        "\n",
        "result=np.dot(matrix1,matrix2)\n",
        "\n",
        "print(result)"
      ],
      "metadata": {
        "colab": {
          "base_uri": "https://localhost:8080/"
        },
        "id": "Cy4CYYg_JZ6d",
        "outputId": "2b4689fc-d4c9-4a65-d0be-ead1606b4103"
      },
      "execution_count": 25,
      "outputs": [
        {
          "output_type": "stream",
          "name": "stdout",
          "text": [
            "[[19 22]\n",
            " [43 50]]\n"
          ]
        }
      ]
    },
    {
      "cell_type": "code",
      "source": [
        "#65\n",
        "data = np.random.randint(10,1001,size=50)\n",
        "percentile_10=np.percentile(data,10)\n",
        "percentile_50=np.percentile(data,50)\n",
        "percentile_90=np.percentile(data,90)\n",
        "\n",
        "quartile_1=np.percentile(data,25)\n",
        "quartile_3=np.percentile(data,75)\n",
        "\n",
        "print(\"10th Percentile:\",percentile_10)\n",
        "print(\"50th Percentile (Median):\",percentile_50)\n",
        "print(\"90th Percentile:\",percentile_90)\n",
        "print(\"First Quartile (25th Percentile):\",quartile_1)\n",
        "print(\"Third Quartile (75th Percentile):\",quartile_3)"
      ],
      "metadata": {
        "colab": {
          "base_uri": "https://localhost:8080/"
        },
        "id": "whyHe7o1K_JJ",
        "outputId": "053462c0-4222-4e23-ad70-54cc87c0f3d0"
      },
      "execution_count": 28,
      "outputs": [
        {
          "output_type": "stream",
          "name": "stdout",
          "text": [
            "10th Percentile: 97.90000000000002\n",
            "50th Percentile (Median): 455.0\n",
            "90th Percentile: 850.1\n",
            "First Quartile (25th Percentile): 274.0\n",
            "Third Quartile (75th Percentile): 721.0\n"
          ]
        }
      ]
    },
    {
      "cell_type": "code",
      "source": [],
      "metadata": {
        "id": "PX2Yqw__L46q"
      },
      "execution_count": null,
      "outputs": []
    },
    {
      "cell_type": "code",
      "source": [
        "#65\n",
        "arr=np.random.randint(1,101,size=10)\n",
        "arr1=np.sort(arr)\n",
        "\n",
        "print(\"Original Array:\",arr)\n",
        "print(\"Sorted Array:\",arr1)"
      ],
      "metadata": {
        "colab": {
          "base_uri": "https://localhost:8080/"
        },
        "id": "xAJDhc-aJsUh",
        "outputId": "39a6c7b7-03d5-40d3-e8f9-8148dd275c3f"
      },
      "execution_count": 27,
      "outputs": [
        {
          "output_type": "stream",
          "name": "stdout",
          "text": [
            "Original Array: [96 46 73 94 30 58 43 55 32 30]\n",
            "Sorted Array: [30 30 32 43 46 55 58 73 94 96]\n"
          ]
        }
      ]
    },
    {
      "cell_type": "code",
      "source": [
        "#66\n",
        "arr=np.array([10,20,30,40,50,60,70,80,90,100])\n",
        "element=50\n",
        "index=np.where(arr==element)[0]\n",
        "\n",
        "print(\"Array:\",arr)\n",
        "print(f\"Index of element {element}:\",index)"
      ],
      "metadata": {
        "colab": {
          "base_uri": "https://localhost:8080/"
        },
        "id": "eq0OOkXrKI10",
        "outputId": "af417126-fda7-44f6-92bb-e0b0690f4196"
      },
      "execution_count": 30,
      "outputs": [
        {
          "output_type": "stream",
          "name": "stdout",
          "text": [
            "Array: [ 10  20  30  40  50  60  70  80  90 100]\n",
            "Index of element 50: [4]\n"
          ]
        }
      ]
    },
    {
      "cell_type": "code",
      "source": [
        "#67\n",
        "arr1=np.random.randint(1,101,size=20)\n",
        "arr2=np.sort(arr1)\n",
        "\n",
        "print(\"Original Array:\",arr1)\n",
        "print(\"Sorted Array:\",arr2)"
      ],
      "metadata": {
        "colab": {
          "base_uri": "https://localhost:8080/"
        },
        "id": "XUgpy1C8WHG8",
        "outputId": "0e8edbf4-d244-490d-97da-cfe042162911"
      },
      "execution_count": 32,
      "outputs": [
        {
          "output_type": "stream",
          "name": "stdout",
          "text": [
            "Original Array: [65 27 79 25  5 94 14 55 96 46 70 42 27 98 20 74 13 49 63 93]\n",
            "Sorted Array: [ 5 13 14 20 25 27 27 42 46 49 55 63 65 70 74 79 93 94 96 98]\n"
          ]
        }
      ]
    },
    {
      "cell_type": "code",
      "source": [
        "#68\n",
        "arr=np.array([12,25,6,42,8,30])\n",
        "arr1=arr[arr>20]\n",
        "\n",
        "print(\"Original Array:\",arr)\n",
        "print(\"Filtered Array (elements > 20):\",arr1)"
      ],
      "metadata": {
        "colab": {
          "base_uri": "https://localhost:8080/"
        },
        "id": "UTapr0o9Wexs",
        "outputId": "51705965-4cfc-4aa6-bb7f-5f00ef33b218"
      },
      "execution_count": 33,
      "outputs": [
        {
          "output_type": "stream",
          "name": "stdout",
          "text": [
            "Original Array: [12 25  6 42  8 30]\n",
            "Filtered Array (elements > 20): [25 42 30]\n"
          ]
        }
      ]
    },
    {
      "cell_type": "code",
      "source": [
        "#69\n",
        "arr=np.array([1,5,8,12,15])\n",
        "arr1=arr[arr%3==0]\n",
        "\n",
        "print(\"Original Array:\",arr)\n",
        "print(\"Filtered Array (elements divisible by 3):\",arr1)"
      ],
      "metadata": {
        "colab": {
          "base_uri": "https://localhost:8080/"
        },
        "id": "eP6hiGTlYQIr",
        "outputId": "d5876518-5504-4623-9abf-85133865623a"
      },
      "execution_count": 34,
      "outputs": [
        {
          "output_type": "stream",
          "name": "stdout",
          "text": [
            "Original Array: [ 1  5  8 12 15]\n",
            "Filtered Array (elements divisible by 3): [12 15]\n"
          ]
        }
      ]
    },
    {
      "cell_type": "code",
      "source": [
        "#70\n",
        "arr=np.array([10,20,30,40,50])\n",
        "arr1=arr[(arr>=20)&(arr<=40)]\n",
        "\n",
        "print(\"Original Array:\", arr)\n",
        "print(\"Filtered Array (elements≥20 and ≤40):\",arr1)"
      ],
      "metadata": {
        "colab": {
          "base_uri": "https://localhost:8080/"
        },
        "id": "qiItOipvYpjO",
        "outputId": "6f0626f3-1524-4be8-9be2-e53cc4bc1f83"
      },
      "execution_count": 35,
      "outputs": [
        {
          "output_type": "stream",
          "name": "stdout",
          "text": [
            "Original Array: [10 20 30 40 50]\n",
            "Filtered Array (elements≥20 and ≤40): [20 30 40]\n"
          ]
        }
      ]
    },
    {
      "cell_type": "code",
      "source": [
        "#71\n",
        "arr=np.array([1,2,3])\n",
        "byte_order=arr.dtype.byteorder\n",
        "\n",
        "print(\"Byte Order:\", byte_order)"
      ],
      "metadata": {
        "colab": {
          "base_uri": "https://localhost:8080/"
        },
        "id": "cDVNLAgUZH9x",
        "outputId": "574fb5ae-b013-46c2-968f-6d2576b7fceb"
      },
      "execution_count": 36,
      "outputs": [
        {
          "output_type": "stream",
          "name": "stdout",
          "text": [
            "Byte Order: =\n"
          ]
        }
      ]
    },
    {
      "cell_type": "code",
      "source": [
        "#72\n",
        "arr=np.array([1,2,3],dtype=np.int32)\n",
        "arr.byteswap(inplace=True)\n",
        "\n",
        "print(\"Array after byte swapping:\",arr)"
      ],
      "metadata": {
        "colab": {
          "base_uri": "https://localhost:8080/"
        },
        "id": "icXzhLtrZXu8",
        "outputId": "430234f0-3073-4b55-8d83-c7ba44e4ec3a"
      },
      "execution_count": 37,
      "outputs": [
        {
          "output_type": "stream",
          "name": "stdout",
          "text": [
            "Array after byte swapping: [16777216 33554432 50331648]\n"
          ]
        }
      ]
    },
    {
      "cell_type": "code",
      "source": [
        "#73\n",
        "arr=np.array([1,2,3],dtype=np.int32)\n",
        "arr1=arr.newbyteorder()\n",
        "\n",
        "print(\"Original Array:\",arr)\n",
        "print(\"Array with Byte Order Swapped:\",arr1)"
      ],
      "metadata": {
        "colab": {
          "base_uri": "https://localhost:8080/"
        },
        "id": "mohImXMFZx3O",
        "outputId": "97e0171a-577e-4e23-c3c8-5caec0151074"
      },
      "execution_count": 38,
      "outputs": [
        {
          "output_type": "stream",
          "name": "stdout",
          "text": [
            "Original Array: [1 2 3]\n",
            "Array with Byte Order Swapped: [16777216 33554432 50331648]\n"
          ]
        }
      ]
    },
    {
      "cell_type": "code",
      "source": [
        "#74\n",
        "arr=np.array([1,2,3],dtype=np.int32)\n",
        "\n",
        "system_endian='='\n",
        "if np.dtype(np.int32).byteorder=='<':\n",
        "    system_endian='<'\n",
        "elif np.dtype(np.int32).byteorder=='>':\n",
        "    system_endian='>'\n",
        "\n",
        "if arr.dtype.byteorder!=system_endian:\n",
        "    arr1=arr.newbyteorder()\n",
        "else:\n",
        "    arr1=arr\n",
        "\n",
        "print(\"Original Array:\",arr)\n",
        "print(\"Array with Byte Order Swapped (if needed):\",arr1)"
      ],
      "metadata": {
        "colab": {
          "base_uri": "https://localhost:8080/"
        },
        "id": "RJxRKLLLaSAD",
        "outputId": "ca840216-0602-4fa1-90f2-b607f20a5890"
      },
      "execution_count": 39,
      "outputs": [
        {
          "output_type": "stream",
          "name": "stdout",
          "text": [
            "Original Array: [1 2 3]\n",
            "Array with Byte Order Swapped (if needed): [1 2 3]\n"
          ]
        }
      ]
    },
    {
      "cell_type": "code",
      "source": [
        "#75\n",
        "arr=np.array([1,2,3],dtype=np.int32)\n",
        "array_byteorder=arr.dtype.byteorder\n",
        "system_byteorder='='\n",
        "\n",
        "if array_byteorder==system_byteorder:\n",
        "    print(\"Byte swapping is not necessary. Array is in native byte order.\")\n",
        "else:\n",
        "    print(\"Byte swapping is necessary. Array is not in native byte order.\")"
      ],
      "metadata": {
        "colab": {
          "base_uri": "https://localhost:8080/"
        },
        "id": "09u7c1Oia8wO",
        "outputId": "42cc7c0d-236c-40bf-d519-1ad6eca9d72b"
      },
      "execution_count": 41,
      "outputs": [
        {
          "output_type": "stream",
          "name": "stdout",
          "text": [
            "Byte swapping is not necessary. Array is in native byte order.\n"
          ]
        }
      ]
    },
    {
      "cell_type": "code",
      "source": [
        "#76\n",
        "arr1=np.arange(1, 11)\n",
        "copy_arr=arr1.copy()\n",
        "copy_arr[0]=99\n",
        "\n",
        "print(\"Original Array (arr1):\",arr1)\n",
        "print(\"Modified Copy (copy_arr):\",copy_arr)"
      ],
      "metadata": {
        "colab": {
          "base_uri": "https://localhost:8080/"
        },
        "id": "RdQdgN8bbbWz",
        "outputId": "f941e344-3d0d-41d7-a42d-eb9a19fd7fc6"
      },
      "execution_count": 42,
      "outputs": [
        {
          "output_type": "stream",
          "name": "stdout",
          "text": [
            "Original Array (arr1): [ 1  2  3  4  5  6  7  8  9 10]\n",
            "Modified Copy (copy_arr): [99  2  3  4  5  6  7  8  9 10]\n"
          ]
        }
      ]
    },
    {
      "cell_type": "code",
      "source": [
        "#77\n",
        "matrix=np.random.randint(1,10,size=(3,3))\n",
        "view_slice=matrix[1:,1:]\n",
        "view_slice[0,0] = 99\n",
        "\n",
        "print(\"Original Matrix:\\n\",matrix)\n",
        "print(\"Slice View:\\n\",view_slice)"
      ],
      "metadata": {
        "colab": {
          "base_uri": "https://localhost:8080/"
        },
        "id": "ipIpj9Scb562",
        "outputId": "a2caa8c8-f9dd-4499-ad45-0063b285f21b"
      },
      "execution_count": 43,
      "outputs": [
        {
          "output_type": "stream",
          "name": "stdout",
          "text": [
            "Original Matrix:\n",
            " [[ 5  8  1]\n",
            " [ 4 99  7]\n",
            " [ 8  8  8]]\n",
            "Slice View:\n",
            " [[99  7]\n",
            " [ 8  8]]\n"
          ]
        }
      ]
    },
    {
      "cell_type": "code",
      "source": [
        "#78\n",
        "array_a=np.arange(1,13).reshape(4,3)\n",
        "view_b=array_a[1:,:2]\n",
        "\n",
        "view_b+=5\n",
        "\n",
        "print(\"Original Array A:\\n\",array_a)\n",
        "print(\"Modified Slice View B:\\n\",view_b)"
      ],
      "metadata": {
        "colab": {
          "base_uri": "https://localhost:8080/"
        },
        "id": "1dcCpldacXty",
        "outputId": "394d793e-41a2-4fea-b356-f39e100bef56"
      },
      "execution_count": 44,
      "outputs": [
        {
          "output_type": "stream",
          "name": "stdout",
          "text": [
            "Original Array A:\n",
            " [[ 1  2  3]\n",
            " [ 9 10  6]\n",
            " [12 13  9]\n",
            " [15 16 12]]\n",
            "Modified Slice View B:\n",
            " [[ 9 10]\n",
            " [12 13]\n",
            " [15 16]]\n"
          ]
        }
      ]
    },
    {
      "cell_type": "code",
      "source": [
        "#79\n",
        "arr=np.arange(1,9).reshape(2,4)\n",
        "reshaped_view=arr.reshape(4,2)\n",
        "\n",
        "reshaped_view[0,0]=99\n",
        "\n",
        "print(\"Original Array:\\n\",arr)\n",
        "print(\"Reshaped View:\\n\",reshaped_view)"
      ],
      "metadata": {
        "colab": {
          "base_uri": "https://localhost:8080/"
        },
        "id": "1HeU90ZWcpTN",
        "outputId": "76a8d534-d9ad-4a36-8c16-1c75629701bf"
      },
      "execution_count": 45,
      "outputs": [
        {
          "output_type": "stream",
          "name": "stdout",
          "text": [
            "Original Array:\n",
            " [[99  2  3  4]\n",
            " [ 5  6  7  8]]\n",
            "Reshaped View:\n",
            " [[99  2]\n",
            " [ 3  4]\n",
            " [ 5  6]\n",
            " [ 7  8]]\n"
          ]
        }
      ]
    },
    {
      "cell_type": "code",
      "source": [
        "#80\n",
        "data=np.random.randint(1,10,size=(3,4))\n",
        "data_copy=data[data>5].copy()\n",
        "data_copy[0]=99\n",
        "\n",
        "print(\"Original Data:\\n\",data)\n",
        "print(\"Modified Copy:\\n\",data_copy)"
      ],
      "metadata": {
        "colab": {
          "base_uri": "https://localhost:8080/"
        },
        "id": "U7guLDL0dLes",
        "outputId": "8fb96343-2b17-4161-ed8c-b4909e1408f6"
      },
      "execution_count": 46,
      "outputs": [
        {
          "output_type": "stream",
          "name": "stdout",
          "text": [
            "Original Data:\n",
            " [[8 5 7 4]\n",
            " [8 4 5 7]\n",
            " [9 6 5 3]]\n",
            "Modified Copy:\n",
            " [99  7  8  7  9  6]\n"
          ]
        }
      ]
    },
    {
      "cell_type": "code",
      "source": [
        "#81\n",
        "A=np.array([[1,2],[3,4]])\n",
        "B=np.array([[5,6],[7,8]])\n",
        "\n",
        "sum_matrix=A+B\n",
        "diff_matrix=A-B\n",
        "\n",
        "print(\"Matrix A:\\n\",A)\n",
        "print(\"Matrix B:\\n\",B)\n",
        "print(\"Sum of A and B:\\n\",sum_matrix)\n",
        "print(\"Difference of A and B:\\n\",diff_matrix)"
      ],
      "metadata": {
        "colab": {
          "base_uri": "https://localhost:8080/"
        },
        "id": "18ITY7rMdgS6",
        "outputId": "bf0ae09b-719c-4647-add2-c9774578c077"
      },
      "execution_count": 47,
      "outputs": [
        {
          "output_type": "stream",
          "name": "stdout",
          "text": [
            "Matrix A:\n",
            " [[1 2]\n",
            " [3 4]]\n",
            "Matrix B:\n",
            " [[5 6]\n",
            " [7 8]]\n",
            "Sum of A and B:\n",
            " [[ 6  8]\n",
            " [10 12]]\n",
            "Difference of A and B:\n",
            " [[-4 -4]\n",
            " [-4 -4]]\n"
          ]
        }
      ]
    },
    {
      "cell_type": "code",
      "source": [
        "#82\n",
        "C=np.random.randint(1,10,size=(3,2))\n",
        "D=np.random.randint(1,10,size=(2,4))\n",
        "\n",
        "result=np.dot(C,D)\n",
        "\n",
        "print(\"Matrix C:\\n\",C)\n",
        "print(\"Matrix D:\\n\",D)\n",
        "print(\"Matrix Multiplication Result:\\n\",result)"
      ],
      "metadata": {
        "colab": {
          "base_uri": "https://localhost:8080/"
        },
        "id": "aZ4go1a2d1Da",
        "outputId": "a6a17d1a-84ef-4fec-f8c4-43951f6c710c"
      },
      "execution_count": 48,
      "outputs": [
        {
          "output_type": "stream",
          "name": "stdout",
          "text": [
            "Matrix C:\n",
            " [[3 4]\n",
            " [3 5]\n",
            " [7 3]]\n",
            "Matrix D:\n",
            " [[2 2 3 6]\n",
            " [1 9 1 7]]\n",
            "Matrix Multiplication Result:\n",
            " [[10 42 13 46]\n",
            " [11 51 14 53]\n",
            " [17 41 24 63]]\n"
          ]
        }
      ]
    },
    {
      "cell_type": "code",
      "source": [
        "#83\n",
        "E=np.random.randint(1,10,size=(4,3))\n",
        "E_transposed=E.T\n",
        "\n",
        "print(\"Matrix E:\\n\",E)\n",
        "print(\"Transpose of E:\\n\",E_transposed)"
      ],
      "metadata": {
        "colab": {
          "base_uri": "https://localhost:8080/"
        },
        "id": "M_L7DJC5eN43",
        "outputId": "bc1182a1-44d7-4ded-ed6f-8be4b2d9cfe7"
      },
      "execution_count": 50,
      "outputs": [
        {
          "output_type": "stream",
          "name": "stdout",
          "text": [
            "Matrix E:\n",
            " [[1 4 6]\n",
            " [9 5 9]\n",
            " [4 9 6]\n",
            " [1 6 3]]\n",
            "Transpose of E:\n",
            " [[1 9 4 1]\n",
            " [4 5 9 6]\n",
            " [6 9 6 3]]\n"
          ]
        }
      ]
    },
    {
      "cell_type": "code",
      "source": [
        "#84\n",
        "F=np.random.randint(1,10,size=(3,3))\n",
        "determinant=np.linalg.det(F)\n",
        "\n",
        "print(\"Matrix F:\\n\",F)\n",
        "print(\"Determinant of F:\",determinant)"
      ],
      "metadata": {
        "colab": {
          "base_uri": "https://localhost:8080/"
        },
        "id": "YRA5LtdCeUoE",
        "outputId": "64af65f1-324c-4328-fa75-35ea16a6aee5"
      },
      "execution_count": 51,
      "outputs": [
        {
          "output_type": "stream",
          "name": "stdout",
          "text": [
            "Matrix F:\n",
            " [[4 5 8]\n",
            " [9 7 8]\n",
            " [7 5 6]]\n",
            "Determinant of F: -13.999999999999991\n"
          ]
        }
      ]
    },
    {
      "cell_type": "code",
      "source": [
        "#85\n",
        "G=np.array([[1,2],[3,4]])\n",
        "inverse_G=np.linalg.inv(G)\n",
        "\n",
        "print(\"Matrix G:\\n\",G)\n",
        "print(\"Inverse of G:\\n\",inverse_G)"
      ],
      "metadata": {
        "colab": {
          "base_uri": "https://localhost:8080/"
        },
        "id": "X-NUQW_wexuW",
        "outputId": "5d8e1deb-0562-4457-f00e-7a0f7c3a2df6"
      },
      "execution_count": 52,
      "outputs": [
        {
          "output_type": "stream",
          "name": "stdout",
          "text": [
            "Matrix G:\n",
            " [[1 2]\n",
            " [3 4]]\n",
            "Inverse of G:\n",
            " [[-2.   1. ]\n",
            " [ 1.5 -0.5]]\n"
          ]
        }
      ]
    },
    {
      "cell_type": "code",
      "source": [
        "#sorry sir for previous submittiom"
      ],
      "metadata": {
        "id": "FRLgZbW_e-LJ"
      },
      "execution_count": null,
      "outputs": []
    }
  ]
}