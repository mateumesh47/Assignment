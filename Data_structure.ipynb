{
  "nbformat": 4,
  "nbformat_minor": 0,
  "metadata": {
    "colab": {
      "provenance": [],
      "authorship_tag": "ABX9TyPWG6Gc1EYME9T9Iok6Ezp/",
      "include_colab_link": true
    },
    "kernelspec": {
      "name": "python3",
      "display_name": "Python 3"
    },
    "language_info": {
      "name": "python"
    }
  },
  "cells": [
    {
      "cell_type": "markdown",
      "metadata": {
        "id": "view-in-github",
        "colab_type": "text"
      },
      "source": [
        "<a href=\"https://colab.research.google.com/github/mateumesh47/Assignment/blob/main/Data_structure.ipynb\" target=\"_parent\"><img src=\"https://colab.research.google.com/assets/colab-badge.svg\" alt=\"Open In Colab\"/></a>"
      ]
    },
    {
      "cell_type": "code",
      "execution_count": 1,
      "metadata": {
        "colab": {
          "base_uri": "https://localhost:8080/",
          "height": 72
        },
        "id": "tDNeYtYFJa6s",
        "outputId": "c0be8ffe-9043-4275-ef65-9b9ae90c7c76"
      },
      "outputs": [
        {
          "output_type": "execute_result",
          "data": {
            "text/plain": [
              "'\\nDeques:\\n1.Optimized for appends and pops at both ends.\\n2.Potentially faster for frequent operations at both ends.\\n3.Offer additional methods like rotate() and maxlen.\\n\\nLists:\\n1.Simpler to use for basic queue operations.\\n2.May be slower for frequent appends and pops at the beginning.\\n\\nChoose a deque if:\\n1.You need efficient operations at both ends of the queue.\\n2.You require deque-specific methods.\\n\\nChoose a list if:\\n1.Simplicity is your priority.\\n2.Performance differences are not critical.\\n'"
            ],
            "application/vnd.google.colaboratory.intrinsic+json": {
              "type": "string"
            }
          },
          "metadata": {},
          "execution_count": 1
        }
      ],
      "source": [
        "#1\n",
        "\"\"\"\n",
        "Deques:\n",
        "1.Optimized for appends and pops at both ends.\n",
        "2.Potentially faster for frequent operations at both ends.\n",
        "3.Offer additional methods like rotate() and maxlen.\n",
        "\n",
        "Lists:\n",
        "1.Simpler to use for basic queue operations.\n",
        "2.May be slower for frequent appends and pops at the beginning.\n",
        "\n",
        "Choose a deque if:\n",
        "1.You need efficient operations at both ends of the queue.\n",
        "2.You require deque-specific methods.\n",
        "\n",
        "Choose a list if:\n",
        "1.Simplicity is your priority.\n",
        "2.Performance differences are not critical.\n",
        "\"\"\""
      ]
    },
    {
      "cell_type": "code",
      "source": [
        "#2\n",
        "\"\"\"\n",
        " Imagine you’re using a text editor and you type some text, but then you want to undo your last action.\n",
        "\n",
        "How It Works:\n",
        "Stack Use: Each action (like typing or deleting text) is stored in a stack.\n",
        "Undo Action: When you hit \"undo,\" the most recent action is removed from the stack and reversed.\n",
        "\n",
        "Why a Stack is Better:\n",
        "Last In, First Out: It naturally handles the need to reverse the most recent action first.\n",
        "Efficiency: It’s quick and simple to add and remove actions from the stack.\n",
        "\"\"\""
      ],
      "metadata": {
        "id": "5toKhIs_KOMg"
      },
      "execution_count": null,
      "outputs": []
    },
    {
      "cell_type": "code",
      "source": [
        "#3\n",
        "\"\"\"\n",
        "Unique Elements: Sets automatically keep only unique items and ignore duplicates.\n",
        "When to Use Sets:\n",
        "\n",
        "Removing Duplicates:\n",
        "Problem: You have a list with repeated items and want just the unique ones.\n",
        "Solution: Convert the list to a set, and it will automatically remove duplicates.\n",
        "\n",
        "Checking Membership:\n",
        "Problem: You need to quickly check if something is in a collection.\n",
        "Solution: Sets make this check fast and easy.\n",
        "\n",
        "Set Operations:\n",
        "Problem: You want to combine or compare collections of items.\n",
        "Solution: Sets can easily perform operations like combining lists or finding common items.\n",
        "\"\"\""
      ],
      "metadata": {
        "id": "e68KcayfLJdy"
      },
      "execution_count": null,
      "outputs": []
    },
    {
      "cell_type": "code",
      "source": [
        "#4\n",
        "\"\"\"\n",
        "Performance:\n",
        "Faster Numerical Operations: Arrays are often implemented in a more efficient way than lists, especially when performing mathematical operations on large datasets.\n",
        "This is because arrays are typically stored in contiguous memory blocks, allowing for optimized access and calculations.\n",
        "\n",
        "Memory Efficiency:\n",
        "Fixed Size: Arrays have a fixed size, meaning their memory allocation is determined upfront. This can be beneficial in scenarios where you know the exact number\n",
        "of elements you'll need, as it avoids unnecessary memory reallocation that can occur with lists.\n",
        "\n",
        "Interoperability with External Libraries:\n",
        "NumPy: NumPy is a popular library for numerical computing in Python, and it primarily works with arrays. If you're heavily reliant on NumPy's functions and operations,\n",
        "using arrays will provide seamless integration and optimal performance.\n",
        "\"\"\""
      ],
      "metadata": {
        "id": "e0cdt2m2LlJO"
      },
      "execution_count": null,
      "outputs": []
    },
    {
      "cell_type": "code",
      "source": [
        "#5\n",
        "\"\"\"\n",
        "Dictionaries store data as key-value pairs, where each key is unique and maps to a value.\n",
        "Lists store data in an ordered sequence, where each item is accessed by its position (index) in the list.\n",
        "\n",
        "user_info = {'umesh': '20 years old', 'sahil': '18 years old'}\n",
        "print(user_info['umesh'])\n",
        "\n",
        "tasks = ['task1', 'task2', 'task3']\n",
        "print(tasks[1])\n",
        "\"\"\""
      ],
      "metadata": {
        "id": "Y2pM7dGKMcka"
      },
      "execution_count": null,
      "outputs": []
    }
  ]
}