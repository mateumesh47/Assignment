{
 "cells": [
  {
   "cell_type": "code",
   "execution_count": 5,
   "id": "bd3e2af1-98a7-4a9d-bf95-ba3922ffd98a",
   "metadata": {},
   "outputs": [
    {
     "name": "stdout",
     "output_type": "stream",
     "text": [
      "1\n",
      "2\n",
      "3\n",
      "4\n",
      "5\n"
     ]
    }
   ],
   "source": [
    "#1\n",
    "count=1\n",
    "while count<=5:\n",
    "    print(count)\n",
    "    count+=1"
   ]
  },
  {
   "cell_type": "code",
   "execution_count": 6,
   "id": "8f3c024e-a8c8-460d-9cd0-8d2f19aa61ed",
   "metadata": {},
   "outputs": [
    {
     "name": "stdout",
     "output_type": "stream",
     "text": [
      "55\n"
     ]
    }
   ],
   "source": [
    "#2\n",
    "count=1\n",
    "sum=0\n",
    "while count<=10:\n",
    "    sum=sum+count\n",
    "    count+=1\n",
    "print(sum)    "
   ]
  },
  {
   "cell_type": "code",
   "execution_count": 7,
   "id": "9aca6a9b-eca3-40b2-9628-c56e04976165",
   "metadata": {},
   "outputs": [
    {
     "name": "stdin",
     "output_type": "stream",
     "text": [
      "Enter Number: 5\n"
     ]
    },
    {
     "name": "stdout",
     "output_type": "stream",
     "text": [
      "Factorial of 5 is 120\n"
     ]
    }
   ],
   "source": [
    "#3\n",
    "num=int(input(\"Enter Number:\"))\n",
    "result=1;\n",
    "for i in range(1,num+1):\n",
    "    result*=i\n",
    "\n",
    "print(f\"Factorial of {num} is {result}\")"
   ]
  },
  {
   "cell_type": "code",
   "execution_count": 13,
   "id": "45145542-6691-4c42-b26c-3fb009d45abd",
   "metadata": {},
   "outputs": [
    {
     "name": "stdin",
     "output_type": "stream",
     "text": [
      "Enter string: umesh\n"
     ]
    },
    {
     "name": "stdout",
     "output_type": "stream",
     "text": [
      "Number of vowels: 2\n"
     ]
    }
   ],
   "source": [
    "#4\n",
    "num=str(input(\"Enter string:\"))\n",
    "count=0\n",
    "vowels=\"aeiouAEIOU\"\n",
    "for i in num:\n",
    "    if i in vowels:\n",
    "        count+=1\n",
    "\n",
    "print(\"Number of vowels:\",count)"
   ]
  },
  {
   "cell_type": "code",
   "execution_count": 18,
   "id": "652e5e10-9c4e-41c3-8a01-2241862075dc",
   "metadata": {},
   "outputs": [
    {
     "name": "stdout",
     "output_type": "stream",
     "text": [
      "*\n",
      "**\n",
      "***\n",
      "****\n",
      "*****\n"
     ]
    }
   ],
   "source": [
    "#5\n",
    "for i in range(1,6):\n",
    "    for j in range(1,i+1):\n",
    "        print(\"*\",end=\"\")\n",
    "    print()"
   ]
  },
  {
   "cell_type": "code",
   "execution_count": 20,
   "id": "41d4dd26-2bfc-4529-b1dc-0cbd51f3b4ee",
   "metadata": {},
   "outputs": [
    {
     "name": "stdout",
     "output_type": "stream",
     "text": [
      "     *\n",
      "    ***\n",
      "   *****\n",
      "  *******\n",
      " *********\n"
     ]
    }
   ],
   "source": [
    "#5\n",
    "for i in range(1,6):\n",
    "    for k in range(6-i):\n",
    "        print(\" \",end=\"\")\n",
    "    for k in range(2*i-1):\n",
    "        print(\"*\",end=\"\")\n",
    "    print()"
   ]
  },
  {
   "cell_type": "code",
   "execution_count": 30,
   "id": "a68cf5b8-86dd-4612-845f-ff809094b06c",
   "metadata": {},
   "outputs": [
    {
     "name": "stdout",
     "output_type": "stream",
     "text": [
      "     *\n",
      "    ***\n",
      "   *****\n",
      "  *******\n",
      " *********\n",
      " *********\n",
      "  *******\n",
      "   *****\n",
      "    ***\n",
      "     *\n"
     ]
    }
   ],
   "source": [
    "#5\n",
    "for i in range(1,6):\n",
    "    for k in range(6-i):\n",
    "        print(\" \",end=\"\")\n",
    "    for k in range(2*i-1):\n",
    "        print(\"*\",end=\"\")\n",
    "    print()\n",
    "\n",
    "for i in range(6-1,0,-1):\n",
    "    for k in range(6-i):\n",
    "        print(\" \",end=\"\")\n",
    "    for k in range(2*i-1):\n",
    "        print(\"*\",end=\"\")\n",
    "    print()"
   ]
  },
  {
   "cell_type": "code",
   "execution_count": 29,
   "id": "123355ef-cc42-4596-8172-849ad1f5fb2e",
   "metadata": {},
   "outputs": [
    {
     "name": "stdout",
     "output_type": "stream",
     "text": [
      " *********\n",
      "  *******\n",
      "   *****\n",
      "    ***\n",
      "     *\n"
     ]
    }
   ],
   "source": [
    "for i in range(6-1,0,-1):\n",
    "    for k in range(6-i):\n",
    "        print(\" \",end=\"\")\n",
    "    for k in range(2*i-1):\n",
    "        print(\"*\",end=\"\")\n",
    "    print()\n"
   ]
  },
  {
   "cell_type": "code",
   "execution_count": 34,
   "id": "89ffe7f2-392b-461b-addd-cec844740a2f",
   "metadata": {},
   "outputs": [
    {
     "name": "stdout",
     "output_type": "stream",
     "text": [
      "   1    2    3    4    5    6    7    8    9   10 \n",
      "   2    4    6    8   10   12   14   16   18   20 \n",
      "   3    6    9   12   15   18   21   24   27   30 \n",
      "   4    8   12   16   20   24   28   32   36   40 \n",
      "   5   10   15   20   25   30   35   40   45   50 \n",
      "   6   12   18   24   30   36   42   48   54   60 \n",
      "   7   14   21   28   35   42   49   56   63   70 \n",
      "   8   16   24   32   40   48   56   64   72   80 \n",
      "   9   18   27   36   45   54   63   72   81   90 \n",
      "  10   20   30   40   50   60   70   80   90  100 \n"
     ]
    }
   ],
   "source": [
    "#6\n",
    "for i in range(1,11):\n",
    "    for j in range(1,11):\n",
    "        print(f\"{i*j:4}\",end=\" \")\n",
    "    print()"
   ]
  },
  {
   "cell_type": "code",
   "execution_count": null,
   "id": "dce3324e-b27e-421b-9b31-6a041e6aa1e9",
   "metadata": {},
   "outputs": [],
   "source": []
  },
  {
   "cell_type": "code",
   "execution_count": null,
   "id": "1b12acd3-23c0-4d40-9729-1006ceeb5532",
   "metadata": {},
   "outputs": [],
   "source": []
  }
 ],
 "metadata": {
  "kernelspec": {
   "display_name": "Python 3 (ipykernel)",
   "language": "python",
   "name": "python3"
  },
  "language_info": {
   "codemirror_mode": {
    "name": "ipython",
    "version": 3
   },
   "file_extension": ".py",
   "mimetype": "text/x-python",
   "name": "python",
   "nbconvert_exporter": "python",
   "pygments_lexer": "ipython3",
   "version": "3.11.5"
  }
 },
 "nbformat": 4,
 "nbformat_minor": 5
}
