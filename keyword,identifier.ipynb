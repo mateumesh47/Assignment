{
 "cells": [
  {
   "cell_type": "code",
   "execution_count": 1,
   "id": "b4e43358-cfa9-4179-8cbd-65059b2b978a",
   "metadata": {},
   "outputs": [
    {
     "data": {
      "text/plain": [
       "\"\\nPython keywords are special reserved words that have a predefined meaning in the Python language.\\nThey cannot be used as identifiers such as variable names or function names because they are \\nreserved for the language's syntax and structure.\\n\\nexample:if,else,elif,while,def,class,break,try,global,except\\n\""
      ]
     },
     "execution_count": 1,
     "metadata": {},
     "output_type": "execute_result"
    }
   ],
   "source": [
    "#1 explain the significance of keyword\n",
    "\"\"\"\n",
    "Python keywords are special reserved words that have a predefined meaning in the Python language.\n",
    "They cannot be used as identifiers such as variable names or function names because they are \n",
    "reserved for the language's syntax and structure.\n",
    "\n",
    "example:if,else,elif,while,def,class,break,try,global,except\n",
    "\"\"\""
   ]
  },
  {
   "cell_type": "code",
   "execution_count": null,
   "id": "9421f8d8-c681-4c56-a079-1166cdbbfd0c",
   "metadata": {},
   "outputs": [],
   "source": [
    "#2Describe the rule for defining identifier in python\n",
    "\"\"\"\n",
    "1)Start with a Letter or Underscore: An identifier must begin with a letter (a-z or A-Z) or an\n",
    "underscore (_). It cannot start with a number.\n",
    "Example: my_variable, _hidden, X\n",
    "\n",
    "2)No Reserved Keywords: Identifiers cannot be the same as Python’s reserved keywords (e.g., if, \n",
    "else, while, def,).\n",
    "Example: if and for are not allowed as identifiers.\n",
    "\n",
    "3)Cannot Use Special Characters: Identifiers cannot contain special characters such as @, #, $, \n",
    "Example: total#amount is not allowed.\n",
    "\n",
    "4)No Spaces: Identifiers cannot have spaces. Use underscores to separate words if needed.\n",
    "Example: total_amount is valid, but total amount is not.\n",
    "\n",
    "5)Case-Sensitive: Identifiers are case-sensitive, meaning Variable, variable, and VARIABLE are\n",
    "considered different identifiers.\n",
    "Example: score and Score are different.\n",
    "\n",
    "6)Follow with Letters, Digits, or Underscores: After the first character, the identifier can \n",
    "include letters, digits (0-9), and underscores.\n",
    "Example: variable1, data_list, total_sum_2024\n",
    "\"\"\""
   ]
  },
  {
   "cell_type": "code",
   "execution_count": null,
   "id": "0ffd3a0f-41c6-4a8b-88af-a5a646204f04",
   "metadata": {},
   "outputs": [],
   "source": [
    "#3what are comments in python\n",
    "\"\"\"\n",
    "In Python, comments are used to explain and annotate code. They are ignored by the Python \n",
    "interpreter, so they don’t affect the execution of the program. \n",
    "\n",
    "1. Single-Line Comments\n",
    "Single-line comments start with a # symbol. Everything after # on that line is considered a comment.\n",
    "\n",
    "example :# This is a single-line comment\n",
    "print(\"Hello, World!\")  # This comment is next to code\n",
    "\n",
    "\n",
    "2. Multi-Line Comments\n",
    "Python does not have a built-in multi-line comment syntax like some other languages. Instead, \n",
    "you can use consecutive single-line comments or triple quotes to simulate multi-line comments.\n",
    "\n",
    "Example:\n",
    "\"\"\"\n",
    "\"\"\"\n",
    "This is a multi-line comment.\n",
    "It spans multiple lines and is often used for\n",
    "detailed explanations or documentation.\n",
    "\"\"\"\n",
    "\n",
    "print(\"Hello, World!\")\n",
    "\"\"\""
   ]
  },
  {
   "cell_type": "code",
   "execution_count": null,
   "id": "ce72e4ca-b32a-4b4b-b74b-c3ce449d382a",
   "metadata": {},
   "outputs": [],
   "source": [
    "#4why proper identation is important in python\n",
    "\"\"\"\n",
    "1. Syntax Requirements\n",
    "Block Structure: In Python, indentation defines the structure of the code. It indicates which \n",
    "statements belong to the same block of code. For example, all statements within an if statement\n",
    "or a for loop must be indented the same way.\n",
    "\n",
    "2. Code Readability\n",
    "Visual Clarity: Proper indentation makes the code easier to read and understand. \n",
    "It visually separates different blocks of code, making it clear which statements are related.\n",
    "\n",
    "3. Consistency\n",
    "Uniform Style: Consistent indentation helps maintain a uniform coding style, making it easier \n",
    "for multiple developers to work on the same codebase. It prevents confusion about which lines of \n",
    "code belong together.\n",
    "\n",
    "4. Logical Grouping\n",
    "Control Flow: Indentation is used to group statements logically. For example, in conditional \n",
    "statements and loops, indentation shows which statements are executed based on certain conditions \n",
    "or repetitions.\n",
    "\"\"\""
   ]
  },
  {
   "cell_type": "code",
   "execution_count": null,
   "id": "b557f8a0-be6f-4689-b7e4-5bc1090f1e78",
   "metadata": {},
   "outputs": [],
   "source": [
    "#5what whappen if indentation is incorrect in python\n",
    "\"\"\"\n",
    "1. Syntax Errors\n",
    "2. Logical Errors\n",
    "3. Confusing Readability\n",
    "4. Unexpected Behavior\n",
    "\"\"\""
   ]
  },
  {
   "cell_type": "code",
   "execution_count": null,
   "id": "c077e153-e0f2-4b45-a4d3-dcdce5dc397e",
   "metadata": {},
   "outputs": [],
   "source": [
    "#6expression and statement\n",
    "\n",
    "'''\n",
    "Expression\n",
    "An expression is a combination of values, variables, operators, and functions that evaluates \n",
    "to a value. Expressions are used to compute or produce values.\n",
    "'''\n",
    "'''\n",
    "Statement\n",
    "A statement is a complete unit of execution that performs an action. Statements do not \n",
    "return values. Instead, they control the flow of the program, perform operations, or define \n",
    "behaviors.\n",
    "'''"
   ]
  },
  {
   "cell_type": "code",
   "execution_count": null,
   "id": "a9d8fd43-eebf-4f01-a5ae-a9a6e4b86489",
   "metadata": {},
   "outputs": [],
   "source": []
  }
 ],
 "metadata": {
  "kernelspec": {
   "display_name": "Python 3 (ipykernel)",
   "language": "python",
   "name": "python3"
  },
  "language_info": {
   "codemirror_mode": {
    "name": "ipython",
    "version": 3
   },
   "file_extension": ".py",
   "mimetype": "text/x-python",
   "name": "python",
   "nbconvert_exporter": "python",
   "pygments_lexer": "ipython3",
   "version": "3.11.5"
  }
 },
 "nbformat": 4,
 "nbformat_minor": 5
}
