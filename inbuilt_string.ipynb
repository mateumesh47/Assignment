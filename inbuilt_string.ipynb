{
  "nbformat": 4,
  "nbformat_minor": 0,
  "metadata": {
    "colab": {
      "provenance": [],
      "authorship_tag": "ABX9TyNpJZUlzN1jpOi/ldmEPWis",
      "include_colab_link": true
    },
    "kernelspec": {
      "name": "python3",
      "display_name": "Python 3"
    },
    "language_info": {
      "name": "python"
    }
  },
  "cells": [
    {
      "cell_type": "markdown",
      "metadata": {
        "id": "view-in-github",
        "colab_type": "text"
      },
      "source": [
        "<a href=\"https://colab.research.google.com/github/mateumesh47/Assignment/blob/main/inbuilt_string.ipynb\" target=\"_parent\"><img src=\"https://colab.research.google.com/assets/colab-badge.svg\" alt=\"Open In Colab\"/></a>"
      ]
    },
    {
      "cell_type": "code",
      "execution_count": 1,
      "metadata": {
        "colab": {
          "base_uri": "https://localhost:8080/"
        },
        "id": "hAlSLgwFdsIB",
        "outputId": "31149690-e572-4731-aaef-0d92b53b7a24"
      },
      "outputs": [
        {
          "output_type": "execute_result",
          "data": {
            "text/plain": [
              "5"
            ]
          },
          "metadata": {},
          "execution_count": 1
        }
      ],
      "source": [
        "#1\n",
        "\"\"\"\n",
        "len() function is to find the length of string\n",
        "\"\"\"\n",
        "name=\"umesh\"\n",
        "len(name)"
      ]
    },
    {
      "cell_type": "code",
      "source": [
        "#2\n",
        "a=\"DB\"\n",
        "b=\"MS\"\n",
        "c=a+b\n",
        "print(c)"
      ],
      "metadata": {
        "colab": {
          "base_uri": "https://localhost:8080/"
        },
        "id": "Q_AssBrvd0CK",
        "outputId": "3438356d-5ee5-4839-e6bb-206a2d433ec7"
      },
      "execution_count": 3,
      "outputs": [
        {
          "output_type": "stream",
          "name": "stdout",
          "text": [
            "DBMS\n"
          ]
        }
      ]
    },
    {
      "cell_type": "code",
      "source": [
        "#3\n",
        "#String slicing in Python is a technique used to extract a portion of a string\n",
        "text=\"Hello, World!\"\n",
        "part=text[7:12]\n",
        "print(part)"
      ],
      "metadata": {
        "colab": {
          "base_uri": "https://localhost:8080/"
        },
        "id": "6_bmpJ4cd9f3",
        "outputId": "e06f0a02-0a64-462f-eaa7-fc115c73d5ba"
      },
      "execution_count": 4,
      "outputs": [
        {
          "output_type": "stream",
          "name": "stdout",
          "text": [
            "World\n"
          ]
        }
      ]
    },
    {
      "cell_type": "code",
      "source": [
        "#4\n",
        "name=\"Umesh Mate\"\n",
        "print(\"Catpital letter:\",name.upper())\n",
        "print(\"Small letter:\",name.lower())"
      ],
      "metadata": {
        "colab": {
          "base_uri": "https://localhost:8080/"
        },
        "id": "CXpFrDjpd-ti",
        "outputId": "8cedb0e1-e4dd-4c61-b0b9-39b464a98aa9"
      },
      "execution_count": 5,
      "outputs": [
        {
          "output_type": "stream",
          "name": "stdout",
          "text": [
            "Catpital letter: UMESH MATE\n",
            "Small letter: umesh mate\n"
          ]
        }
      ]
    },
    {
      "cell_type": "code",
      "source": [
        "#5\n",
        "#The split() method in Python is used to break a string into a list of substrings based on a specified delimiter.\n",
        "text = \"Hello World Python\"\n",
        "parts = text.split()\n",
        "print(parts)\n"
      ],
      "metadata": {
        "colab": {
          "base_uri": "https://localhost:8080/"
        },
        "id": "UsHat8aSeCZj",
        "outputId": "e5501c3b-96d3-4e44-a994-b24b17b6aed0"
      },
      "execution_count": 6,
      "outputs": [
        {
          "output_type": "stream",
          "name": "stdout",
          "text": [
            "['Hello', 'World', 'Python']\n"
          ]
        }
      ]
    },
    {
      "cell_type": "code",
      "source": [],
      "metadata": {
        "id": "Vhwdw5nmeGRP"
      },
      "execution_count": null,
      "outputs": []
    }
  ]
}