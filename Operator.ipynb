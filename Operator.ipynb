{
 "cells": [
  {
   "cell_type": "code",
   "execution_count": 2,
   "id": "8d58bd3d-fa45-48f9-a3ef-3ae277fe736f",
   "metadata": {},
   "outputs": [
    {
     "name": "stdin",
     "output_type": "stream",
     "text": [
      "Enter number: 5\n",
      "Enter number: 2\n"
     ]
    },
    {
     "name": "stdout",
     "output_type": "stream",
     "text": [
      "Addition: 7\n",
      "Substraction 3\n",
      "Multiplication 10\n",
      "Quotient: 2.5\n"
     ]
    }
   ],
   "source": [
    "#1\n",
    "x=int(input(\"Enter number:\"))\n",
    "y=int(input(\"Enter number:\"))\n",
    "print(\"Addition:\",x+y)\n",
    "print(\"Substraction\",x-y)\n",
    "print(\"Multiplication\",x*y)\n",
    "print(\"Quotient:\",x/y)"
   ]
  },
  {
   "cell_type": "code",
   "execution_count": 5,
   "id": "d942e542-b64b-4940-aade-5921164f6fd8",
   "metadata": {},
   "outputs": [
    {
     "name": "stdout",
     "output_type": "stream",
     "text": [
      "After +=: 15\n",
      "After -=: 12\n",
      "After *=: 24\n",
      "After /=: 12.0\n"
     ]
    }
   ],
   "source": [
    "#2\n",
    "a=10\n",
    "\n",
    "a+=5\n",
    "print(\"After +=:\",a)\n",
    "a-=3\n",
    "print(\"After -=:\",a)\n",
    "a*=2\n",
    "print(\"After *=:\",a)\n",
    "a/=2\n",
    "print(\"After /=:\",a)"
   ]
  },
  {
   "cell_type": "code",
   "execution_count": 10,
   "id": "182486ec-105d-4cc4-bf23-2e40337a100d",
   "metadata": {},
   "outputs": [
    {
     "name": "stdin",
     "output_type": "stream",
     "text": [
      "Enter number: 5\n",
      "Enter number: 5\n"
     ]
    },
    {
     "name": "stdout",
     "output_type": "stream",
     "text": [
      "5 is equal to 5\n"
     ]
    }
   ],
   "source": [
    "#3\n",
    "x=int(input(\"Enter number:\"))\n",
    "y=int(input(\"Enter number:\"))\n",
    "\n",
    "if(x>y):\n",
    "    print(x,\"is greater than\",y)\n",
    "elif(x<y):\n",
    "    print(x,\"smaller than\",y)\n",
    "else:\n",
    "    print(x,\"is equal to\",y)"
   ]
  },
  {
   "cell_type": "code",
   "execution_count": 12,
   "id": "ad77513c-67f6-49da-9154-58b4abd133d3",
   "metadata": {},
   "outputs": [
    {
     "name": "stdin",
     "output_type": "stream",
     "text": [
      "Enter number: 11\n"
     ]
    },
    {
     "name": "stdout",
     "output_type": "stream",
     "text": [
      "11 lie between 20 and 10\n"
     ]
    }
   ],
   "source": [
    "#4\n",
    "x=int(input(\"Enter number:\"))\n",
    "\n",
    "if(x<20 and x>10):\n",
    "    print(x,\"lie between 20 and 10\")\n",
    "elif(x>20 or x<10):\n",
    "    print(x,\"is greater that 20 or less an 10\")"
   ]
  },
  {
   "cell_type": "code",
   "execution_count": 14,
   "id": "628dacd1-fadd-45e8-8209-0a4a3ceaa1ed",
   "metadata": {},
   "outputs": [
    {
     "name": "stdout",
     "output_type": "stream",
     "text": [
      "a is b: True\n",
      "a is c: False\n",
      "b is c: False\n"
     ]
    }
   ],
   "source": [
    "#5\n",
    "a=[1,2,3]\n",
    "b=a\n",
    "c=[1,2,3]\n",
    "\n",
    "print(\"a is b:\",a is b)\n",
    "print(\"a is c:\",a is c)\n",
    "print(\"b is c:\",b is c)"
   ]
  },
  {
   "cell_type": "code",
   "execution_count": 21,
   "id": "35b444ed-b68f-48c4-ba68-bf65cd985b25",
   "metadata": {},
   "outputs": [
    {
     "name": "stdout",
     "output_type": "stream",
     "text": [
      "negative number: -4\n",
      "positive number: 4\n"
     ]
    }
   ],
   "source": [
    "#6\n",
    "num=4\n",
    "negative_num=-num\n",
    "print(\"negative number:\",negative_num)\n",
    "positive_num=+num\n",
    "print(\"positive number:\",positive_num)"
   ]
  },
  {
   "cell_type": "code",
   "execution_count": 22,
   "id": "d1a30927-81d0-4b24-b85b-ca2a71c905fe",
   "metadata": {},
   "outputs": [
    {
     "name": "stdin",
     "output_type": "stream",
     "text": [
      "Enter the first integer: 4\n",
      "Enter the second integer: 2\n"
     ]
    },
    {
     "name": "stdout",
     "output_type": "stream",
     "text": [
      "a&b: 0\n",
      "a|b: 6\n",
      "a^b: 6\n",
      "~a: -5\n",
      "a<<2: 16\n",
      "a>>2: 1\n"
     ]
    }
   ],
   "source": [
    "#7\n",
    "a=int(input(\"Enter the first integer:\"))\n",
    "b=int(input(\"Enter the second integer:\"))\n",
    "\n",
    "bitwise_and=a&b\n",
    "bitwise_or=a|b\n",
    "bitwise_xor=a^b\n",
    "bitwise_not=~a\n",
    "left_shift=a<<2\n",
    "right_shift=a>>2\n",
    "\n",
    "print(\"a&b:\",bitwise_and)\n",
    "print(\"a|b:\",bitwise_or)\n",
    "print(\"a^b:\",bitwise_xor)\n",
    "print(\"~a:\",bitwise_not)\n",
    "print(\"a<<2:\",left_shift)\n",
    "print(\"a>>2:\",right_shift)"
   ]
  },
  {
   "cell_type": "code",
   "execution_count": 23,
   "id": "8d87fa46-58fb-4423-b323-ffb4522d24bd",
   "metadata": {},
   "outputs": [
    {
     "name": "stdin",
     "output_type": "stream",
     "text": [
      "Enter number: 6\n"
     ]
    },
    {
     "name": "stdout",
     "output_type": "stream",
     "text": [
      "6 is: even\n"
     ]
    }
   ],
   "source": [
    "#8\n",
    "a=int(input(\"Enter number:\"))\n",
    "ans=\"even\" if a%2==0 else \"odd\"\n",
    "print(a,\"is:\",ans)"
   ]
  },
  {
   "cell_type": "code",
   "execution_count": null,
   "id": "096fc925-9562-4579-9311-8004084e39ea",
   "metadata": {},
   "outputs": [],
   "source": []
  }
 ],
 "metadata": {
  "kernelspec": {
   "display_name": "Python 3 (ipykernel)",
   "language": "python",
   "name": "python3"
  },
  "language_info": {
   "codemirror_mode": {
    "name": "ipython",
    "version": 3
   },
   "file_extension": ".py",
   "mimetype": "text/x-python",
   "name": "python",
   "nbconvert_exporter": "python",
   "pygments_lexer": "ipython3",
   "version": "3.11.5"
  }
 },
 "nbformat": 4,
 "nbformat_minor": 5
}
