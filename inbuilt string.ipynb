{
 "cells": [
  {
   "cell_type": "code",
   "execution_count": 1,
   "id": "279eb3d7-d628-4ee3-90eb-522f7bd6f21f",
   "metadata": {},
   "outputs": [
    {
     "data": {
      "text/plain": [
       "5"
      ]
     },
     "execution_count": 1,
     "metadata": {},
     "output_type": "execute_result"
    }
   ],
   "source": [
    "#1\n",
    "\"\"\"\n",
    "len() function is to find the length of string\n",
    "\"\"\"\n",
    "name=\"umesh\"\n",
    "len(name)"
   ]
  },
  {
   "cell_type": "code",
   "execution_count": 2,
   "id": "abbde665-b380-4d1c-814b-4c5bb752d0a2",
   "metadata": {},
   "outputs": [
    {
     "name": "stdout",
     "output_type": "stream",
     "text": [
      "DBMS\n"
     ]
    }
   ],
   "source": [
    "#2\n",
    "a=\"DB\"\n",
    "b=\"MS\"\n",
    "c=a+b\n",
    "print(c)"
   ]
  },
  {
   "cell_type": "code",
   "execution_count": 3,
   "id": "7e80b815-490e-48e3-9856-8a81ca72cb6d",
   "metadata": {},
   "outputs": [
    {
     "name": "stdout",
     "output_type": "stream",
     "text": [
      "World\n"
     ]
    }
   ],
   "source": [
    "#3\n",
    "#String slicing in Python is a technique used to extract a portion of a string\n",
    "text=\"Hello, World!\"\n",
    "part=text[7:12]\n",
    "print(part) "
   ]
  },
  {
   "cell_type": "code",
   "execution_count": 4,
   "id": "39e66525-0e38-4afd-bce2-22e56de85d1b",
   "metadata": {},
   "outputs": [
    {
     "name": "stdout",
     "output_type": "stream",
     "text": [
      "Catpital letter: UMESH MATE\n",
      "Small letter: umesh mate\n"
     ]
    }
   ],
   "source": [
    "#4\n",
    "name=\"Umesh Mate\"\n",
    "print(\"Catpital letter:\",name.upper())\n",
    "print(\"Small letter:\",name.lower())"
   ]
  },
  {
   "cell_type": "code",
   "execution_count": 9,
   "id": "f5e48373-5db5-4e1d-b289-1c5fa0b65648",
   "metadata": {},
   "outputs": [
    {
     "name": "stdout",
     "output_type": "stream",
     "text": [
      "['Hello', 'World', 'Python']\n"
     ]
    }
   ],
   "source": [
    "#5\n",
    "#The split() method in Python is used to break a string into a list of substrings based on a specified delimiter.\n",
    "text = \"Hello World Python\"\n",
    "parts = text.split()\n",
    "print(parts)"
   ]
  },
  {
   "cell_type": "code",
   "execution_count": null,
   "id": "38dfc74f-e4ce-4b70-8712-b5127160c9f2",
   "metadata": {},
   "outputs": [],
   "source": []
  },
  {
   "cell_type": "code",
   "execution_count": null,
   "id": "7dd9df79-8d1f-470c-bae5-776df440971e",
   "metadata": {},
   "outputs": [],
   "source": []
  }
 ],
 "metadata": {
  "kernelspec": {
   "display_name": "Python 3 (ipykernel)",
   "language": "python",
   "name": "python3"
  },
  "language_info": {
   "codemirror_mode": {
    "name": "ipython",
    "version": 3
   },
   "file_extension": ".py",
   "mimetype": "text/x-python",
   "name": "python",
   "nbconvert_exporter": "python",
   "pygments_lexer": "ipython3",
   "version": "3.11.5"
  }
 },
 "nbformat": 4,
 "nbformat_minor": 5
}
