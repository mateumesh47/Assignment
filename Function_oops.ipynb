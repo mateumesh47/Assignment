{
  "nbformat": 4,
  "nbformat_minor": 0,
  "metadata": {
    "colab": {
      "provenance": [],
      "authorship_tag": "ABX9TyPuiPivf+7+MPGKeaMHCrt6"
    },
    "kernelspec": {
      "name": "python3",
      "display_name": "Python 3"
    },
    "language_info": {
      "name": "python"
    }
  },
  "cells": [
    {
      "cell_type": "code",
      "execution_count": null,
      "metadata": {
        "colab": {
          "base_uri": "https://localhost:8080/",
          "height": 36
        },
        "id": "edlO7i5sWfuQ",
        "outputId": "169b20ca-ef2b-4e1d-aa3a-c7f6eb419165"
      },
      "outputs": [
        {
          "output_type": "execute_result",
          "data": {
            "text/plain": [
              "'\\nFunctions allow you to write a block of code once and reuse it multiple times, reducing repetition and making your code more efficient.\\n'"
            ],
            "application/vnd.google.colaboratory.intrinsic+json": {
              "type": "string"
            }
          },
          "metadata": {},
          "execution_count": 1
        }
      ],
      "source": [
        "#1\n",
        "'''\n",
        "Functions allow you to write a block of code once and reuse it multiple times, reducing repetition and making your code more efficient.\n",
        "'''"
      ]
    },
    {
      "cell_type": "code",
      "source": [
        "#2\n",
        "def greet_students():\n",
        "    print(\"Welcome to the class!\")\n",
        "    print(\"I hope you're excited to learn new things.\")\n",
        "    print(\"Let's make this a great learning experience together!\")\n",
        "\n",
        "greet_students()"
      ],
      "metadata": {
        "colab": {
          "base_uri": "https://localhost:8080/"
        },
        "id": "4-54TiP7W0Za",
        "outputId": "4aba5f79-dd7e-4673-97d3-a61a86951e68"
      },
      "execution_count": null,
      "outputs": [
        {
          "output_type": "stream",
          "name": "stdout",
          "text": [
            "Welcome to the class!\n",
            "I hope you're excited to learn new things.\n",
            "Let's make this a great learning experience together!\n"
          ]
        }
      ]
    },
    {
      "cell_type": "code",
      "source": [
        "#3\n",
        "'''\n",
        "The print statement outputs data to the console.\n",
        "\n",
        "The return statement exits a function and sends a value back to the caller.\n",
        "'''"
      ],
      "metadata": {
        "id": "04aSPhikXSKN"
      },
      "execution_count": null,
      "outputs": []
    },
    {
      "cell_type": "code",
      "source": [
        "#4\n",
        "'''\n",
        "*args: Allows you to pass a variable number of positional arguments to a function. These arguments are stored in a tuple.\n",
        "**kwargs: Allows you to pass a variable number of keyword arguments to a function. These arguments are stored in a dictionary.\n",
        "'''"
      ],
      "metadata": {
        "id": "jJnCBoVyXjr0"
      },
      "execution_count": null,
      "outputs": []
    },
    {
      "cell_type": "code",
      "source": [
        "#5\n",
        "'''\n",
        "An iterator function in Python is a function that returns an iterator, which allows you to iterate over a sequence of elements one at a time\n",
        "'''"
      ],
      "metadata": {
        "id": "7tZFlqfPX_D8"
      },
      "execution_count": null,
      "outputs": []
    },
    {
      "cell_type": "code",
      "source": [
        "#6\n",
        "def square_numbers(n):\n",
        "    for i in range(1,n+1):\n",
        "        yield i*i\n",
        "\n",
        "n=5\n",
        "for square in square_numbers(n):\n",
        "    print(square)"
      ],
      "metadata": {
        "colab": {
          "base_uri": "https://localhost:8080/"
        },
        "id": "AzufWvFwYRvg",
        "outputId": "634c92e3-b0ed-4244-c98a-af34e79dc5e4"
      },
      "execution_count": null,
      "outputs": [
        {
          "output_type": "stream",
          "name": "stdout",
          "text": [
            "1\n",
            "4\n",
            "9\n",
            "16\n",
            "25\n"
          ]
        }
      ]
    },
    {
      "cell_type": "code",
      "source": [
        "#7\n",
        "def palindromic_numbers(n):\n",
        "    for i in range(1, n + 1):\n",
        "        if str(i) == str(i)[::-1]:\n",
        "            yield i\n",
        "\n",
        "n = 150\n",
        "for palindrome in palindromic_numbers(n):\n",
        "    print(palindrome)"
      ],
      "metadata": {
        "colab": {
          "base_uri": "https://localhost:8080/"
        },
        "id": "fqou0p2WYoTB",
        "outputId": "950d91c5-734e-41e0-cef4-1d338347a937"
      },
      "execution_count": null,
      "outputs": [
        {
          "output_type": "stream",
          "name": "stdout",
          "text": [
            "1\n",
            "2\n",
            "3\n",
            "4\n",
            "5\n",
            "6\n",
            "7\n",
            "8\n",
            "9\n",
            "11\n",
            "22\n",
            "33\n",
            "44\n",
            "55\n",
            "66\n",
            "77\n",
            "88\n",
            "99\n",
            "101\n",
            "111\n",
            "121\n",
            "131\n",
            "141\n"
          ]
        }
      ]
    },
    {
      "cell_type": "code",
      "source": [
        "#8\n",
        "def even_numbers(n):\n",
        "    for i in range(2,n+1,2):\n",
        "        yield i\n",
        "\n",
        "for num in even_numbers(10):\n",
        "    print(num)"
      ],
      "metadata": {
        "colab": {
          "base_uri": "https://localhost:8080/"
        },
        "id": "l50s9FbhZDcW",
        "outputId": "c3e56af3-b5e7-4180-d95a-53fc7e59eca4"
      },
      "execution_count": null,
      "outputs": [
        {
          "output_type": "stream",
          "name": "stdout",
          "text": [
            "2\n",
            "4\n",
            "6\n",
            "8\n",
            "10\n"
          ]
        }
      ]
    },
    {
      "cell_type": "code",
      "source": [
        "#9\n",
        "def powers_of_two(n):\n",
        "    for i in range(n+1):\n",
        "        yield 2**i\n",
        "\n",
        "for num in powers_of_two(5):\n",
        "    print(num)"
      ],
      "metadata": {
        "colab": {
          "base_uri": "https://localhost:8080/"
        },
        "id": "kZQjk8IgZYyH",
        "outputId": "d60e4130-0b2c-4393-99e3-13f29fe15099"
      },
      "execution_count": null,
      "outputs": [
        {
          "output_type": "stream",
          "name": "stdout",
          "text": [
            "1\n",
            "2\n",
            "4\n",
            "8\n",
            "16\n",
            "32\n"
          ]
        }
      ]
    },
    {
      "cell_type": "code",
      "source": [
        "#10\n",
        "def is_prime(num):\n",
        "    if num<2:\n",
        "        return False\n",
        "    for i in range(2,int(num**0.5)+1):\n",
        "        if num%i==0:\n",
        "            return False\n",
        "    return True\n",
        "\n",
        "def prime_numbers(n):\n",
        "    for i in range(2,n+1):\n",
        "        if is_prime(i):\n",
        "            yield i\n",
        "\n",
        "for prime in prime_numbers(20):\n",
        "    print(prime)\n"
      ],
      "metadata": {
        "colab": {
          "base_uri": "https://localhost:8080/"
        },
        "id": "kQ6P9A7GZkTE",
        "outputId": "67c6979f-cf09-460d-8d5c-fb05a209d977"
      },
      "execution_count": null,
      "outputs": [
        {
          "output_type": "stream",
          "name": "stdout",
          "text": [
            "2\n",
            "3\n",
            "5\n",
            "7\n",
            "11\n",
            "13\n",
            "17\n",
            "19\n"
          ]
        }
      ]
    },
    {
      "cell_type": "code",
      "source": [
        "#11\n",
        "sum_lambda=lambda a,b:a+b\n",
        "\n",
        "result=sum_lambda(3,7)\n",
        "print(\"Sum:\",result)"
      ],
      "metadata": {
        "colab": {
          "base_uri": "https://localhost:8080/"
        },
        "id": "2_XxS7q4Z2Xc",
        "outputId": "cd616ab1-8d8e-4282-c819-0133810e81fd"
      },
      "execution_count": null,
      "outputs": [
        {
          "output_type": "stream",
          "name": "stdout",
          "text": [
            "Sum: 10\n"
          ]
        }
      ]
    },
    {
      "cell_type": "code",
      "source": [
        "#12\n",
        "square_lambda=lambda x:x**2\n",
        "\n",
        "result = square_lambda(4)\n",
        "print(\"Square:\",result)"
      ],
      "metadata": {
        "colab": {
          "base_uri": "https://localhost:8080/"
        },
        "id": "CKTuv9LLaC-1",
        "outputId": "0cda4562-22c5-45dc-cb69-d0b7d9a18c0d"
      },
      "execution_count": null,
      "outputs": [
        {
          "output_type": "stream",
          "name": "stdout",
          "text": [
            "Square: 16\n"
          ]
        }
      ]
    },
    {
      "cell_type": "code",
      "source": [
        "#13\n",
        "is_even_lambda=lambda x:\"Even\" if x%2==0 else \"Odd\"\n",
        "\n",
        "result=is_even_lambda(5)\n",
        "print(result)"
      ],
      "metadata": {
        "colab": {
          "base_uri": "https://localhost:8080/"
        },
        "id": "jOA0RlzYaRqA",
        "outputId": "cb7cabcd-43f1-4d50-d42e-5d78d434175e"
      },
      "execution_count": null,
      "outputs": [
        {
          "output_type": "stream",
          "name": "stdout",
          "text": [
            "Odd\n"
          ]
        }
      ]
    },
    {
      "cell_type": "code",
      "source": [
        "#15\n",
        "concat_lambda = lambda s1,s2:s1+s2\n",
        "\n",
        "result = concat_lambda(\"Hello, \",\"World!\")\n",
        "print(result)"
      ],
      "metadata": {
        "colab": {
          "base_uri": "https://localhost:8080/"
        },
        "id": "HfUyhgobnGnF",
        "outputId": "7e166d61-0dc4-48fa-d460-94474555b696"
      },
      "execution_count": null,
      "outputs": [
        {
          "output_type": "stream",
          "name": "stdout",
          "text": [
            "Hello, World!\n"
          ]
        }
      ]
    },
    {
      "cell_type": "code",
      "source": [
        "#16\n",
        "max_lambda = lambda a,b,c:max(a,b,c)\n",
        "\n",
        "result=max_lambda(3,9,7)\n",
        "print(result)"
      ],
      "metadata": {
        "colab": {
          "base_uri": "https://localhost:8080/"
        },
        "id": "ex2m0WMynVQ-",
        "outputId": "cb5f1c1d-f39e-4bd9-d8ef-ae09fb365613"
      },
      "execution_count": null,
      "outputs": [
        {
          "output_type": "stream",
          "name": "stdout",
          "text": [
            "9\n"
          ]
        }
      ]
    },
    {
      "cell_type": "code",
      "source": [
        "#17\n",
        "def even_squares(numbers):\n",
        "    for num in numbers:\n",
        "        if num%2==0:\n",
        "            yield num**2\n",
        "\n",
        "for square in even_squares([1,2,3,4,5,6]):\n",
        "    print(square)"
      ],
      "metadata": {
        "colab": {
          "base_uri": "https://localhost:8080/"
        },
        "id": "rBYhxCOunqzn",
        "outputId": "30d0ced0-e6d7-425d-8036-aa91cf4445b9"
      },
      "execution_count": null,
      "outputs": [
        {
          "output_type": "stream",
          "name": "stdout",
          "text": [
            "4\n",
            "16\n",
            "36\n"
          ]
        }
      ]
    },
    {
      "cell_type": "code",
      "source": [
        "#18\n",
        "from functools import reduce\n",
        "product_lambda=lambda lst:reduce(lambda x,y:x*y,[num for num in lst if num>0])\n",
        "\n",
        "result=product_lambda([1,-2,3,4])\n",
        "print(result)"
      ],
      "metadata": {
        "colab": {
          "base_uri": "https://localhost:8080/"
        },
        "id": "hRps9QhVn6ov",
        "outputId": "4a51fa53-4f71-4ae4-a154-7aa3a4b01e3e"
      },
      "execution_count": null,
      "outputs": [
        {
          "output_type": "stream",
          "name": "stdout",
          "text": [
            "12\n"
          ]
        }
      ]
    },
    {
      "cell_type": "code",
      "source": [
        "#19\n",
        "double_lambda = lambda lst: [num*2 for num in lst]\n",
        "\n",
        "result = double_lambda([1,2,3,4])\n",
        "print(result)"
      ],
      "metadata": {
        "colab": {
          "base_uri": "https://localhost:8080/"
        },
        "id": "_n2O9eddoNi7",
        "outputId": "4e9543c6-529b-4c06-c4f4-4cbd8d76a027"
      },
      "execution_count": null,
      "outputs": [
        {
          "output_type": "stream",
          "name": "stdout",
          "text": [
            "[2, 4, 6, 8]\n"
          ]
        }
      ]
    },
    {
      "cell_type": "code",
      "source": [
        "#20\n",
        "cube_sum_lambda=lambda lst:sum([num**3 for num in lst])\n",
        "\n",
        "result=cube_sum_lambda([1,2,3])\n",
        "print(result)"
      ],
      "metadata": {
        "colab": {
          "base_uri": "https://localhost:8080/"
        },
        "id": "-dI5YU2NofGp",
        "outputId": "391d1d48-f04a-401c-ded6-400caa6b4aec"
      },
      "execution_count": null,
      "outputs": [
        {
          "output_type": "stream",
          "name": "stdout",
          "text": [
            "36\n"
          ]
        }
      ]
    },
    {
      "cell_type": "code",
      "source": [
        "#21\n",
        "def filter_primes(numbers):\n",
        "    return list(filter(is_prime,numbers))\n",
        "\n",
        "result=filter_primes([10,11,12,13,14,15])\n",
        "print(result)\n"
      ],
      "metadata": {
        "colab": {
          "base_uri": "https://localhost:8080/"
        },
        "id": "TE1AkXOmo6fz",
        "outputId": "ea614df8-b2de-4b0f-c18b-2dcf0bfe021d"
      },
      "execution_count": null,
      "outputs": [
        {
          "output_type": "stream",
          "name": "stdout",
          "text": [
            "[11, 13]\n"
          ]
        }
      ]
    },
    {
      "cell_type": "code",
      "source": [
        "#22\n",
        "sum_lambda=lambda a,b:a+b\n",
        "\n",
        "result=sum_lambda(8,5)\n",
        "print(result)"
      ],
      "metadata": {
        "colab": {
          "base_uri": "https://localhost:8080/"
        },
        "id": "E_cqvDDspGuj",
        "outputId": "7e879197-8ff8-4845-eedc-a09db9237883"
      },
      "execution_count": null,
      "outputs": [
        {
          "output_type": "stream",
          "name": "stdout",
          "text": [
            "13\n"
          ]
        }
      ]
    },
    {
      "cell_type": "code",
      "source": [
        "#23\n",
        "square_lambda=lambda x:x**2\n",
        "\n",
        "result=square_lambda(6)\n",
        "print(result)"
      ],
      "metadata": {
        "colab": {
          "base_uri": "https://localhost:8080/"
        },
        "id": "ArqykIJMpSbT",
        "outputId": "9121946d-58d3-421a-8a17-83987003e701"
      },
      "execution_count": null,
      "outputs": [
        {
          "output_type": "stream",
          "name": "stdout",
          "text": [
            "36\n"
          ]
        }
      ]
    },
    {
      "cell_type": "code",
      "source": [
        "#24\n",
        "is_even_lambda=lambda x:\"Even\" if x%2==0 else \"Odd\"\n",
        "\n",
        "result=is_even_lambda(5)\n",
        "print(result)"
      ],
      "metadata": {
        "colab": {
          "base_uri": "https://localhost:8080/"
        },
        "id": "WtpChDuSpbTQ",
        "outputId": "3cec712a-b773-4490-b986-1f2c64233eb5"
      },
      "execution_count": null,
      "outputs": [
        {
          "output_type": "stream",
          "name": "stdout",
          "text": [
            "Odd\n"
          ]
        }
      ]
    },
    {
      "cell_type": "code",
      "source": [
        "#25\n",
        "concat_lambda = lambda s1,s2:s1+s2\n",
        "\n",
        "result = concat_lambda(\"Hello, \",\"World!\")\n",
        "print(result)"
      ],
      "metadata": {
        "colab": {
          "base_uri": "https://localhost:8080/"
        },
        "id": "ymCNtkRUpjSq",
        "outputId": "af178705-9b3d-4daf-ecb2-944ee51fabad"
      },
      "execution_count": null,
      "outputs": [
        {
          "output_type": "stream",
          "name": "stdout",
          "text": [
            "Hello, World!\n"
          ]
        }
      ]
    },
    {
      "cell_type": "code",
      "source": [
        "#26\n",
        "max_lambda = lambda a,b,c:max(a,b,c)\n",
        "\n",
        "result=max_lambda(3,9,7)\n",
        "print(result)"
      ],
      "metadata": {
        "colab": {
          "base_uri": "https://localhost:8080/"
        },
        "id": "rXrSX6LLpsVh",
        "outputId": "bcdea944-6486-4524-9553-29ff72022db8"
      },
      "execution_count": null,
      "outputs": [
        {
          "output_type": "stream",
          "name": "stdout",
          "text": [
            "9\n"
          ]
        }
      ]
    },
    {
      "cell_type": "code",
      "source": [
        "#27\n",
        "'''\n",
        "It refers to the bundling of data (attributes) and methods (functions) that operate on that data into a single unit, typically a class.\n",
        "'''"
      ],
      "metadata": {
        "id": "1lZo2CDhpwl1"
      },
      "execution_count": null,
      "outputs": []
    },
    {
      "cell_type": "code",
      "source": [
        "#28\n",
        "'''\n",
        " access modifiers control the visibility and accessibility of attributes and methods in classes.\n",
        " '''"
      ],
      "metadata": {
        "id": "c_wjpHzaqAfD"
      },
      "execution_count": null,
      "outputs": []
    },
    {
      "cell_type": "code",
      "source": [
        "#29\n",
        "'''\n",
        "inheritance is a fundamental concept in Object-Oriented Programming (OOP) that allows a class (called the\n",
        "subclass or derived class) to inherit attributes and methods from another class (called the superclass or base class).\n",
        "'''"
      ],
      "metadata": {
        "id": "iA8ZREkCqPTC"
      },
      "execution_count": null,
      "outputs": []
    },
    {
      "cell_type": "code",
      "source": [
        "#30\n",
        "'''\n",
        "polymorphism is a core concept in Object-Oriented Programming (OOP) that allows objects of different classes to be treated as objects of a common base class.\n",
        "'''"
      ],
      "metadata": {
        "id": "SisoGCeXqdD6"
      },
      "execution_count": null,
      "outputs": []
    },
    {
      "cell_type": "code",
      "source": [
        "#31\n",
        "'''\n",
        "Method overriding is a key feature of polymorphism in Object-Oriented Programming (OOP), allowing a subclass to provide a specific implementation of a method that is already defined in its superclass. When a subclass defines\n",
        "a method with the same name as one in its superclass, the subclass's method overrides the superclass's method.\n",
        "'''"
      ],
      "metadata": {
        "id": "jl4eRWd7qnOy"
      },
      "execution_count": null,
      "outputs": []
    },
    {
      "cell_type": "code",
      "source": [
        "#32\n",
        "class Animal:\n",
        "    def make_sound(self):\n",
        "        print(\"Generic animal sound\")\n",
        "\n",
        "class Dog(Animal):\n",
        "    def make_sound(self):\n",
        "        print(\"Woof!\")\n",
        "\n",
        "animal=Animal()\n",
        "animal.make_sound()\n",
        "\n",
        "dog=Dog()\n",
        "dog.make_sound()\n"
      ],
      "metadata": {
        "colab": {
          "base_uri": "https://localhost:8080/"
        },
        "id": "RBeA2LeFt-xw",
        "outputId": "755846c5-b806-4f0f-fecb-7ef3eccb0085"
      },
      "execution_count": null,
      "outputs": [
        {
          "output_type": "stream",
          "name": "stdout",
          "text": [
            "Generic animal sound\n",
            "Woof!\n"
          ]
        }
      ]
    },
    {
      "cell_type": "code",
      "source": [
        "#33\n",
        "class Animal:\n",
        "    def move(self):\n",
        "        print(\"Animal moves\")\n",
        "\n",
        "class Dog(Animal):\n",
        "    def move(self):\n",
        "        print(\"Dog runs\")\n",
        "\n",
        "\n",
        "animal=Animal()\n",
        "animal.move()\n",
        "\n",
        "dog=Dog()\n",
        "dog.move()\n"
      ],
      "metadata": {
        "colab": {
          "base_uri": "https://localhost:8080/"
        },
        "id": "fiqrP4aBuXTG",
        "outputId": "5baf89e5-57c8-402f-fad4-3910c335b4d8"
      },
      "execution_count": null,
      "outputs": [
        {
          "output_type": "stream",
          "name": "stdout",
          "text": [
            "Animal moves\n",
            "Dog runs\n"
          ]
        }
      ]
    },
    {
      "cell_type": "code",
      "source": [
        "#34\n",
        "class Mammal:\n",
        "    def reproduce(self):\n",
        "        print(\"Giving birth to live young\")\n",
        "\n",
        "class Dog(Animal):\n",
        "    def move(self):\n",
        "        print(\"Dog runs\")\n",
        "\n",
        "class WolfMammal(Dog, Mammal):\n",
        "    pass\n",
        "\n",
        "wolf=WolfMammal()\n",
        "wolf.reproduce()\n",
        "wolf.move()"
      ],
      "metadata": {
        "colab": {
          "base_uri": "https://localhost:8080/"
        },
        "id": "Iz8burMkv1jq",
        "outputId": "6655aeed-d12c-4080-b215-0c7d4ae39379"
      },
      "execution_count": null,
      "outputs": [
        {
          "output_type": "stream",
          "name": "stdout",
          "text": [
            "Giving birth to live young\n",
            "Dog runs\n"
          ]
        }
      ]
    },
    {
      "cell_type": "code",
      "source": [
        "#35\n",
        "class GermanShepherd(Dog):\n",
        "    def make_sound(self):\n",
        "        print(\"Bark!\")\n",
        "\n",
        "germanshepherd=GermanShepherd()\n",
        "germanshepherd.make_sound()"
      ],
      "metadata": {
        "colab": {
          "base_uri": "https://localhost:8080/"
        },
        "id": "te9x2cZQwyU2",
        "outputId": "df56203e-7af3-4291-8461-8094ddc7bd64"
      },
      "execution_count": null,
      "outputs": [
        {
          "output_type": "stream",
          "name": "stdout",
          "text": [
            "Bark!\n"
          ]
        }
      ]
    },
    {
      "cell_type": "code",
      "source": [
        "#36\n",
        "class Animal:\n",
        "    def __init__(self, name):\n",
        "        self.name=name\n",
        "\n",
        "    def make_sound(self):\n",
        "        print(\"Generic animal sound\")\n",
        "\n",
        "class Dog(Animal):\n",
        "    def __init__(self, name, breed):\n",
        "        super().__init__(name)\n",
        "        self.breed=breed\n",
        "\n",
        "    def make_sound(self):\n",
        "        print(\"Woof!\")\n",
        "\n",
        "generic_animal=Animal(\"Generic\")\n",
        "dog = Dog(\"Buddy\",\"Golden Retriever\")\n",
        "\n",
        "print(generic_animal.name)\n",
        "print(dog.name)\n",
        "print(dog.breed)\n",
        "dog.make_sound()"
      ],
      "metadata": {
        "colab": {
          "base_uri": "https://localhost:8080/"
        },
        "id": "nwLFMRbIx_zR",
        "outputId": "9acddfd9-9b10-4ec6-9e1a-2a8212be99be"
      },
      "execution_count": null,
      "outputs": [
        {
          "output_type": "stream",
          "name": "stdout",
          "text": [
            "Generic\n",
            "Buddy\n",
            "Golden Retriever\n",
            "Woof!\n"
          ]
        }
      ]
    },
    {
      "cell_type": "code",
      "source": [
        "#37\n",
        "'''\n",
        "Abstraction is a concept in OOP that hides the complex implementation details and shows only the essential features of an object. In Python, abstraction is implemented using abstract classes and methods.\n",
        "\n",
        "Abstract Class: A class that cannot be instantiated on its own and is meant to be subclassed. It can contain abstract methods that must be implemented by subclasses.\n",
        "Abstract Method: A method declared in an abstract class that has no implementation in the abstract class and must be overridden in derived classes.\n",
        "'''"
      ],
      "metadata": {
        "id": "3Z8Fq4F5y5Pq"
      },
      "execution_count": null,
      "outputs": []
    },
    {
      "cell_type": "code",
      "source": [
        "#38\n",
        "'''\n",
        "Importance of Abstraction in Object-Oriented Programming\n",
        "Simplifies Complex Systems: By hiding implementation details, abstraction helps in managing complex systems more easily.\n",
        "Enhances Code Maintenance: Changes to implementation do not affect other parts of the system that use the abstract interface.\n",
        "Promotes Code Reusability: Abstract classes can define common methods for all derived classes, promoting reuse and consistency.\n",
        "'''"
      ],
      "metadata": {
        "id": "mAPanj7WyYl0"
      },
      "execution_count": null,
      "outputs": []
    },
    {
      "cell_type": "code",
      "source": [
        "#39\n",
        "'''\n",
        "Differences Between Abstract Methods and Regular Methods in Python\n",
        "Abstract Methods: Do not have an implementation in the abstract class; they must be overridden in derived classes.\n",
        "Regular Methods: Have an implementation in the class where they are defined and can be directly used or overridden in subclasses.\n",
        "'''"
      ],
      "metadata": {
        "id": "8EMr8ZM8zBFT"
      },
      "execution_count": null,
      "outputs": []
    },
    {
      "cell_type": "code",
      "source": [
        "#40\n",
        "from abc import ABC, abstractmethod\n",
        "class InterfaceExample(ABC):\n",
        "    @abstractmethod\n",
        "    def some_method(self):\n",
        "        pass\n",
        "\n",
        "class Implementation(InterfaceExample):\n",
        "    def some_method(self):\n",
        "        print(\"Method implementation\")\n",
        "\n",
        "impl=Implementation()\n",
        "impl.some_method()"
      ],
      "metadata": {
        "colab": {
          "base_uri": "https://localhost:8080/"
        },
        "id": "8To0gZYFzL55",
        "outputId": "f3e7353b-052f-467f-d6da-2fae9d4ff40e"
      },
      "execution_count": null,
      "outputs": [
        {
          "output_type": "stream",
          "name": "stdout",
          "text": [
            "Method implementation\n"
          ]
        }
      ]
    },
    {
      "cell_type": "code",
      "source": [
        "#41\n",
        "from abc import ABC, abstractmethod\n",
        "class Shape(ABC):\n",
        "\n",
        "    @abstractmethod\n",
        "    def area(self):\n",
        "        pass\n",
        "\n",
        "    @abstractmethod\n",
        "    def perimeter(self):\n",
        "        pass\n",
        "\n",
        "class Rectangle(Shape):\n",
        "    def __init__(self,width,height):\n",
        "        self.width=width\n",
        "        self.height=height\n",
        "\n",
        "    def area(self):\n",
        "        return self.width*self.height\n",
        "\n",
        "    def perimeter(self):\n",
        "        return 2*(self.width+self.height)\n",
        "\n",
        "class Circle(Shape):\n",
        "\n",
        "    def __init__(self, radius):\n",
        "        self.radius=radius\n",
        "\n",
        "    def area(self):\n",
        "        return 3.14*self.radius**2\n",
        "\n",
        "    def perimeter(self):\n",
        "        return 2*3.14*self.radius\n",
        "\n",
        "shapes=[Rectangle(4,5),Circle(7)]\n",
        "\n",
        "for shape in shapes:\n",
        "    print(f\"Area: {shape.area()}, Perimeter: {shape.perimeter()}\")"
      ],
      "metadata": {
        "colab": {
          "base_uri": "https://localhost:8080/"
        },
        "id": "y58N143A4gQu",
        "outputId": "a1357202-bf9d-47bc-a970-99a176c11c94"
      },
      "execution_count": null,
      "outputs": [
        {
          "output_type": "stream",
          "name": "stdout",
          "text": [
            "Area: 20, Perimeter: 18\n",
            "Area: 153.86, Perimeter: 43.96\n"
          ]
        }
      ]
    },
    {
      "cell_type": "code",
      "source": [
        "#42\n",
        "class Animal:\n",
        "    def make_sound(self):\n",
        "        return \"Some generic animal sound\"\n",
        "\n",
        "class Dog(Animal):\n",
        "    def make_sound(self):\n",
        "        return \"Woof!\"\n",
        "\n",
        "def make_animal_speak(animal):\n",
        "    print(animal.make_sound())\n",
        "\n",
        "dog = Dog()\n",
        "make_animal_speak(dog)"
      ],
      "metadata": {
        "colab": {
          "base_uri": "https://localhost:8080/"
        },
        "id": "oV0zhuY6zVyr",
        "outputId": "4f006024-e25a-48db-cbba-ac842957cb8e"
      },
      "execution_count": null,
      "outputs": [
        {
          "output_type": "stream",
          "name": "stdout",
          "text": [
            "Woof!\n"
          ]
        }
      ]
    },
    {
      "cell_type": "code",
      "source": [
        "#43\n",
        "class Shape:\n",
        "    def area(self):\n",
        "        raise NotImplementedError(\"Subclass must implement abstract method\")\n",
        "\n",
        "class Circle(Shape):\n",
        "    def __init__(self, radius):\n",
        "        self.radius = radius\n",
        "\n",
        "    def area(self):\n",
        "        return 3.14 * self.radius * self.radius\n",
        "\n",
        "class Rectangle(Shape):\n",
        "    def __init__(self, width, height):\n",
        "        self.width = width\n",
        "        self.height = height\n",
        "\n",
        "    def area(self):\n",
        "        return self.width * self.height\n",
        "\n",
        "circle = Circle(5)\n",
        "rectangle = Rectangle(4, 6)\n",
        "\n",
        "print(circle.area())\n",
        "print(rectangle.area())"
      ],
      "metadata": {
        "colab": {
          "base_uri": "https://localhost:8080/"
        },
        "id": "gaO9Wg92zmje",
        "outputId": "ab8853bc-bb14-49f7-c626-33500b6ff333"
      },
      "execution_count": null,
      "outputs": [
        {
          "output_type": "stream",
          "name": "stdout",
          "text": [
            "78.5\n",
            "24\n"
          ]
        }
      ]
    },
    {
      "cell_type": "code",
      "source": [
        "#44\n",
        "class Animal:\n",
        "    def sound(self):\n",
        "        return \"Some sound\"\n",
        "\n",
        "class Dog(Animal):\n",
        "    def sound(self):\n",
        "        return \"Woof!\"\n",
        "\n",
        "class Cat(Animal):\n",
        "    def sound(self):\n",
        "        return \"Meow!\"\n",
        "\n",
        "class Cow(Animal):\n",
        "    def sound(self):\n",
        "        return \"Moo!\"\n",
        "\n",
        "animals=[Dog(),Cat(),Cow()]\n",
        "\n",
        "for animal in animals:\n",
        "    print(animal.sound())"
      ],
      "metadata": {
        "colab": {
          "base_uri": "https://localhost:8080/"
        },
        "id": "YvCl2g7W5K5H",
        "outputId": "14b6c47c-977f-40f1-c9b0-6b50a1df6cc6"
      },
      "execution_count": null,
      "outputs": [
        {
          "output_type": "stream",
          "name": "stdout",
          "text": [
            "Woof!\n",
            "Meow!\n",
            "Moo!\n"
          ]
        }
      ]
    },
    {
      "cell_type": "code",
      "source": [
        "#45\n",
        "'''\n",
        "Readability: You can call the same method on different objects, making the code easier to understand.\n",
        "Reusability: You can write code that works with objects of different classes without changing the method names or code structure.\n",
        "'''\n",
        "class Dog:\n",
        "    def sound(self):\n",
        "        return \"Woof!\"\n",
        "\n",
        "class Cat:\n",
        "    def sound(self):\n",
        "        return \"Meow!\"\n",
        "\n",
        "animals = [Dog(),Cat()]\n",
        "\n",
        "for animal in animals:\n",
        "    print(animal.sound())"
      ],
      "metadata": {
        "colab": {
          "base_uri": "https://localhost:8080/"
        },
        "id": "DgFsbTtV5Y_c",
        "outputId": "2766b617-a9c0-4abc-b81d-6b268b68718a"
      },
      "execution_count": null,
      "outputs": [
        {
          "output_type": "stream",
          "name": "stdout",
          "text": [
            "Woof!\n",
            "Meow!\n"
          ]
        }
      ]
    },
    {
      "cell_type": "code",
      "source": [
        "#46\n",
        "class Duck:\n",
        "    def quack(self):\n",
        "        return \"Quack!\"\n",
        "\n",
        "class Person:\n",
        "    def quack(self):\n",
        "        return \"I am quacking!\"\n",
        "\n",
        "def make_it_quack(being):\n",
        "    print(being.quack())\n",
        "\n",
        "duck = Duck()\n",
        "person = Person()\n",
        "\n",
        "make_it_quack(duck)\n",
        "make_it_quack(person)"
      ],
      "metadata": {
        "colab": {
          "base_uri": "https://localhost:8080/"
        },
        "id": "EP2ZWA0Zz0OE",
        "outputId": "4097412d-07b0-410f-e1cf-eaab4a666b20"
      },
      "execution_count": null,
      "outputs": [
        {
          "output_type": "stream",
          "name": "stdout",
          "text": [
            "Quack!\n",
            "I am quacking!\n"
          ]
        }
      ]
    },
    {
      "cell_type": "code",
      "source": [
        "#47\n",
        "#This is done using private and protected attributes, and providing public methods to interact with those attributes.\n",
        "class Person:\n",
        "    def __init__(self,name,age):\n",
        "        self.__name=name\n",
        "        self.__age=age\n",
        "\n",
        "    def set_age(self,age):\n",
        "        if age>0:\n",
        "            self.__age=age\n",
        "        else:\n",
        "            print(\"Invalid age\")\n",
        "\n",
        "    def get_age(self):\n",
        "        return self.__age\n",
        "\n",
        "person = Person(\"Umesh\",20)\n",
        "print(person.get_age())\n",
        "\n",
        "person.set_age(21)\n",
        "print(person.get_age())"
      ],
      "metadata": {
        "id": "TUki-S4N0PYX",
        "colab": {
          "base_uri": "https://localhost:8080/"
        },
        "outputId": "e1f2c84a-8d40-4612-89ee-c4716353944a"
      },
      "execution_count": null,
      "outputs": [
        {
          "output_type": "stream",
          "name": "stdout",
          "text": [
            "20\n",
            "21\n"
          ]
        }
      ]
    },
    {
      "cell_type": "code",
      "source": [
        "#48\n",
        "#accessing private attribute directly\n",
        "class Person:\n",
        "    def __init__(self,name,age):\n",
        "        self.__name=name\n",
        "        self.__age=age\n",
        "\n",
        "p=Person(\"Umesh\",20)\n",
        "print(p._Person__age)"
      ],
      "metadata": {
        "colab": {
          "base_uri": "https://localhost:8080/"
        },
        "id": "u5f1e9V17XLj",
        "outputId": "cfa8ad8b-c5b2-44a6-c8fd-eb853743717c"
      },
      "execution_count": null,
      "outputs": [
        {
          "output_type": "stream",
          "name": "stdout",
          "text": [
            "20\n"
          ]
        }
      ]
    },
    {
      "cell_type": "code",
      "source": [
        "#49\n",
        "class BankAccount:\n",
        "    def __init__(self, initial_balance):\n",
        "        self.__balance=initial_balance\n",
        "\n",
        "    def deposit(self,amount):\n",
        "        if amount>0:\n",
        "            self.__balance+=amount\n",
        "        else:\n",
        "            print(\"Deposit amount must be positive.\")\n",
        "\n",
        "    def withdraw(self, amount):\n",
        "        if 0<amount<=self.__balance:\n",
        "            self.__balance-=amount\n",
        "        else:\n",
        "            print(\"Insufficient amount.\")\n",
        "\n",
        "    def check_balance(self):\n",
        "        return self.__balance\n",
        "\n",
        "acc=BankAccount(100)\n",
        "print(\"Balance:\",acc.check_balance())\n",
        "\n",
        "acc.deposit(50)\n",
        "print(\"After Deposit:\",acc.check_balance())\n",
        "\n",
        "acc.withdraw(30)\n",
        "print(\"After Withdrawal:\",acc.check_balance())\n",
        "\n",
        "acc.withdraw(200)"
      ],
      "metadata": {
        "colab": {
          "base_uri": "https://localhost:8080/"
        },
        "id": "zrMC7OqT74dp",
        "outputId": "ff7752df-bd11-443f-a9d4-94461bf789cc"
      },
      "execution_count": null,
      "outputs": [
        {
          "output_type": "stream",
          "name": "stdout",
          "text": [
            "Balance: 100\n",
            "After Deposit: 150\n",
            "After Withdrawal: 120\n",
            "Insufficient amount.\n"
          ]
        }
      ]
    },
    {
      "cell_type": "code",
      "source": [
        "#50\n",
        "class Person:\n",
        "    def __init__(self,name,email):\n",
        "        self.__name=name\n",
        "        self.__email=email\n",
        "\n",
        "    def set_email(self, email):\n",
        "            self.__email=email\n",
        "\n",
        "    def get_email(self):\n",
        "        return self.__email\n",
        "\n",
        "per=Person(\"Alice\", \"umesh@example.com\")\n",
        "print(\"Initial Email:\",per.get_email())\n",
        "\n",
        "per.set_email(\"new_umesh@example.com\")\n",
        "print(\"Updated Email:\",per.get_email())"
      ],
      "metadata": {
        "colab": {
          "base_uri": "https://localhost:8080/"
        },
        "id": "ZUy3RHEo8lnF",
        "outputId": "f22283b1-59dd-4e62-8575-13ec87a74818"
      },
      "execution_count": null,
      "outputs": [
        {
          "output_type": "stream",
          "name": "stdout",
          "text": [
            "Initial Email: umesh@example.com\n",
            "Updated Email: new_umesh@example.com\n"
          ]
        }
      ]
    },
    {
      "cell_type": "code",
      "source": [
        "#51\n",
        "'''\n",
        "Data Protection:Encapsulation protects an objects internal state by restricting direct access to its attributes\n",
        "Ease of Maintenance\n",
        "Modularity\n",
        "'''"
      ],
      "metadata": {
        "id": "ytVWBKhj9Z_z"
      },
      "execution_count": null,
      "outputs": []
    },
    {
      "cell_type": "code",
      "source": [
        "#52\n",
        "def my_decorator(func):\n",
        "    def wrapper(*args,**kwargs):\n",
        "        print(\"Before function execution\")\n",
        "        result = func(*args,**kwargs)\n",
        "        print(\"After function execution\")\n",
        "        return result\n",
        "    return wrapper\n",
        "\n",
        "@my_decorator\n",
        "def my_function():\n",
        "    print(\"Function is running\")\n",
        "\n",
        "my_function()"
      ],
      "metadata": {
        "colab": {
          "base_uri": "https://localhost:8080/"
        },
        "id": "h4n_8a_l-Fsx",
        "outputId": "4f23e6d9-351f-40b3-8d17-b755926ad85b"
      },
      "execution_count": 16,
      "outputs": [
        {
          "output_type": "stream",
          "name": "stdout",
          "text": [
            "Before function execution\n",
            "Function is running\n",
            "After function execution\n"
          ]
        }
      ]
    },
    {
      "cell_type": "code",
      "source": [
        "#53\n",
        "def my_decorator(message):\n",
        "    def decorator(func):\n",
        "        def wrapper(*args,**kwargs):\n",
        "            print(f\"{message}-Function:{func.__name__}-Before execution\")\n",
        "            result = func(*args,**kwargs)\n",
        "            print(f\"{message}-Function:{func.__name__}-After execution\")\n",
        "            return result\n",
        "        return wrapper\n",
        "    return decorator\n",
        "\n",
        "@my_decorator(\"Info\")\n",
        "def my_function():\n",
        "    print(\"Function is running\")\n",
        "\n",
        "my_function()"
      ],
      "metadata": {
        "colab": {
          "base_uri": "https://localhost:8080/"
        },
        "id": "6Nz1O6RN-jf4",
        "outputId": "397eb525-a1e3-490d-b90f-2204b6cccd26"
      },
      "execution_count": 17,
      "outputs": [
        {
          "output_type": "stream",
          "name": "stdout",
          "text": [
            "Info-Function:my_function-Before execution\n",
            "Function is running\n",
            "Info-Function:my_function-After execution\n"
          ]
        }
      ]
    },
    {
      "cell_type": "code",
      "source": [
        "#54\n",
        "def decorator_one(func):\n",
        "    def wrapper(*args,**kwargs):\n",
        "        print(\"Decorator One\")\n",
        "        return func(*args, **kwargs)\n",
        "    return wrapper\n",
        "\n",
        "def decorator_two(func):\n",
        "    def wrapper(*args,**kwargs):\n",
        "        print(\"Decorator Two\")\n",
        "        return func(*args,**kwargs)\n",
        "    return wrapper\n",
        "\n",
        "@decorator_one\n",
        "@decorator_two\n",
        "def my_function():\n",
        "    print(\"Function Execution\")\n",
        "\n",
        "my_function()"
      ],
      "metadata": {
        "colab": {
          "base_uri": "https://localhost:8080/"
        },
        "id": "qttIQNv_-21n",
        "outputId": "e96bb216-eaee-4e7a-c5b7-e7b0e17feda4"
      },
      "execution_count": 18,
      "outputs": [
        {
          "output_type": "stream",
          "name": "stdout",
          "text": [
            "Decorator One\n",
            "Decorator Two\n",
            "Function Execution\n"
          ]
        }
      ]
    },
    {
      "cell_type": "code",
      "source": [
        "#55 56\n",
        "from functools import wraps\n",
        "\n",
        "def metadata_preserving_decorator(func):\n",
        "    @wraps(func)\n",
        "    def wrapper(*args,**kwargs):\n",
        "        return func(*args,**kwargs)\n",
        "    return wrapper\n",
        "\n",
        "@metadata_preserving_decorator\n",
        "def my_function():\n",
        "    \"\"\"Function docstring\"\"\"\n",
        "    pass\n",
        "\n",
        "print(my_function.__name__)\n",
        "print(my_function.__doc__)"
      ],
      "metadata": {
        "colab": {
          "base_uri": "https://localhost:8080/"
        },
        "id": "n4nycXOT_X1S",
        "outputId": "7e974d6d-9846-45b9-cee7-f3a468fd1b46"
      },
      "execution_count": 19,
      "outputs": [
        {
          "output_type": "stream",
          "name": "stdout",
          "text": [
            "my_function\n",
            "Function docstring\n"
          ]
        }
      ]
    },
    {
      "cell_type": "code",
      "source": [
        "#57\n",
        "class Calculator:\n",
        "    def add(self,a,b):\n",
        "        return a+b\n",
        "\n",
        "cal=Calculator()\n",
        "print(\"sum:\",cal.add(2,3))"
      ],
      "metadata": {
        "colab": {
          "base_uri": "https://localhost:8080/"
        },
        "id": "aQ6ervoF_mEL",
        "outputId": "2da0cbda-3d7d-48e2-c63b-f0a37c4e0b97"
      },
      "execution_count": 22,
      "outputs": [
        {
          "output_type": "stream",
          "name": "stdout",
          "text": [
            "sum: 5\n"
          ]
        }
      ]
    },
    {
      "cell_type": "code",
      "source": [
        "#58\n",
        "class Employee:\n",
        "    count=0\n",
        "    def __init__(self):\n",
        "        Employee.count+=1\n",
        "\n",
        "    @classmethod\n",
        "    def employee_count(cls):\n",
        "        return cls.count\n",
        "\n",
        "e1=Employee()\n",
        "e2=Employee()\n",
        "print(\"Number of emp:\",Employee.employee_count())"
      ],
      "metadata": {
        "colab": {
          "base_uri": "https://localhost:8080/"
        },
        "id": "_c0o9shoAM7Q",
        "outputId": "68552caf-f55f-4b92-b62c-d05a50c78889"
      },
      "execution_count": 25,
      "outputs": [
        {
          "output_type": "stream",
          "name": "stdout",
          "text": [
            "Number of emp: 2\n"
          ]
        }
      ]
    },
    {
      "cell_type": "code",
      "source": [
        "#59\n",
        "class StringFormate:\n",
        "    @staticmethod\n",
        "    def reverse_string(s):\n",
        "        return s[::-1]\n",
        "\n",
        "obj=StringFormate()\n",
        "print(\"Reverse of 'umesh':\",obj.reverse_string('umesh'))"
      ],
      "metadata": {
        "colab": {
          "base_uri": "https://localhost:8080/"
        },
        "id": "d5X8bojfAw4g",
        "outputId": "140e1285-46d7-4f0c-f437-969aeba32409"
      },
      "execution_count": 26,
      "outputs": [
        {
          "output_type": "stream",
          "name": "stdout",
          "text": [
            "Reverse of 'umesh': hsemu\n"
          ]
        }
      ]
    },
    {
      "cell_type": "code",
      "source": [
        "#60\n",
        "import math\n",
        "class Circle:\n",
        "    def __init__(self,radius):\n",
        "        self.radius=radius\n",
        "\n",
        "    def calculate_area(self):\n",
        "        return math.pi*(self.radius**2)\n",
        "\n",
        "obj=Circle(2)\n",
        "print(\"Area of circle:\",obj.calculate_area())"
      ],
      "metadata": {
        "colab": {
          "base_uri": "https://localhost:8080/"
        },
        "id": "FeWQH4ypB8mp",
        "outputId": "8e87510a-2c13-4ef5-abb7-db05e8fc62b3"
      },
      "execution_count": 28,
      "outputs": [
        {
          "output_type": "stream",
          "name": "stdout",
          "text": [
            "Area of circle: 12.566370614359172\n"
          ]
        }
      ]
    },
    {
      "cell_type": "code",
      "source": [
        "#61\n",
        "class TemperatureConverter:\n",
        "    @staticmethod\n",
        "    def celsius_to_fahrenheit(celsius):\n",
        "        return (celsius*9/5)+32\n",
        "\n",
        "obj=TemperatureConverter()\n",
        "print(\"celsius to fahrenheit:\",obj.celsius_to_fahrenheit(40))"
      ],
      "metadata": {
        "colab": {
          "base_uri": "https://localhost:8080/"
        },
        "id": "52kzQxkRCZ9b",
        "outputId": "cec6ad0c-d179-4f0a-92d7-4eb4e29064db"
      },
      "execution_count": 29,
      "outputs": [
        {
          "output_type": "stream",
          "name": "stdout",
          "text": [
            "celsius to fahrenheit: 104.0\n"
          ]
        }
      ]
    },
    {
      "cell_type": "code",
      "source": [
        "#62\n",
        "class Person:\n",
        "    def __init__(self, name):\n",
        "        self.name=name\n",
        "\n",
        "    def __str__(self):\n",
        "        return f\"Person:{self.name}\"\n",
        "\n",
        "person=Person(\"Umesh\")\n",
        "print(person)"
      ],
      "metadata": {
        "colab": {
          "base_uri": "https://localhost:8080/"
        },
        "id": "X4uDG7UpC5wl",
        "outputId": "a97d1fd7-cd49-4f61-82a6-169c947483cd"
      },
      "execution_count": 30,
      "outputs": [
        {
          "output_type": "stream",
          "name": "stdout",
          "text": [
            "Person: Umesh\n"
          ]
        }
      ]
    },
    {
      "cell_type": "code",
      "source": [
        "#63\n",
        "class MyList:\n",
        "    def __init__(self,items):\n",
        "        self.items=items\n",
        "\n",
        "    def __len__(self):\n",
        "        return len(self.items)\n",
        "\n",
        "lst=MyList([1, 2, 3])\n",
        "print(len(lst))"
      ],
      "metadata": {
        "colab": {
          "base_uri": "https://localhost:8080/"
        },
        "id": "n0wJAcRUDG5A",
        "outputId": "784b7515-728a-4c02-e286-99f948fe5923"
      },
      "execution_count": 31,
      "outputs": [
        {
          "output_type": "stream",
          "name": "stdout",
          "text": [
            "3\n"
          ]
        }
      ]
    },
    {
      "cell_type": "code",
      "source": [
        "#64\n",
        "class Vector:\n",
        "    def __init__(self,x,y):\n",
        "        self.x=x\n",
        "        self.y=y\n",
        "\n",
        "    def __add__(self,other):\n",
        "        return Vector(self.x+other.x,self.y+other.y)\n",
        "\n",
        "v1=Vector(1,2)\n",
        "v2=Vector(3,4)\n",
        "v3=v1+v2\n",
        "print(v3.x,v3.y)"
      ],
      "metadata": {
        "colab": {
          "base_uri": "https://localhost:8080/"
        },
        "id": "afWjWCeiDbLC",
        "outputId": "68cbecae-91a3-40a1-dd29-ab06451113d4"
      },
      "execution_count": 32,
      "outputs": [
        {
          "output_type": "stream",
          "name": "stdout",
          "text": [
            "4 6\n"
          ]
        }
      ]
    },
    {
      "cell_type": "code",
      "source": [
        "#65\n",
        "'''\n",
        "The __ge__ method in Python is used to define the behavior of the >= (greater than or equal to)\n",
        "operator for custom objects. It allows you to specify how your objects should be compared using this operator.\n",
        "'''\n",
        "class Number:\n",
        "    def __init__(self,value):\n",
        "        self.value=value\n",
        "\n",
        "    def __ge__(self,other):\n",
        "        return self.value>=other.value\n",
        "\n",
        "n1=Number(5)\n",
        "n2=Number(3)\n",
        "print(n1>=n2)"
      ],
      "metadata": {
        "colab": {
          "base_uri": "https://localhost:8080/"
        },
        "id": "08yNW2E1Dsj_",
        "outputId": "78e0189f-0404-4276-bf0a-e18c34185f4e"
      },
      "execution_count": 33,
      "outputs": [
        {
          "output_type": "stream",
          "name": "stdout",
          "text": [
            "True\n"
          ]
        }
      ]
    },
    {
      "cell_type": "code",
      "source": [
        "#66\n",
        "class Counter:\n",
        "    def __init__(self,low,high):\n",
        "        self.current=low\n",
        "        self.high=high\n",
        "\n",
        "    def __iter__(self):\n",
        "        return self\n",
        "\n",
        "    def __next__(self):\n",
        "        if self.current>self.high:\n",
        "            raise StopIteration\n",
        "        self.current+=1\n",
        "        return self.current-1\n",
        "\n",
        "counter=Counter(1,3)\n",
        "for number in counter:\n",
        "    print(number)"
      ],
      "metadata": {
        "colab": {
          "base_uri": "https://localhost:8080/"
        },
        "id": "ZxL5iOOIEGdJ",
        "outputId": "63636dfe-0cbd-4aa7-baff-8bf53cfda2d6"
      },
      "execution_count": 34,
      "outputs": [
        {
          "output_type": "stream",
          "name": "stdout",
          "text": [
            "1\n",
            "2\n",
            "3\n"
          ]
        }
      ]
    },
    {
      "cell_type": "code",
      "source": [
        "#67\n",
        "'''\n",
        "The __ge__ method in Python is used to define the behavior of the >= (greater than or equal to)\n",
        "operator for custom objects. It allows you to specify how your objects should be compared using this operator.\n",
        "'''\n",
        "class Number:\n",
        "    def __init__(self,value):\n",
        "        self.value=value\n",
        "\n",
        "    def __ge__(self,other):\n",
        "        return self.value>=other.value\n",
        "\n",
        "n1=Number(5)\n",
        "n2=Number(3)\n",
        "print(n1 >= n2)"
      ],
      "metadata": {
        "colab": {
          "base_uri": "https://localhost:8080/"
        },
        "id": "QHfNIogtEhME",
        "outputId": "8bb2f8db-a1bc-491b-96fa-664216fa35f3"
      },
      "execution_count": 35,
      "outputs": [
        {
          "output_type": "stream",
          "name": "stdout",
          "text": [
            "True\n"
          ]
        }
      ]
    },
    {
      "cell_type": "code",
      "source": [
        "#68\n",
        "#The __set__ method is used in the context of descriptors\n",
        "class Descriptor:\n",
        "    def __init__(self,name):\n",
        "        self.name = name\n",
        "\n",
        "    def __get__(self,instance,owner):\n",
        "        return instance.__dict__.get(self.name)\n",
        "\n",
        "    def __set__(self,instance,value):\n",
        "        instance.__dict__[self.name]=value\n",
        "\n",
        "class MyClass:\n",
        "    attribute=Descriptor('attribute')\n",
        "\n",
        "obj=MyClass()\n",
        "obj.attribute='value'\n",
        "print(obj.attribute)"
      ],
      "metadata": {
        "colab": {
          "base_uri": "https://localhost:8080/"
        },
        "id": "FJQgm8DGFV-m",
        "outputId": "44240681-07cb-4154-fa25-097c403bba4b"
      },
      "execution_count": 36,
      "outputs": [
        {
          "output_type": "stream",
          "name": "stdout",
          "text": [
            "value\n"
          ]
        }
      ]
    },
    {
      "cell_type": "code",
      "source": [
        "#69\n",
        "'''\n",
        "The @property decorator is used to define getter methods in a class that can be accessed like attributes. It allows you to create managed attributes with getter and setter methods.\n",
        "'''\n",
        "class Temperature:\n",
        "    def __init__(self,celsius):\n",
        "        self._celsius=celsius\n",
        "\n",
        "    @property\n",
        "    def celsius(self):\n",
        "        return self._celsius\n",
        "\n",
        "    @celsius.setter\n",
        "    def celsius(self,value):\n",
        "        if value<-273.15:\n",
        "            raise ValueError(\"Temperature cannot be below absolute zero.\")\n",
        "        self._celsius=value\n",
        "\n",
        "temp=Temperature(25)\n",
        "print(temp.celsius)\n",
        "temp.celsius=30\n",
        "print(temp.celsius)"
      ],
      "metadata": {
        "colab": {
          "base_uri": "https://localhost:8080/"
        },
        "id": "LYbz8v4FF3Le",
        "outputId": "2296122e-acc8-4eda-e493-3ea50ade54c0"
      },
      "execution_count": 38,
      "outputs": [
        {
          "output_type": "stream",
          "name": "stdout",
          "text": [
            "25\n",
            "30\n"
          ]
        }
      ]
    },
    {
      "cell_type": "code",
      "source": [
        "#70\n",
        "'''\n",
        "he @deleter decorator in Python is used to define a custom behavior when an attribute is deleted from an\n",
        " instance of a class. It allows you to specify what happens when the del statement is used on an attribute.\n",
        "'''\n",
        "class MyClass:\n",
        "    def __init__(self,value):\n",
        "        self._value=value\n",
        "\n",
        "    @property\n",
        "    def value(self):\n",
        "        return self._value\n",
        "\n",
        "    @value.deleter\n",
        "    def value(self):\n",
        "        print(\"Deleting value...\")\n",
        "        del self._value\n",
        "\n",
        "obj=MyClass(10)\n",
        "print(obj.value)\n",
        "\n",
        "del obj.value"
      ],
      "metadata": {
        "colab": {
          "base_uri": "https://localhost:8080/"
        },
        "id": "mGsi8OnTGYJL",
        "outputId": "8fad8cb7-507e-4bf3-8d4e-5ebe91202738"
      },
      "execution_count": 39,
      "outputs": [
        {
          "output_type": "stream",
          "name": "stdout",
          "text": [
            "10\n",
            "Deleting value...\n"
          ]
        }
      ]
    },
    {
      "cell_type": "code",
      "source": [
        "#71\n",
        "class BankAccount:\n",
        "    def __init__(self,balance):\n",
        "        self._balance=balance\n",
        "\n",
        "    @property\n",
        "    def balance(self):\n",
        "        return self._balance\n",
        "\n",
        "    @balance.setter\n",
        "    def balance(self, amount):\n",
        "        if amount<0:\n",
        "            raise ValueError(\"Balance cannot be negative.\")\n",
        "        self._balance=amount\n",
        "\n",
        "account=BankAccount(100)\n",
        "print(account.balance)\n",
        "account.balance=150\n",
        "print(account.balance)"
      ],
      "metadata": {
        "colab": {
          "base_uri": "https://localhost:8080/"
        },
        "id": "V1acNh-fHHbD",
        "outputId": "1299d19d-54d8-4d14-d358-a28cca1cf802"
      },
      "execution_count": 40,
      "outputs": [
        {
          "output_type": "stream",
          "name": "stdout",
          "text": [
            "100\n",
            "150\n"
          ]
        }
      ]
    },
    {
      "cell_type": "code",
      "source": [],
      "metadata": {
        "id": "QtuDjif2Hefj"
      },
      "execution_count": null,
      "outputs": []
    }
  ]
}