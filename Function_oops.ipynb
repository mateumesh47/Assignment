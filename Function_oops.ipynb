{
  "nbformat": 4,
  "nbformat_minor": 0,
  "metadata": {
    "colab": {
      "provenance": [],
      "authorship_tag": "ABX9TyM/+RGYFGzDam9HZ8f+G9jm"
    },
    "kernelspec": {
      "name": "python3",
      "display_name": "Python 3"
    },
    "language_info": {
      "name": "python"
    }
  },
  "cells": [
    {
      "cell_type": "code",
      "execution_count": 1,
      "metadata": {
        "colab": {
          "base_uri": "https://localhost:8080/",
          "height": 36
        },
        "id": "edlO7i5sWfuQ",
        "outputId": "169b20ca-ef2b-4e1d-aa3a-c7f6eb419165"
      },
      "outputs": [
        {
          "output_type": "execute_result",
          "data": {
            "text/plain": [
              "'\\nFunctions allow you to write a block of code once and reuse it multiple times, reducing repetition and making your code more efficient.\\n'"
            ],
            "application/vnd.google.colaboratory.intrinsic+json": {
              "type": "string"
            }
          },
          "metadata": {},
          "execution_count": 1
        }
      ],
      "source": [
        "#1\n",
        "'''\n",
        "Functions allow you to write a block of code once and reuse it multiple times, reducing repetition and making your code more efficient.\n",
        "'''"
      ]
    },
    {
      "cell_type": "code",
      "source": [
        "#2\n",
        "def greet_students():\n",
        "    print(\"Welcome to the class!\")\n",
        "    print(\"I hope you're excited to learn new things.\")\n",
        "    print(\"Let's make this a great learning experience together!\")\n",
        "\n",
        "greet_students()"
      ],
      "metadata": {
        "colab": {
          "base_uri": "https://localhost:8080/"
        },
        "id": "4-54TiP7W0Za",
        "outputId": "4aba5f79-dd7e-4673-97d3-a61a86951e68"
      },
      "execution_count": 2,
      "outputs": [
        {
          "output_type": "stream",
          "name": "stdout",
          "text": [
            "Welcome to the class!\n",
            "I hope you're excited to learn new things.\n",
            "Let's make this a great learning experience together!\n"
          ]
        }
      ]
    },
    {
      "cell_type": "code",
      "source": [
        "#3\n",
        "'''\n",
        "The print statement outputs data to the console.\n",
        "\n",
        "The return statement exits a function and sends a value back to the caller.\n",
        "'''"
      ],
      "metadata": {
        "id": "04aSPhikXSKN"
      },
      "execution_count": null,
      "outputs": []
    },
    {
      "cell_type": "code",
      "source": [
        "#4\n",
        "'''\n",
        "*args: Allows you to pass a variable number of positional arguments to a function. These arguments are stored in a tuple.\n",
        "**kwargs: Allows you to pass a variable number of keyword arguments to a function. These arguments are stored in a dictionary.\n",
        "'''"
      ],
      "metadata": {
        "id": "jJnCBoVyXjr0"
      },
      "execution_count": null,
      "outputs": []
    },
    {
      "cell_type": "code",
      "source": [
        "#5\n",
        "'''\n",
        "An iterator function in Python is a function that returns an iterator, which allows you to iterate over a sequence of elements one at a time\n",
        "'''"
      ],
      "metadata": {
        "id": "7tZFlqfPX_D8"
      },
      "execution_count": null,
      "outputs": []
    },
    {
      "cell_type": "code",
      "source": [
        "#6\n",
        "def square_numbers(n):\n",
        "    for i in range(1,n+1):\n",
        "        yield i*i\n",
        "\n",
        "n=5\n",
        "for square in square_numbers(n):\n",
        "    print(square)"
      ],
      "metadata": {
        "colab": {
          "base_uri": "https://localhost:8080/"
        },
        "id": "AzufWvFwYRvg",
        "outputId": "634c92e3-b0ed-4244-c98a-af34e79dc5e4"
      },
      "execution_count": 5,
      "outputs": [
        {
          "output_type": "stream",
          "name": "stdout",
          "text": [
            "1\n",
            "4\n",
            "9\n",
            "16\n",
            "25\n"
          ]
        }
      ]
    },
    {
      "cell_type": "code",
      "source": [
        "#7\n",
        "def palindromic_numbers(n):\n",
        "    for i in range(1, n + 1):\n",
        "        if str(i) == str(i)[::-1]:\n",
        "            yield i\n",
        "\n",
        "n = 150\n",
        "for palindrome in palindromic_numbers(n):\n",
        "    print(palindrome)"
      ],
      "metadata": {
        "colab": {
          "base_uri": "https://localhost:8080/"
        },
        "id": "fqou0p2WYoTB",
        "outputId": "950d91c5-734e-41e0-cef4-1d338347a937"
      },
      "execution_count": 6,
      "outputs": [
        {
          "output_type": "stream",
          "name": "stdout",
          "text": [
            "1\n",
            "2\n",
            "3\n",
            "4\n",
            "5\n",
            "6\n",
            "7\n",
            "8\n",
            "9\n",
            "11\n",
            "22\n",
            "33\n",
            "44\n",
            "55\n",
            "66\n",
            "77\n",
            "88\n",
            "99\n",
            "101\n",
            "111\n",
            "121\n",
            "131\n",
            "141\n"
          ]
        }
      ]
    },
    {
      "cell_type": "code",
      "source": [
        "#8\n",
        "def even_numbers(n):\n",
        "    for i in range(2,n+1,2):\n",
        "        yield i\n",
        "\n",
        "for num in even_numbers(10):\n",
        "    print(num)"
      ],
      "metadata": {
        "colab": {
          "base_uri": "https://localhost:8080/"
        },
        "id": "l50s9FbhZDcW",
        "outputId": "c3e56af3-b5e7-4180-d95a-53fc7e59eca4"
      },
      "execution_count": 7,
      "outputs": [
        {
          "output_type": "stream",
          "name": "stdout",
          "text": [
            "2\n",
            "4\n",
            "6\n",
            "8\n",
            "10\n"
          ]
        }
      ]
    },
    {
      "cell_type": "code",
      "source": [
        "#9\n",
        "def powers_of_two(n):\n",
        "    for i in range(n+1):\n",
        "        yield 2**i\n",
        "\n",
        "for num in powers_of_two(5):\n",
        "    print(num)"
      ],
      "metadata": {
        "colab": {
          "base_uri": "https://localhost:8080/"
        },
        "id": "kZQjk8IgZYyH",
        "outputId": "d60e4130-0b2c-4393-99e3-13f29fe15099"
      },
      "execution_count": 8,
      "outputs": [
        {
          "output_type": "stream",
          "name": "stdout",
          "text": [
            "1\n",
            "2\n",
            "4\n",
            "8\n",
            "16\n",
            "32\n"
          ]
        }
      ]
    },
    {
      "cell_type": "code",
      "source": [
        "#10\n",
        "def is_prime(num):\n",
        "    if num<2:\n",
        "        return False\n",
        "    for i in range(2,int(num**0.5)+1):\n",
        "        if num%i==0:\n",
        "            return False\n",
        "    return True\n",
        "\n",
        "def prime_numbers(n):\n",
        "    for i in range(2,n+1):\n",
        "        if is_prime(i):\n",
        "            yield i\n",
        "\n",
        "for prime in prime_numbers(20):\n",
        "    print(prime)\n"
      ],
      "metadata": {
        "colab": {
          "base_uri": "https://localhost:8080/"
        },
        "id": "kQ6P9A7GZkTE",
        "outputId": "67c6979f-cf09-460d-8d5c-fb05a209d977"
      },
      "execution_count": 9,
      "outputs": [
        {
          "output_type": "stream",
          "name": "stdout",
          "text": [
            "2\n",
            "3\n",
            "5\n",
            "7\n",
            "11\n",
            "13\n",
            "17\n",
            "19\n"
          ]
        }
      ]
    },
    {
      "cell_type": "code",
      "source": [
        "#11\n",
        "sum_lambda=lambda a,b:a+b\n",
        "\n",
        "result=sum_lambda(3,7)\n",
        "print(\"Sum:\",result)"
      ],
      "metadata": {
        "colab": {
          "base_uri": "https://localhost:8080/"
        },
        "id": "2_XxS7q4Z2Xc",
        "outputId": "cd616ab1-8d8e-4282-c819-0133810e81fd"
      },
      "execution_count": 11,
      "outputs": [
        {
          "output_type": "stream",
          "name": "stdout",
          "text": [
            "Sum: 10\n"
          ]
        }
      ]
    },
    {
      "cell_type": "code",
      "source": [
        "#12\n",
        "square_lambda=lambda x:x**2\n",
        "\n",
        "result = square_lambda(4)\n",
        "print(\"Square:\",result)"
      ],
      "metadata": {
        "colab": {
          "base_uri": "https://localhost:8080/"
        },
        "id": "CKTuv9LLaC-1",
        "outputId": "0cda4562-22c5-45dc-cb69-d0b7d9a18c0d"
      },
      "execution_count": 12,
      "outputs": [
        {
          "output_type": "stream",
          "name": "stdout",
          "text": [
            "Square: 16\n"
          ]
        }
      ]
    },
    {
      "cell_type": "code",
      "source": [
        "#13\n",
        "is_even_lambda=lambda x:\"Even\" if x%2==0 else \"Odd\"\n",
        "\n",
        "result=is_even_lambda(5)\n",
        "print(result)"
      ],
      "metadata": {
        "colab": {
          "base_uri": "https://localhost:8080/"
        },
        "id": "jOA0RlzYaRqA",
        "outputId": "cb7cabcd-43f1-4d50-d42e-5d78d434175e"
      },
      "execution_count": 13,
      "outputs": [
        {
          "output_type": "stream",
          "name": "stdout",
          "text": [
            "Odd\n"
          ]
        }
      ]
    },
    {
      "cell_type": "code",
      "source": [
        "#15\n",
        "concat_lambda = lambda s1,s2:s1+s2\n",
        "\n",
        "result = concat_lambda(\"Hello, \",\"World!\")\n",
        "print(result)"
      ],
      "metadata": {
        "colab": {
          "base_uri": "https://localhost:8080/"
        },
        "id": "HfUyhgobnGnF",
        "outputId": "7e166d61-0dc4-48fa-d460-94474555b696"
      },
      "execution_count": 14,
      "outputs": [
        {
          "output_type": "stream",
          "name": "stdout",
          "text": [
            "Hello, World!\n"
          ]
        }
      ]
    },
    {
      "cell_type": "code",
      "source": [
        "#16\n",
        "max_lambda = lambda a,b,c:max(a,b,c)\n",
        "\n",
        "result=max_lambda(3,9,7)\n",
        "print(result)"
      ],
      "metadata": {
        "colab": {
          "base_uri": "https://localhost:8080/"
        },
        "id": "ex2m0WMynVQ-",
        "outputId": "cb5f1c1d-f39e-4bd9-d8ef-ae09fb365613"
      },
      "execution_count": 15,
      "outputs": [
        {
          "output_type": "stream",
          "name": "stdout",
          "text": [
            "9\n"
          ]
        }
      ]
    },
    {
      "cell_type": "code",
      "source": [
        "#17\n",
        "def even_squares(numbers):\n",
        "    for num in numbers:\n",
        "        if num%2==0:\n",
        "            yield num**2\n",
        "\n",
        "for square in even_squares([1,2,3,4,5,6]):\n",
        "    print(square)"
      ],
      "metadata": {
        "colab": {
          "base_uri": "https://localhost:8080/"
        },
        "id": "rBYhxCOunqzn",
        "outputId": "30d0ced0-e6d7-425d-8036-aa91cf4445b9"
      },
      "execution_count": 16,
      "outputs": [
        {
          "output_type": "stream",
          "name": "stdout",
          "text": [
            "4\n",
            "16\n",
            "36\n"
          ]
        }
      ]
    },
    {
      "cell_type": "code",
      "source": [
        "#18\n",
        "from functools import reduce\n",
        "product_lambda=lambda lst:reduce(lambda x,y:x*y,[num for num in lst if num>0])\n",
        "\n",
        "result=product_lambda([1,-2,3,4])\n",
        "print(result)"
      ],
      "metadata": {
        "colab": {
          "base_uri": "https://localhost:8080/"
        },
        "id": "hRps9QhVn6ov",
        "outputId": "4a51fa53-4f71-4ae4-a154-7aa3a4b01e3e"
      },
      "execution_count": 17,
      "outputs": [
        {
          "output_type": "stream",
          "name": "stdout",
          "text": [
            "12\n"
          ]
        }
      ]
    },
    {
      "cell_type": "code",
      "source": [
        "#19\n",
        "double_lambda = lambda lst: [num*2 for num in lst]\n",
        "\n",
        "result = double_lambda([1,2,3,4])\n",
        "print(result)"
      ],
      "metadata": {
        "colab": {
          "base_uri": "https://localhost:8080/"
        },
        "id": "_n2O9eddoNi7",
        "outputId": "4e9543c6-529b-4c06-c4f4-4cbd8d76a027"
      },
      "execution_count": 18,
      "outputs": [
        {
          "output_type": "stream",
          "name": "stdout",
          "text": [
            "[2, 4, 6, 8]\n"
          ]
        }
      ]
    },
    {
      "cell_type": "code",
      "source": [
        "#20\n",
        "cube_sum_lambda=lambda lst:sum([num**3 for num in lst])\n",
        "\n",
        "result=cube_sum_lambda([1,2,3])\n",
        "print(result)"
      ],
      "metadata": {
        "colab": {
          "base_uri": "https://localhost:8080/"
        },
        "id": "-dI5YU2NofGp",
        "outputId": "391d1d48-f04a-401c-ded6-400caa6b4aec"
      },
      "execution_count": 19,
      "outputs": [
        {
          "output_type": "stream",
          "name": "stdout",
          "text": [
            "36\n"
          ]
        }
      ]
    },
    {
      "cell_type": "code",
      "source": [
        "#21\n",
        "def filter_primes(numbers):\n",
        "    return list(filter(is_prime,numbers))\n",
        "\n",
        "result=filter_primes([10,11,12,13,14,15])\n",
        "print(result)\n"
      ],
      "metadata": {
        "colab": {
          "base_uri": "https://localhost:8080/"
        },
        "id": "TE1AkXOmo6fz",
        "outputId": "ea614df8-b2de-4b0f-c18b-2dcf0bfe021d"
      },
      "execution_count": 21,
      "outputs": [
        {
          "output_type": "stream",
          "name": "stdout",
          "text": [
            "[11, 13]\n"
          ]
        }
      ]
    },
    {
      "cell_type": "code",
      "source": [
        "#22\n",
        "sum_lambda=lambda a,b:a+b\n",
        "\n",
        "result=sum_lambda(8,5)\n",
        "print(result)"
      ],
      "metadata": {
        "colab": {
          "base_uri": "https://localhost:8080/"
        },
        "id": "E_cqvDDspGuj",
        "outputId": "7e879197-8ff8-4845-eedc-a09db9237883"
      },
      "execution_count": 22,
      "outputs": [
        {
          "output_type": "stream",
          "name": "stdout",
          "text": [
            "13\n"
          ]
        }
      ]
    },
    {
      "cell_type": "code",
      "source": [
        "#23\n",
        "square_lambda=lambda x:x**2\n",
        "\n",
        "result=square_lambda(6)\n",
        "print(result)"
      ],
      "metadata": {
        "colab": {
          "base_uri": "https://localhost:8080/"
        },
        "id": "ArqykIJMpSbT",
        "outputId": "9121946d-58d3-421a-8a17-83987003e701"
      },
      "execution_count": 24,
      "outputs": [
        {
          "output_type": "stream",
          "name": "stdout",
          "text": [
            "36\n"
          ]
        }
      ]
    },
    {
      "cell_type": "code",
      "source": [
        "#24\n",
        "is_even_lambda=lambda x:\"Even\" if x%2==0 else \"Odd\"\n",
        "\n",
        "result=is_even_lambda(5)\n",
        "print(result)"
      ],
      "metadata": {
        "colab": {
          "base_uri": "https://localhost:8080/"
        },
        "id": "WtpChDuSpbTQ",
        "outputId": "3cec712a-b773-4490-b986-1f2c64233eb5"
      },
      "execution_count": 26,
      "outputs": [
        {
          "output_type": "stream",
          "name": "stdout",
          "text": [
            "Odd\n"
          ]
        }
      ]
    },
    {
      "cell_type": "code",
      "source": [
        "#25\n",
        "concat_lambda = lambda s1,s2:s1+s2\n",
        "\n",
        "result = concat_lambda(\"Hello, \",\"World!\")\n",
        "print(result)"
      ],
      "metadata": {
        "colab": {
          "base_uri": "https://localhost:8080/"
        },
        "id": "ymCNtkRUpjSq",
        "outputId": "af178705-9b3d-4daf-ecb2-944ee51fabad"
      },
      "execution_count": 27,
      "outputs": [
        {
          "output_type": "stream",
          "name": "stdout",
          "text": [
            "Hello, World!\n"
          ]
        }
      ]
    },
    {
      "cell_type": "code",
      "source": [
        "#26\n",
        "max_lambda = lambda a,b,c:max(a,b,c)\n",
        "\n",
        "result=max_lambda(3,9,7)\n",
        "print(result)"
      ],
      "metadata": {
        "colab": {
          "base_uri": "https://localhost:8080/"
        },
        "id": "rXrSX6LLpsVh",
        "outputId": "bcdea944-6486-4524-9553-29ff72022db8"
      },
      "execution_count": 28,
      "outputs": [
        {
          "output_type": "stream",
          "name": "stdout",
          "text": [
            "9\n"
          ]
        }
      ]
    },
    {
      "cell_type": "code",
      "source": [
        "#27\n",
        "'''\n",
        "It refers to the bundling of data (attributes) and methods (functions) that operate on that data into a single unit, typically a class.\n",
        "'''"
      ],
      "metadata": {
        "id": "1lZo2CDhpwl1"
      },
      "execution_count": null,
      "outputs": []
    },
    {
      "cell_type": "code",
      "source": [
        "#28\n",
        "'''\n",
        " access modifiers control the visibility and accessibility of attributes and methods in classes.\n",
        " '''"
      ],
      "metadata": {
        "id": "c_wjpHzaqAfD"
      },
      "execution_count": null,
      "outputs": []
    },
    {
      "cell_type": "code",
      "source": [
        "#29\n",
        "'''\n",
        "inheritance is a fundamental concept in Object-Oriented Programming (OOP) that allows a class (called the\n",
        "subclass or derived class) to inherit attributes and methods from another class (called the superclass or base class).\n",
        "'''"
      ],
      "metadata": {
        "id": "iA8ZREkCqPTC"
      },
      "execution_count": null,
      "outputs": []
    },
    {
      "cell_type": "code",
      "source": [
        "#30\n",
        "'''\n",
        "polymorphism is a core concept in Object-Oriented Programming (OOP) that allows objects of different classes to be treated as objects of a common base class.\n",
        "'''"
      ],
      "metadata": {
        "id": "SisoGCeXqdD6"
      },
      "execution_count": null,
      "outputs": []
    },
    {
      "cell_type": "code",
      "source": [
        "#31\n",
        "'''\n",
        "Method overriding is a key feature of polymorphism in Object-Oriented Programming (OOP), allowing a subclass to provide a specific implementation of a method that is already defined in its superclass. When a subclass defines\n",
        "a method with the same name as one in its superclass, the subclass's method overrides the superclass's method.\n",
        "'''"
      ],
      "metadata": {
        "id": "jl4eRWd7qnOy"
      },
      "execution_count": null,
      "outputs": []
    },
    {
      "cell_type": "code",
      "source": [
        "#32\n",
        "class Animal:\n",
        "    def make_sound(self):\n",
        "        print(\"Generic animal sound\")\n",
        "\n",
        "class Dog(Animal):\n",
        "    def make_sound(self):\n",
        "        print(\"Woof!\")\n",
        "\n",
        "animal=Animal()\n",
        "animal.make_sound()\n",
        "\n",
        "dog=Dog()\n",
        "dog.make_sound()\n"
      ],
      "metadata": {
        "colab": {
          "base_uri": "https://localhost:8080/"
        },
        "id": "RBeA2LeFt-xw",
        "outputId": "755846c5-b806-4f0f-fecb-7ef3eccb0085"
      },
      "execution_count": 32,
      "outputs": [
        {
          "output_type": "stream",
          "name": "stdout",
          "text": [
            "Generic animal sound\n",
            "Woof!\n"
          ]
        }
      ]
    },
    {
      "cell_type": "code",
      "source": [
        "#33\n",
        "class Animal:\n",
        "    def move(self):\n",
        "        print(\"Animal moves\")\n",
        "\n",
        "class Dog(Animal):\n",
        "    def move(self):\n",
        "        print(\"Dog runs\")\n",
        "\n",
        "\n",
        "animal=Animal()\n",
        "animal.move()\n",
        "\n",
        "dog=Dog()\n",
        "dog.move()\n"
      ],
      "metadata": {
        "colab": {
          "base_uri": "https://localhost:8080/"
        },
        "id": "fiqrP4aBuXTG",
        "outputId": "5baf89e5-57c8-402f-fad4-3910c335b4d8"
      },
      "execution_count": 35,
      "outputs": [
        {
          "output_type": "stream",
          "name": "stdout",
          "text": [
            "Animal moves\n",
            "Dog runs\n"
          ]
        }
      ]
    },
    {
      "cell_type": "code",
      "source": [
        "#34\n",
        "class Mammal:\n",
        "    def reproduce(self):\n",
        "        print(\"Giving birth to live young\")\n",
        "\n",
        "class Dog(Animal):\n",
        "    def move(self):\n",
        "        print(\"Dog runs\")\n",
        "\n",
        "class WolfMammal(Dog, Mammal):\n",
        "    pass\n",
        "\n",
        "wolf=WolfMammal()\n",
        "wolf.reproduce()\n",
        "wolf.move()"
      ],
      "metadata": {
        "colab": {
          "base_uri": "https://localhost:8080/"
        },
        "id": "Iz8burMkv1jq",
        "outputId": "6655aeed-d12c-4080-b215-0c7d4ae39379"
      },
      "execution_count": 38,
      "outputs": [
        {
          "output_type": "stream",
          "name": "stdout",
          "text": [
            "Giving birth to live young\n",
            "Dog runs\n"
          ]
        }
      ]
    },
    {
      "cell_type": "code",
      "source": [
        "#35\n",
        "class GermanShepherd(Dog):\n",
        "    def make_sound(self):\n",
        "        print(\"Bark!\")\n",
        "\n",
        "germanshepherd=GermanShepherd()\n",
        "germanshepherd.make_sound()"
      ],
      "metadata": {
        "colab": {
          "base_uri": "https://localhost:8080/"
        },
        "id": "te9x2cZQwyU2",
        "outputId": "df56203e-7af3-4291-8461-8094ddc7bd64"
      },
      "execution_count": 39,
      "outputs": [
        {
          "output_type": "stream",
          "name": "stdout",
          "text": [
            "Bark!\n"
          ]
        }
      ]
    },
    {
      "cell_type": "code",
      "source": [
        "#36\n",
        "class Animal:\n",
        "    def __init__(self, name):\n",
        "        self.name=name\n",
        "\n",
        "    def make_sound(self):\n",
        "        print(\"Generic animal sound\")\n",
        "\n",
        "class Dog(Animal):\n",
        "    def __init__(self, name, breed):\n",
        "        super().__init__(name)\n",
        "        self.breed=breed\n",
        "\n",
        "    def make_sound(self):\n",
        "        print(\"Woof!\")\n",
        "\n",
        "generic_animal=Animal(\"Generic\")\n",
        "dog = Dog(\"Buddy\",\"Golden Retriever\")\n",
        "\n",
        "print(generic_animal.name)\n",
        "print(dog.name)\n",
        "print(dog.breed)\n",
        "dog.make_sound()"
      ],
      "metadata": {
        "colab": {
          "base_uri": "https://localhost:8080/"
        },
        "id": "nwLFMRbIx_zR",
        "outputId": "9acddfd9-9b10-4ec6-9e1a-2a8212be99be"
      },
      "execution_count": 40,
      "outputs": [
        {
          "output_type": "stream",
          "name": "stdout",
          "text": [
            "Generic\n",
            "Buddy\n",
            "Golden Retriever\n",
            "Woof!\n"
          ]
        }
      ]
    },
    {
      "cell_type": "code",
      "source": [
        "#37\n",
        "'''\n",
        "Abstraction is a concept in OOP that hides the complex implementation details and shows only the essential features of an object. In Python, abstraction is implemented using abstract classes and methods.\n",
        "\n",
        "Abstract Class: A class that cannot be instantiated on its own and is meant to be subclassed. It can contain abstract methods that must be implemented by subclasses.\n",
        "Abstract Method: A method declared in an abstract class that has no implementation in the abstract class and must be overridden in derived classes.\n",
        "'''"
      ],
      "metadata": {
        "id": "3Z8Fq4F5y5Pq"
      },
      "execution_count": null,
      "outputs": []
    },
    {
      "cell_type": "code",
      "source": [
        "#38\n",
        "'''\n",
        "Importance of Abstraction in Object-Oriented Programming\n",
        "Simplifies Complex Systems: By hiding implementation details, abstraction helps in managing complex systems more easily.\n",
        "Enhances Code Maintenance: Changes to implementation do not affect other parts of the system that use the abstract interface.\n",
        "Promotes Code Reusability: Abstract classes can define common methods for all derived classes, promoting reuse and consistency.\n",
        "'''"
      ],
      "metadata": {
        "id": "mAPanj7WyYl0"
      },
      "execution_count": null,
      "outputs": []
    },
    {
      "cell_type": "code",
      "source": [
        "#39\n",
        "'''\n",
        "Differences Between Abstract Methods and Regular Methods in Python\n",
        "Abstract Methods: Do not have an implementation in the abstract class; they must be overridden in derived classes.\n",
        "Regular Methods: Have an implementation in the class where they are defined and can be directly used or overridden in subclasses.\n",
        "'''"
      ],
      "metadata": {
        "id": "8EMr8ZM8zBFT"
      },
      "execution_count": null,
      "outputs": []
    },
    {
      "cell_type": "code",
      "source": [
        "#40\n",
        "from abc import ABC, abstractmethod\n",
        "class InterfaceExample(ABC):\n",
        "    @abstractmethod\n",
        "    def some_method(self):\n",
        "        pass\n",
        "\n",
        "class Implementation(InterfaceExample):\n",
        "    def some_method(self):\n",
        "        print(\"Method implementation\")\n",
        "\n",
        "impl = Implementation()\n",
        "impl.some_method()"
      ],
      "metadata": {
        "colab": {
          "base_uri": "https://localhost:8080/"
        },
        "id": "8To0gZYFzL55",
        "outputId": "c1c4981e-f9c4-4c03-c060-54091d94984c"
      },
      "execution_count": 41,
      "outputs": [
        {
          "output_type": "stream",
          "name": "stdout",
          "text": [
            "Method implementation\n"
          ]
        }
      ]
    },
    {
      "cell_type": "code",
      "source": [
        "#42\n",
        "class Animal:\n",
        "    def make_sound(self):\n",
        "        return \"Some generic animal sound\"\n",
        "\n",
        "class Dog(Animal):\n",
        "    def make_sound(self):\n",
        "        return \"Woof!\"\n",
        "\n",
        "def make_animal_speak(animal):\n",
        "    print(animal.make_sound())\n",
        "\n",
        "dog = Dog()\n",
        "make_animal_speak(dog)"
      ],
      "metadata": {
        "colab": {
          "base_uri": "https://localhost:8080/"
        },
        "id": "oV0zhuY6zVyr",
        "outputId": "4f006024-e25a-48db-cbba-ac842957cb8e"
      },
      "execution_count": 42,
      "outputs": [
        {
          "output_type": "stream",
          "name": "stdout",
          "text": [
            "Woof!\n"
          ]
        }
      ]
    },
    {
      "cell_type": "code",
      "source": [
        "#43\n",
        "class Shape:\n",
        "    def area(self):\n",
        "        raise NotImplementedError(\"Subclass must implement abstract method\")\n",
        "\n",
        "class Circle(Shape):\n",
        "    def __init__(self, radius):\n",
        "        self.radius = radius\n",
        "\n",
        "    def area(self):\n",
        "        return 3.14 * self.radius * self.radius\n",
        "\n",
        "class Rectangle(Shape):\n",
        "    def __init__(self, width, height):\n",
        "        self.width = width\n",
        "        self.height = height\n",
        "\n",
        "    def area(self):\n",
        "        return self.width * self.height\n",
        "\n",
        "circle = Circle(5)\n",
        "rectangle = Rectangle(4, 6)\n",
        "\n",
        "print(circle.area())\n",
        "print(rectangle.area())"
      ],
      "metadata": {
        "colab": {
          "base_uri": "https://localhost:8080/"
        },
        "id": "gaO9Wg92zmje",
        "outputId": "ab8853bc-bb14-49f7-c626-33500b6ff333"
      },
      "execution_count": 43,
      "outputs": [
        {
          "output_type": "stream",
          "name": "stdout",
          "text": [
            "78.5\n",
            "24\n"
          ]
        }
      ]
    },
    {
      "cell_type": "code",
      "source": [
        "#46\n",
        "class Duck:\n",
        "    def quack(self):\n",
        "        return \"Quack!\"\n",
        "\n",
        "class Person:\n",
        "    def quack(self):\n",
        "        return \"I am quacking!\"\n",
        "\n",
        "def make_it_quack(being):\n",
        "    print(being.quack())\n",
        "\n",
        "duck = Duck()\n",
        "person = Person()\n",
        "\n",
        "make_it_quack(duck)\n",
        "make_it_quack(person)"
      ],
      "metadata": {
        "colab": {
          "base_uri": "https://localhost:8080/"
        },
        "id": "EP2ZWA0Zz0OE",
        "outputId": "4097412d-07b0-410f-e1cf-eaab4a666b20"
      },
      "execution_count": 44,
      "outputs": [
        {
          "output_type": "stream",
          "name": "stdout",
          "text": [
            "Quack!\n",
            "I am quacking!\n"
          ]
        }
      ]
    },
    {
      "cell_type": "code",
      "source": [],
      "metadata": {
        "id": "TUki-S4N0PYX"
      },
      "execution_count": null,
      "outputs": []
    }
  ]
}